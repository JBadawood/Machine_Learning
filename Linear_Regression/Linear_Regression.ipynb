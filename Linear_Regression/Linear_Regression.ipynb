{
  "nbformat": 4,
  "nbformat_minor": 0,
  "metadata": {
    "colab": {
      "provenance": [],
      "collapsed_sections": [],
      "authorship_tag": "ABX9TyPZEdLksngATALcEVuu5tnm",
      "include_colab_link": true
    },
    "kernelspec": {
      "name": "python3",
      "display_name": "Python 3"
    },
    "language_info": {
      "name": "python"
    }
  },
  "cells": [
    {
      "cell_type": "markdown",
      "metadata": {
        "id": "view-in-github",
        "colab_type": "text"
      },
      "source": [
        "<a href=\"https://colab.research.google.com/github/JBadawood/Machine_Learning/blob/main/Linear_Regression/Linear_Regression.ipynb\" target=\"_parent\"><img src=\"https://colab.research.google.com/assets/colab-badge.svg\" alt=\"Open In Colab\"/></a>"
      ]
    },
    {
      "cell_type": "markdown",
      "source": [
        "# Machine Learning | Linear Regression\n"
      ],
      "metadata": {
        "id": "yBFK3ChkaOPE"
      }
    },
    {
      "cell_type": "markdown",
      "source": [
        "واحدة من أهم المهام لتعلم الآلة هي التنبؤ. وتكون عبر إعطاء بعض المعلومات التي تلخص المتغير المستقل وذلك للتنبؤ بقيمة أخرى (متغير تابع)\n",
        "مثل إعطاء قيم الأطوال للتنبؤ بأوزان الأشخاص\n",
        "\n",
        "$Y = g(X)$\\\n",
        "$Weight = g(Height)$\n",
        "\n",
        "العادة راح يكون لدينا مجموعة بيانات التدريب training dataset \n",
        "عشان نوجد الدالة الصحيحة لـ g راح نسمي هذه الخطوة بـ regression\n",
        "\n",
        "أسهل طريقة كبداية أننا تفترض هذه الدالة على أنها دالة خطية linear function"
      ],
      "metadata": {
        "id": "Hr_eEVLUoSLi"
      }
    },
    {
      "cell_type": "markdown",
      "source": [
        "## **1- What is Linear Regression?**\n",
        "\n",
        "[Linear Regression in 2 minutes](https://www.youtube.com/watch?v=CtsRRUddV2s)\n"
      ],
      "metadata": {
        "id": "tF2iXLZ2aSnI"
      }
    },
    {
      "cell_type": "markdown",
      "source": [
        "**Linear Regression**\\\n",
        "$g(x) = \\alpha x + β$\n",
        "\n",
        "$\\alpha: $ هي الميل للخط السابق\\\n",
        "$\\beta:$ هي التقاطع مع محور y (يعني لمن تكون x بصفر)\n",
        "\n",
        "\n"
      ],
      "metadata": {
        "id": "AKgsXKrHqQ-3"
      }
    },
    {
      "cell_type": "markdown",
      "source": [
        "كيف نحصل على القيمتين السابقتين؟\\\n",
        "How to fit the line?\n",
        "\n",
        "نقدر نجيبها بالمعادلات يدويًا\n",
        "\n",
        "$\\alpha = \\frac{\\sum_ix_iy_i - \\sum_ix_i\\sum_iy_i}{\\sum_ix_i^2-(\\sum_ix_i)^2}$\n",
        "\n",
        "$\\beta = \\frac{1}{n}\\sum_iy_i-\\alpha \\frac{1}{n}\\sum_ix_i$\n",
        "\n",
        "وهكذا يكون حلينا مسألة التنبؤ باستخدام تعلم الآلة بإيجاد معادلة الخط (لمعامل واحد)\\\n",
        "فقط كل ما علينا أننا نعوض في المعادلة التالية للتنبؤ بالقيمة حق y \n",
        "$g(x) = \\alpha x + β$"
      ],
      "metadata": {
        "id": "yqggt8f-rnL0"
      }
    },
    {
      "cell_type": "markdown",
      "source": [
        "### **1-1 Simple Linear Regression**\n",
        "بدل ما نستخدم الحل بالتعويض في المسائل السابقة راح نستخدم هنا بايثون "
      ],
      "metadata": {
        "id": "T7HFVZ-fvUk_"
      }
    },
    {
      "cell_type": "code",
      "execution_count": 1,
      "metadata": {
        "id": "lRv-nvdNaGiY"
      },
      "outputs": [],
      "source": [
        "# import the linear model from scikit-learn:\n",
        "from sklearn.linear_model import LinearRegression"
      ]
    },
    {
      "cell_type": "code",
      "source": [
        "# Regression Model\n",
        "reg = LinearRegression()"
      ],
      "metadata": {
        "id": "eHRH--SZweD-"
      },
      "execution_count": 2,
      "outputs": []
    },
    {
      "cell_type": "code",
      "source": [
        "# training data\n",
        "X = [[1],[2],[3],[4],[5],[6]]\n",
        "Y = [2, 2.5, 4.5, 3, 5, 4.7]"
      ],
      "metadata": {
        "id": "BMBcRMw9wqBW"
      },
      "execution_count": 3,
      "outputs": []
    },
    {
      "cell_type": "code",
      "source": [
        "# to make data visualization\n",
        "import matplotlib.pyplot as plt"
      ],
      "metadata": {
        "id": "-B_QxjRux67d"
      },
      "execution_count": 6,
      "outputs": []
    },
    {
      "cell_type": "code",
      "source": [
        "# Plotting scatter plot for our data\n",
        "plt.scatter(X,Y, color = 'red');"
      ],
      "metadata": {
        "colab": {
          "base_uri": "https://localhost:8080/",
          "height": 265
        },
        "id": "yQhfK8VUyJuH",
        "outputId": "08ff59ec-b270-472d-d953-fd8086c686b2"
      },
      "execution_count": 9,
      "outputs": [
        {
          "output_type": "display_data",
          "data": {
            "text/plain": [
              "<Figure size 432x288 with 1 Axes>"
            ],
            "image/png": "[encoded data removed]"
          },
          "metadata": {
            "needs_background": "light"
          }
        }
      ]
    },
    {
      "cell_type": "code",
      "source": [
        "# Call fit function\n",
        "reg.fit(X,Y)"
      ],
      "metadata": {
        "colab": {
          "base_uri": "https://localhost:8080/"
        },
        "id": "fL1JqSM9w_Sa",
        "outputId": "7432554a-fce0-4429-87db-d7b14632e35d"
      },
      "execution_count": 4,
      "outputs": [
        {
          "output_type": "execute_result",
          "data": {
            "text/plain": [
              "LinearRegression()"
            ]
          },
          "metadata": {},
          "execution_count": 4
        }
      ]
    },
    {
      "cell_type": "code",
      "source": [
        "# Plotting after fitting the line\n",
        "plt.scatter(X,Y, color = 'red')\n",
        "plt.plot(X, reg.predict(X), color = 'green');"
      ],
      "metadata": {
        "colab": {
          "base_uri": "https://localhost:8080/",
          "height": 265
        },
        "id": "rcIfrqEXy7v2",
        "outputId": "2f0d4885-ae8e-4b14-caf4-88e9f36f3e8c"
      },
      "execution_count": 12,
      "outputs": [
        {
          "output_type": "display_data",
          "data": {
            "text/plain": [
              "<Figure size 432x288 with 1 Axes>"
            ],
            "image/png": "[encoded data removed]"
          },
          "metadata": {
            "needs_background": "light"
          }
        }
      ]
    },
    {
      "cell_type": "code",
      "source": [
        "# Get prediction\n",
        "reg.predict([[5.5]]) # if x = 5.5 what is value of y?"
      ],
      "metadata": {
        "colab": {
          "base_uri": "https://localhost:8080/"
        },
        "id": "qctuixVlxH_j",
        "outputId": "19043e41-cc21-4bec-8797-d583a0c36216"
      },
      "execution_count": 5,
      "outputs": [
        {
          "output_type": "execute_result",
          "data": {
            "text/plain": [
              "array([4.73095238])"
            ]
          },
          "metadata": {},
          "execution_count": 5
        }
      ]
    },
    {
      "cell_type": "code",
      "source": [
        "# Plotting the prediced value\n",
        "plt.scatter(X,Y, color = 'red')\n",
        "plt.plot(X, reg.predict(X), color = 'green')\n",
        "plt.plot(5.5, reg.predict([[5.5]]), 'ro',color='blue');"
      ],
      "metadata": {
        "colab": {
          "base_uri": "https://localhost:8080/",
          "height": 265
        },
        "id": "509d7hjUyvDc",
        "outputId": "3717b068-e80c-4469-f52a-27547eab23ab"
      },
      "execution_count": 32,
      "outputs": [
        {
          "output_type": "display_data",
          "data": {
            "text/plain": [
              "<Figure size 432x288 with 1 Axes>"
            ],
            "image/png": "[encoded data removed]"
          },
          "metadata": {
            "needs_background": "light"
          }
        }
      ]
    }
  ]
}