{
  "nbformat": 4,
  "nbformat_minor": 0,
  "metadata": {
    "colab": {
      "provenance": [],
      "collapsed_sections": [
        "tF2iXLZ2aSnI",
        "U2S1B3wTWTV7",
        "V16LdncIsXrz",
        "ekpLDq6ZyKIn",
        "E9NpRLp32NtB",
        "ZcTbC7Tr2UrC",
        "cqieYt4o4xng",
        "0fTiL4Fp5bzx",
        "jXeX619cC6YM",
        "lMao0WXGD8-Z",
        "mil_5lUPH2hW",
        "FRQGBjbwJWQp",
        "yjv_DZpm1y5N",
        "98mKzglv1tVV",
        "NA6dtAlq2DoN",
        "s91uCRzE2-Fw",
        "Mi9_7LxA4qka",
        "Wned2E5j5AcH",
        "_Sq3oboiARsb",
        "7_3PPe1DCxT3",
        "sDjV2xzXDz0L",
        "vv7j5dKP_uRE",
        "XcsGcMD-cupG",
        "iO1f0y1teJrK",
        "AGP-16voisNT",
        "-C9eJPsqrZ5B",
        "1rn7DyB0XG7l",
        "ZWzR-YxkWUTr",
        "PBMYTXkA92mk",
        "XV6BBIvaBUzR",
        "y0b_c6ZvFYDH",
        "YgV2w_MoHuze",
        "9qrbQV7VbHf2"
      ],
      "toc_visible": true,
      "mount_file_id": "1YuA8EHlJfhSz2D3yVrfabYdcS4Jgi3ch",
      "authorship_tag": "ABX9TyM18/Y/nYMsyqj15fF+j432",
      "include_colab_link": true
    },
    "kernelspec": {
      "name": "python3",
      "display_name": "Python 3"
    },
    "language_info": {
      "name": "python"
    }
  },
  "cells": [
    {
      "cell_type": "markdown",
      "metadata": {
        "id": "view-in-github",
        "colab_type": "text"
      },
      "source": [
        "<a href=\"https://colab.research.google.com/github/JBadawood/Machine_Learning/blob/main/Linear_Regression/Linear_Regression.ipynb\" target=\"_parent\"><img src=\"https://colab.research.google.com/assets/colab-badge.svg\" alt=\"Open In Colab\"/></a>"
      ]
    },
    {
      "cell_type": "markdown",
      "source": [
        "# Machine Learning | Linear Regression\n",
        "The most known and famous **Machine Learning algorithm** is: *Linear Regression*.\\\n",
        "It is a **statistical method** that is used for **predictive analysis**.\n"
      ],
      "metadata": {
        "id": "yBFK3ChkaOPE"
      }
    },
    {
      "cell_type": "markdown",
      "source": [
        "**تحليل الانحدار**\\\n",
        "*أسلوب إحصائي لتحديد العلاقة بين **المتغيرات التابعة** و**المستقلة**. يطلق عليه أيضًا \"**انحدار**\" أو \"**نموذج انحدار**\".*\n",
        "\n",
        "**Regression Analysis**\\\n",
        "*A statistical technique for determining the relationship between **dependent** and **independent variables**. Also called \"**Regression**\" or \"**Regression Model**\".*\n",
        ">المصدر: [معجـــم البيانـــات والـــذكاء االصطناعـــي](https://sdaia.gov.sa/files/Dictionary.pdf) من الهيئة السعودية للبيانات والذكاء الاصطناعي بالتعاون مع مجمع الملك سلمان العالمي للغة العربية (الطبعة الأولى 2022)"
      ],
      "metadata": {
        "id": "jrWf3AE4TgAT"
      }
    },
    {
      "cell_type": "markdown",
      "source": [
        "**Linear Regression**\\\n",
        "Dive into Deep Learning\n",
        ">Interactive deep learning book with code, math, and discussions\\\n",
        "Implemented with PyTorch, NumPy/MXNet, and TensorFlow\\\n",
        "https://d2l.ai/chapter_linear-regression/linear-regression.html"
      ],
      "metadata": {
        "id": "ynhUTtMrbCyp"
      }
    },
    {
      "cell_type": "markdown",
      "source": [
        "واحدة من أهم المهام لتعلم الآلة هي التنبؤ بما سيحدث (توقع المستقبل). وتكون عبر إعطاء بعض المعلومات التي تلخص المتغير المستقل وذلك للتنبؤ بقيمة أخرى (متغير تابع)\n",
        "مثل إعطاء قيم الأطوال للتنبؤ بأوزان الأشخاص\n",
        "\n",
        "$Y = g(X)$\\\n",
        "$Weight = g(Height)$\n",
        "\n",
        "العادة راح يكون لدينا مجموعة بيانات التدريب training dataset \n",
        "عشان نوجد الدالة الصحيحة لـ g راح نسمي هذه الخطوة بـ regression\n",
        "\n",
        "أسهل طريقة كبداية أننا نفترض هذه الدالة على أنها دالة خطية linear function"
      ],
      "metadata": {
        "id": "Hr_eEVLUoSLi"
      }
    },
    {
      "cell_type": "markdown",
      "source": [
        "**LINEAR REGRESSION | MLU EXPLAIN**\\\n",
        "A Visual Introduction To (Almost) Everything You Should Know\\\n",
        "*Jared Wilber, September 2022*\\\n",
        "https://mlu-explain.github.io/linear-regression/\n",
        "\n",
        "> [MLU-EXPLAIN](https://mlu-explain.github.io/)\\\n",
        "*Visual explanations of core machine learning concepts*\\\n",
        "> **Machine Learning University (MLU)** is an education initiative from Amazon designed to teach **machine learning theory** and **practical application**.\\\n",
        "> As part of that goal, MLU-Explain exists to teach important **machine learning concepts** through visual essays in a fun, informative, and accessible manner."
      ],
      "metadata": {
        "id": "SsMJAua6Rdyt"
      }
    },
    {
      "cell_type": "markdown",
      "source": [
        "## **1- What is Linear Regression?**\n",
        "\n",
        "[Linear Regression in 2 minutes](https://www.youtube.com/watch?v=CtsRRUddV2s)\n"
      ],
      "metadata": {
        "id": "tF2iXLZ2aSnI"
      }
    },
    {
      "cell_type": "markdown",
      "source": [
        "**Linear Regression**\\\n",
        "$g(x) = \\alpha x + β$\n",
        "\n",
        "$\\alpha: $ هي الميل للخط السابق\\\n",
        "$\\beta:$ هي التقاطع مع محور y (يعني لمن تكون x بصفر)\n",
        "\n",
        "\n"
      ],
      "metadata": {
        "id": "AKgsXKrHqQ-3"
      }
    },
    {
      "cell_type": "markdown",
      "source": [
        "كيف نحصل على القيمتين السابقتين؟\\\n",
        "How to fit the line?\n",
        "\n",
        "نقدر نجيبها بالمعادلات يدويًا\n",
        "\n",
        "$\\alpha = \\frac{\\sum_ix_iy_i - \\sum_ix_i\\sum_iy_i}{\\sum_ix_i^2-(\\sum_ix_i)^2}$\n",
        "\n",
        "$\\beta = \\frac{1}{n}\\sum_iy_i-\\alpha \\frac{1}{n}\\sum_ix_i$\n",
        "\n",
        "or by **Ordinary Least Squares (OLS) Method**:\n",
        "\n",
        "$\\alpha = \\frac{\\sum(x_i-\\bar{x})(y_i-\\bar{y})}{\\sum(x_i-\\bar{x})^2}$\n",
        "\n",
        "$\\beta = \\bar{y}-\\alpha*\\bar{x}$\n",
        "\n",
        "وهكذا يكون حلينا مسألة التنبؤ باستخدام تعلم الآلة بإيجاد معادلة الخط (لمعامل واحد)\\\n",
        "فقط كل ما علينا أننا نعوض في المعادلة التالية للتنبؤ بالقيمة حق y\\\n",
        "$g(x) = \\alpha x + β$"
      ],
      "metadata": {
        "id": "yqggt8f-rnL0"
      }
    },
    {
      "cell_type": "markdown",
      "source": [
        "### **1-1 Simple Linear Regression**\n",
        "بدل ما نستخدم الحل بالتعويض في المسائل السابقة راح نستخدم هنا بايثون عشان نرسم scatter plot و نوضح أفضل خط"
      ],
      "metadata": {
        "id": "T7HFVZ-fvUk_"
      }
    },
    {
      "cell_type": "code",
      "execution_count": null,
      "metadata": {
        "id": "lRv-nvdNaGiY"
      },
      "outputs": [],
      "source": [
        "# import the linear model from scikit-learn:\n",
        "from sklearn.linear_model import LinearRegression"
      ]
    },
    {
      "cell_type": "code",
      "source": [
        "# Regression Model\n",
        "reg = LinearRegression()"
      ],
      "metadata": {
        "id": "eHRH--SZweD-"
      },
      "execution_count": null,
      "outputs": []
    },
    {
      "cell_type": "code",
      "source": [
        "# training data\n",
        "X = [[1],[2],[3],[4],[5],[6]]\n",
        "Y = [2, 2.5, 4.5, 3, 5, 4.7]"
      ],
      "metadata": {
        "id": "BMBcRMw9wqBW"
      },
      "execution_count": null,
      "outputs": []
    },
    {
      "cell_type": "code",
      "source": [
        "# to make data visualization\n",
        "import matplotlib.pyplot as plt"
      ],
      "metadata": {
        "id": "-B_QxjRux67d"
      },
      "execution_count": null,
      "outputs": []
    },
    {
      "cell_type": "code",
      "source": [
        "# Plotting scatter plot for our data\n",
        "plt.scatter(X,Y, color = 'red');"
      ],
      "metadata": {
        "colab": {
          "base_uri": "https://localhost:8080/",
          "height": 265
        },
        "id": "yQhfK8VUyJuH",
        "outputId": "08ff59ec-b270-472d-d953-fd8086c686b2"
      },
      "execution_count": null,
      "outputs": [
        {
          "output_type": "display_data",
          "data": {
            "text/plain": [
              "<Figure size 432x288 with 1 Axes>"
            ],
            "image/png": "[encoded data removed]"
          },
          "metadata": {
            "needs_background": "light"
          }
        }
      ]
    },
    {
      "cell_type": "code",
      "source": [
        "# Call fit function\n",
        "reg.fit(X,Y)"
      ],
      "metadata": {
        "colab": {
          "base_uri": "https://localhost:8080/"
        },
        "id": "fL1JqSM9w_Sa",
        "outputId": "7432554a-fce0-4429-87db-d7b14632e35d"
      },
      "execution_count": null,
      "outputs": [
        {
          "output_type": "execute_result",
          "data": {
            "text/plain": [
              "LinearRegression()"
            ]
          },
          "metadata": {},
          "execution_count": 4
        }
      ]
    },
    {
      "cell_type": "code",
      "source": [
        "# Plotting after fitting the line\n",
        "plt.scatter(X,Y, color = 'red')\n",
        "plt.plot(X, reg.predict(X), color = 'green');"
      ],
      "metadata": {
        "colab": {
          "base_uri": "https://localhost:8080/",
          "height": 265
        },
        "id": "rcIfrqEXy7v2",
        "outputId": "2f0d4885-ae8e-4b14-caf4-88e9f36f3e8c"
      },
      "execution_count": null,
      "outputs": [
        {
          "output_type": "display_data",
          "data": {
            "text/plain": [
              "<Figure size 432x288 with 1 Axes>"
            ],
            "image/png": "[encoded data removed]"
          },
          "metadata": {
            "needs_background": "light"
          }
        }
      ]
    },
    {
      "cell_type": "code",
      "source": [
        "# Get prediction\n",
        "reg.predict([[5.5]]) # if x = 5.5 what is value of y?"
      ],
      "metadata": {
        "colab": {
          "base_uri": "https://localhost:8080/"
        },
        "id": "qctuixVlxH_j",
        "outputId": "19043e41-cc21-4bec-8797-d583a0c36216"
      },
      "execution_count": null,
      "outputs": [
        {
          "output_type": "execute_result",
          "data": {
            "text/plain": [
              "array([4.73095238])"
            ]
          },
          "metadata": {},
          "execution_count": 5
        }
      ]
    },
    {
      "cell_type": "code",
      "source": [
        "# Plotting the prediced value\n",
        "plt.scatter(X,Y, color = 'red')\n",
        "plt.plot(X, reg.predict(X), color = 'green')\n",
        "plt.plot(5.5, reg.predict([[5.5]]), 'ro',color='blue');"
      ],
      "metadata": {
        "colab": {
          "base_uri": "https://localhost:8080/",
          "height": 265
        },
        "id": "509d7hjUyvDc",
        "outputId": "3717b068-e80c-4469-f52a-27547eab23ab"
      },
      "execution_count": null,
      "outputs": [
        {
          "output_type": "display_data",
          "data": {
            "text/plain": [
              "<Figure size 432x288 with 1 Axes>"
            ],
            "image/png": "[encoded data removed]"
          },
          "metadata": {
            "needs_background": "light"
          }
        }
      ]
    },
    {
      "cell_type": "markdown",
      "source": [
        "### **1-2 Machine Learning - Simple Linear Regression**\n",
        "https://www.w3schools.com/python/python_ml_linear_regression.asp\n",
        "\n",
        "**Regression**\\\n",
        "The term regression is used when you try to find the relationship between variables.\n",
        "\n",
        "In **Machine Learning**, and in **statistical modeling**, that relationship is used *to predict the outcome of future events*."
      ],
      "metadata": {
        "id": "U2S1B3wTWTV7"
      }
    },
    {
      "cell_type": "markdown",
      "source": [
        "في المثال التالي:\n",
        "عندنا محور السينات يمثل عمر السيارة ومحور الصادات هو سرعة السيارة"
      ],
      "metadata": {
        "id": "xYyqSpFBdr2S"
      }
    },
    {
      "cell_type": "code",
      "source": [
        "import matplotlib.pyplot as plt\n",
        "x = [5,7,8,7,2,17,2,9,4,11,12,9,6] # أعمار السيارات\n",
        "y = [99,86,87,88,111,86,103,87,94,78,77,85,86] # سرعات السيارات"
      ],
      "metadata": {
        "id": "4KDU5MayXAVh"
      },
      "execution_count": null,
      "outputs": []
    },
    {
      "cell_type": "code",
      "source": [
        "# Plotting scatter plot of x & y\n",
        "plt.scatter(x,y)\n",
        "plt.show()"
      ],
      "metadata": {
        "colab": {
          "base_uri": "https://localhost:8080/",
          "height": 265
        },
        "id": "fjtulXVmeTmN",
        "outputId": "4140cb03-842d-4196-9fa2-44737582fefb"
      },
      "execution_count": null,
      "outputs": [
        {
          "output_type": "display_data",
          "data": {
            "text/plain": [
              "<Figure size 432x288 with 1 Axes>"
            ],
            "image/png": "[encoded data removed]"
          },
          "metadata": {
            "needs_background": "light"
          }
        }
      ]
    },
    {
      "cell_type": "markdown",
      "source": [
        "الآن راح نرسم خط الإنحدار الأفضل للانتشار السابق بس قبلها نحتاج نوجد بعض الأرقام اللي نحتاجها في تحديد أفضل خط وهي:\n",
        "- slope\n",
        "- intercept\n",
        "- rvalue\n",
        "- pvalue\n",
        "- stderr"
      ],
      "metadata": {
        "id": "ucgoHjj1ejf9"
      }
    },
    {
      "cell_type": "code",
      "source": [
        "from scipy import stats"
      ],
      "metadata": {
        "id": "B79ppnyXeb1S"
      },
      "execution_count": null,
      "outputs": []
    },
    {
      "cell_type": "code",
      "source": [
        "stats.linregress(x,y)"
      ],
      "metadata": {
        "colab": {
          "base_uri": "https://localhost:8080/"
        },
        "id": "BegPaNbgfVxt",
        "outputId": "d7b8442d-2c52-47e0-a0d1-28f7bd08aa00"
      },
      "execution_count": null,
      "outputs": [
        {
          "output_type": "execute_result",
          "data": {
            "text/plain": [
              "LinregressResult(slope=-1.7512877115526118, intercept=103.10596026490066, rvalue=-0.758591524376155, pvalue=0.0026468739224561064, stderr=0.453536157607742, intercept_stderr=3.9034928101545123)"
            ]
          },
          "metadata": {},
          "execution_count": 5
        }
      ]
    },
    {
      "cell_type": "markdown",
      "source": [
        "راح نحفظ الأرقام في متغيرات عشان نقدر نستخدمها في الخطوة التالية\n",
        "\n",
        "to fit the linear model"
      ],
      "metadata": {
        "id": "3exs5JcvffXL"
      }
    },
    {
      "cell_type": "code",
      "source": [
        "slope, intercept, r, p, std_err = stats.linregress(x,y)"
      ],
      "metadata": {
        "id": "nyPeQObwfbx4"
      },
      "execution_count": null,
      "outputs": []
    },
    {
      "cell_type": "code",
      "source": [
        "print('slope = {}\\nintercept = {}\\nr = {}\\np = {}\\nstd_err = {}'.format(slope, intercept, r, p, std_err))"
      ],
      "metadata": {
        "colab": {
          "base_uri": "https://localhost:8080/"
        },
        "id": "N8p_AgkZf-8Y",
        "outputId": "a3ac2f5f-3917-4486-f46a-a1879c2a6c7d"
      },
      "execution_count": null,
      "outputs": [
        {
          "output_type": "stream",
          "name": "stdout",
          "text": [
            "slope = -1.7512877115526118\n",
            "intercept = 103.10596026490066\n",
            "r = -0.758591524376155\n",
            "p = 0.0026468739224561064\n",
            "std_err = 0.453536157607742\n"
          ]
        }
      ]
    },
    {
      "cell_type": "markdown",
      "source": [
        "نعمل function عشان يحسب قيمة الـ x  المتوقعة"
      ],
      "metadata": {
        "id": "eTMf_UF6gyFa"
      }
    },
    {
      "cell_type": "code",
      "source": [
        "def myfunc(x):\n",
        "    return slope * x + intercept"
      ],
      "metadata": {
        "id": "n19C7PZWgU2u"
      },
      "execution_count": null,
      "outputs": []
    },
    {
      "cell_type": "code",
      "source": [
        "myfunc(5)"
      ],
      "metadata": {
        "colab": {
          "base_uri": "https://localhost:8080/"
        },
        "id": "Ucy9toZXhGjj",
        "outputId": "8ad71a21-8524-4100-d71b-f79312283025"
      },
      "execution_count": null,
      "outputs": [
        {
          "output_type": "execute_result",
          "data": {
            "text/plain": [
              "94.3495217071376"
            ]
          },
          "metadata": {},
          "execution_count": 10
        }
      ]
    },
    {
      "cell_type": "markdown",
      "source": [
        "نوجد قيم النموذج الخطي عبر التعويض بقيم أعمار السيارات"
      ],
      "metadata": {
        "id": "XceZ_SBEhQD0"
      }
    },
    {
      "cell_type": "code",
      "source": [
        "map(myfunc,x)"
      ],
      "metadata": {
        "colab": {
          "base_uri": "https://localhost:8080/"
        },
        "id": "xnQTMIVFhe2f",
        "outputId": "48bf4930-67c4-43b4-8fac-709cb91bd7a2"
      },
      "execution_count": null,
      "outputs": [
        {
          "output_type": "execute_result",
          "data": {
            "text/plain": [
              "<map at 0x7f2654a95310>"
            ]
          },
          "metadata": {},
          "execution_count": 12
        }
      ]
    },
    {
      "cell_type": "code",
      "source": [
        "list(map(myfunc, x))"
      ],
      "metadata": {
        "colab": {
          "base_uri": "https://localhost:8080/"
        },
        "id": "2N7dBElOhJoY",
        "outputId": "79252e4b-7485-4c73-8a9f-25c4feb12e54"
      },
      "execution_count": null,
      "outputs": [
        {
          "output_type": "execute_result",
          "data": {
            "text/plain": [
              "[94.3495217071376,\n",
              " 90.84694628403238,\n",
              " 89.09565857247976,\n",
              " 90.84694628403238,\n",
              " 99.60338484179543,\n",
              " 73.33406916850626,\n",
              " 99.60338484179543,\n",
              " 87.34437086092716,\n",
              " 96.10080941869022,\n",
              " 83.84179543782193,\n",
              " 82.09050772626932,\n",
              " 87.34437086092716,\n",
              " 92.59823399558499]"
            ]
          },
          "metadata": {},
          "execution_count": 11
        }
      ]
    },
    {
      "cell_type": "markdown",
      "source": [
        "نرسم أفضل انحدار خط للانتشار السابق"
      ],
      "metadata": {
        "id": "F-mCFDk-hwJn"
      }
    },
    {
      "cell_type": "code",
      "source": [
        "mymodel = list(map(myfunc, x))\n",
        "\n",
        "plt.scatter(x,y)\n",
        "plt.plot(x,mymodel)\n",
        "plt.show()"
      ],
      "metadata": {
        "colab": {
          "base_uri": "https://localhost:8080/",
          "height": 265
        },
        "id": "yFe0y4NQhW_6",
        "outputId": "def0926a-9d6a-4852-9d12-4246c2b696a9"
      },
      "execution_count": null,
      "outputs": [
        {
          "output_type": "display_data",
          "data": {
            "text/plain": [
              "<Figure size 432x288 with 1 Axes>"
            ],
            "image/png": "[encoded data removed]"
          },
          "metadata": {
            "needs_background": "light"
          }
        }
      ]
    },
    {
      "cell_type": "markdown",
      "source": [
        "لو نبغى نتوقع سرعة سيارة عمرها 10 سنوات نستخدم التالي"
      ],
      "metadata": {
        "id": "Bv2LFPukifHg"
      }
    },
    {
      "cell_type": "code",
      "source": [
        "print(\"The speed of a 10 years old car is {}\".format(myfunc(10)))"
      ],
      "metadata": {
        "colab": {
          "base_uri": "https://localhost:8080/"
        },
        "id": "1S55imeQiHmT",
        "outputId": "91f78dc6-1538-4485-c1f9-06e25188fbf7"
      },
      "execution_count": null,
      "outputs": [
        {
          "output_type": "stream",
          "name": "stdout",
          "text": [
            "The speed of a 10 years old car is 85.59308314937454\n"
          ]
        }
      ]
    },
    {
      "cell_type": "markdown",
      "source": [
        "## **2- Multiple Linear Regression**\n",
        "**Multiple linear regression** is used to estimate the relationship between *two or more independent variables* and *one dependent variable*.\\\n",
        "https://medium.com/@ugursavci/machine-learning-101-linear-regression-949b7faaebe0\n"
      ],
      "metadata": {
        "id": "V16LdncIsXrz"
      }
    },
    {
      "cell_type": "markdown",
      "source": [
        "### **2-1 Predicting Sales by using Linear Regression**"
      ],
      "metadata": {
        "id": "-6vcAtEGvl0K"
      }
    },
    {
      "cell_type": "code",
      "source": [
        "import pandas as pd # لتحليل ومعالجة وتنظيف البيانات\n",
        "import numpy as np # للعمليات الرياضية\n",
        "import matplotlib.pyplot as plt # لعرض وتصوير البيانات كرسوم بيانية\n",
        "plt.style.use ('fivethirtyeight') # visualization style\n",
        "from sklearn.linear_model import LinearRegression # لاستخدام نموذج الانحدار الخطي\n",
        "from sklearn.model_selection import train_test_split"
      ],
      "metadata": {
        "id": "Zvn6hGb0sdLp"
      },
      "execution_count": null,
      "outputs": []
    },
    {
      "cell_type": "markdown",
      "source": [
        "#### 2-1-2 Simple Linear Regression"
      ],
      "metadata": {
        "id": "ekpLDq6ZyKIn"
      }
    },
    {
      "cell_type": "markdown",
      "source": [
        "عندنا ملف فيه بيانات ما تم إنفاقه في إعلانات:\n",
        "- التلفزيون\n",
        "- الراديو\n",
        "- الصحف\n",
        "\n",
        "وكذلك توضح لنا المبيعات اللي جات بسبب هذه الإعلانات"
      ],
      "metadata": {
        "id": "sAcWPPbmzysB"
      }
    },
    {
      "cell_type": "code",
      "source": [
        "df_simple = pd.read_csv('/content/drive/MyDrive/iMLND/Regression Model/advertising.csv', usecols = ['TV','Sales'])"
      ],
      "metadata": {
        "id": "GrMSBzBOx_MD"
      },
      "execution_count": null,
      "outputs": []
    },
    {
      "cell_type": "markdown",
      "source": [
        "الآن نشوف أول خمسة صفوف من العمودين اللي استخرجناهم من الملف السابق (المبيعات و إعلانات التلفزيون فقط)"
      ],
      "metadata": {
        "id": "rYP9RWDRy11y"
      }
    },
    {
      "cell_type": "code",
      "source": [
        "df_simple.head()"
      ],
      "metadata": {
        "colab": {
          "base_uri": "https://localhost:8080/",
          "height": 206
        },
        "id": "VpoIThbxywgJ",
        "outputId": "3a590b79-c51a-4c67-f1a3-2be196c18d3e"
      },
      "execution_count": null,
      "outputs": [
        {
          "output_type": "execute_result",
          "data": {
            "text/plain": [
              "      TV  Sales\n",
              "0  230.1   22.1\n",
              "1   44.5   10.4\n",
              "2   17.2   12.0\n",
              "3  151.5   16.5\n",
              "4  180.8   17.9"
            ],
            "text/html": [
              "\n",
              "  <div id=\"df-bfa3d90f-b999-434a-ac40-1346ab1a4e5c\">\n",
              "    <div class=\"colab-df-container\">\n",
              "      <div>\n",
              "<style scoped>\n",
              "    .dataframe tbody tr th:only-of-type {\n",
              "        vertical-align: middle;\n",
              "    }\n",
              "\n",
              "    .dataframe tbody tr th {\n",
              "        vertical-align: top;\n",
              "    }\n",
              "\n",
              "    .dataframe thead th {\n",
              "        text-align: right;\n",
              "    }\n",
              "</style>\n",
              "<table border=\"1\" class=\"dataframe\">\n",
              "  <thead>\n",
              "    <tr style=\"text-align: right;\">\n",
              "      <th></th>\n",
              "      <th>TV</th>\n",
              "      <th>Sales</th>\n",
              "    </tr>\n",
              "  </thead>\n",
              "  <tbody>\n",
              "    <tr>\n",
              "      <th>0</th>\n",
              "      <td>230.1</td>\n",
              "      <td>22.1</td>\n",
              "    </tr>\n",
              "    <tr>\n",
              "      <th>1</th>\n",
              "      <td>44.5</td>\n",
              "      <td>10.4</td>\n",
              "    </tr>\n",
              "    <tr>\n",
              "      <th>2</th>\n",
              "      <td>17.2</td>\n",
              "      <td>12.0</td>\n",
              "    </tr>\n",
              "    <tr>\n",
              "      <th>3</th>\n",
              "      <td>151.5</td>\n",
              "      <td>16.5</td>\n",
              "    </tr>\n",
              "    <tr>\n",
              "      <th>4</th>\n",
              "      <td>180.8</td>\n",
              "      <td>17.9</td>\n",
              "    </tr>\n",
              "  </tbody>\n",
              "</table>\n",
              "</div>\n",
              "      <button class=\"colab-df-convert\" onclick=\"convertToInteractive('df-bfa3d90f-b999-434a-ac40-1346ab1a4e5c')\"\n",
              "              title=\"Convert this dataframe to an interactive table.\"\n",
              "              style=\"display:none;\">\n",
              "        \n",
              "  <svg xmlns=\"http://www.w3.org/2000/svg\" height=\"24px\"viewBox=\"0 0 24 24\"\n",
              "       width=\"24px\">\n",
              "    <path d=\"M0 0h24v24H0V0z\" fill=\"none\"/>\n",
              "    <path d=\"M18.56 5.44l.94 2.06.94-2.06 2.06-.94-2.06-.94-.94-2.06-.94 2.06-2.06.94zm-11 1L8.5 8.5l.94-2.06 2.06-.94-2.06-.94L8.5 2.5l-.94 2.06-2.06.94zm10 10l.94 2.06.94-2.06 2.06-.94-2.06-.94-.94-2.06-.94 2.06-2.06.94z\"/><path d=\"M17.41 7.96l-1.37-1.37c-.4-.4-.92-.59-1.43-.59-.52 0-1.04.2-1.43.59L10.3 9.45l-7.72 7.72c-.78.78-.78 2.05 0 2.83L4 21.41c.39.39.9.59 1.41.59.51 0 1.02-.2 1.41-.59l7.78-7.78 2.81-2.81c.8-.78.8-2.07 0-2.86zM5.41 20L4 18.59l7.72-7.72 1.47 1.35L5.41 20z\"/>\n",
              "  </svg>\n",
              "      </button>\n",
              "      \n",
              "  <style>\n",
              "    .colab-df-container {\n",
              "      display:flex;\n",
              "      flex-wrap:wrap;\n",
              "      gap: 12px;\n",
              "    }\n",
              "\n",
              "    .colab-df-convert {\n",
              "      background-color: #E8F0FE;\n",
              "      border: none;\n",
              "      border-radius: 50%;\n",
              "      cursor: pointer;\n",
              "      display: none;\n",
              "      fill: #1967D2;\n",
              "      height: 32px;\n",
              "      padding: 0 0 0 0;\n",
              "      width: 32px;\n",
              "    }\n",
              "\n",
              "    .colab-df-convert:hover {\n",
              "      background-color: #E2EBFA;\n",
              "      box-shadow: 0px 1px 2px rgba(60, 64, 67, 0.3), 0px 1px 3px 1px rgba(60, 64, 67, 0.15);\n",
              "      fill: #174EA6;\n",
              "    }\n",
              "\n",
              "    [theme=dark] .colab-df-convert {\n",
              "      background-color: #3B4455;\n",
              "      fill: #D2E3FC;\n",
              "    }\n",
              "\n",
              "    [theme=dark] .colab-df-convert:hover {\n",
              "      background-color: #434B5C;\n",
              "      box-shadow: 0px 1px 3px 1px rgba(0, 0, 0, 0.15);\n",
              "      filter: drop-shadow(0px 1px 2px rgba(0, 0, 0, 0.3));\n",
              "      fill: #FFFFFF;\n",
              "    }\n",
              "  </style>\n",
              "\n",
              "      <script>\n",
              "        const buttonEl =\n",
              "          document.querySelector('#df-bfa3d90f-b999-434a-ac40-1346ab1a4e5c button.colab-df-convert');\n",
              "        buttonEl.style.display =\n",
              "          google.colab.kernel.accessAllowed ? 'block' : 'none';\n",
              "\n",
              "        async function convertToInteractive(key) {\n",
              "          const element = document.querySelector('#df-bfa3d90f-b999-434a-ac40-1346ab1a4e5c');\n",
              "          const dataTable =\n",
              "            await google.colab.kernel.invokeFunction('convertToInteractive',\n",
              "                                                     [key], {});\n",
              "          if (!dataTable) return;\n",
              "\n",
              "          const docLinkHtml = 'Like what you see? Visit the ' +\n",
              "            '<a target=\"_blank\" href=https://colab.research.google.com/notebooks/data_table.ipynb>data table notebook</a>'\n",
              "            + ' to learn more about interactive tables.';\n",
              "          element.innerHTML = '';\n",
              "          dataTable['output_type'] = 'display_data';\n",
              "          await google.colab.output.renderOutput(dataTable, element);\n",
              "          const docLink = document.createElement('div');\n",
              "          docLink.innerHTML = docLinkHtml;\n",
              "          element.appendChild(docLink);\n",
              "        }\n",
              "      </script>\n",
              "    </div>\n",
              "  </div>\n",
              "  "
            ]
          },
          "metadata": {},
          "execution_count": 23
        }
      ]
    },
    {
      "cell_type": "markdown",
      "source": [
        "عشان نعرف معلومات أكثر عن الملف السابق زي:\n",
        "- عدد الصفوف\n",
        "- متوسط كل عمود\n",
        "- الانحراف المعياري\n",
        "- أفل قيمة \n",
        "- أعلى قيمة\\\n",
        "نستخدم الكود التالي:"
      ],
      "metadata": {
        "id": "ijpQV1FLzEFD"
      }
    },
    {
      "cell_type": "code",
      "source": [
        "df_simple.describe()"
      ],
      "metadata": {
        "colab": {
          "base_uri": "https://localhost:8080/",
          "height": 300
        },
        "id": "-34JjAWxyz55",
        "outputId": "df1a0e5b-52be-47f8-f445-258811e94998"
      },
      "execution_count": null,
      "outputs": [
        {
          "output_type": "execute_result",
          "data": {
            "text/plain": [
              "               TV       Sales\n",
              "count  200.000000  200.000000\n",
              "mean   147.042500   15.130500\n",
              "std     85.854236    5.283892\n",
              "min      0.700000    1.600000\n",
              "25%     74.375000   11.000000\n",
              "50%    149.750000   16.000000\n",
              "75%    218.825000   19.050000\n",
              "max    296.400000   27.000000"
            ],
            "text/html": [
              "\n",
              "  <div id=\"df-f35ec889-2e0f-42bd-a38b-c9f23f3ded2b\">\n",
              "    <div class=\"colab-df-container\">\n",
              "      <div>\n",
              "<style scoped>\n",
              "    .dataframe tbody tr th:only-of-type {\n",
              "        vertical-align: middle;\n",
              "    }\n",
              "\n",
              "    .dataframe tbody tr th {\n",
              "        vertical-align: top;\n",
              "    }\n",
              "\n",
              "    .dataframe thead th {\n",
              "        text-align: right;\n",
              "    }\n",
              "</style>\n",
              "<table border=\"1\" class=\"dataframe\">\n",
              "  <thead>\n",
              "    <tr style=\"text-align: right;\">\n",
              "      <th></th>\n",
              "      <th>TV</th>\n",
              "      <th>Sales</th>\n",
              "    </tr>\n",
              "  </thead>\n",
              "  <tbody>\n",
              "    <tr>\n",
              "      <th>count</th>\n",
              "      <td>200.000000</td>\n",
              "      <td>200.000000</td>\n",
              "    </tr>\n",
              "    <tr>\n",
              "      <th>mean</th>\n",
              "      <td>147.042500</td>\n",
              "      <td>15.130500</td>\n",
              "    </tr>\n",
              "    <tr>\n",
              "      <th>std</th>\n",
              "      <td>85.854236</td>\n",
              "      <td>5.283892</td>\n",
              "    </tr>\n",
              "    <tr>\n",
              "      <th>min</th>\n",
              "      <td>0.700000</td>\n",
              "      <td>1.600000</td>\n",
              "    </tr>\n",
              "    <tr>\n",
              "      <th>25%</th>\n",
              "      <td>74.375000</td>\n",
              "      <td>11.000000</td>\n",
              "    </tr>\n",
              "    <tr>\n",
              "      <th>50%</th>\n",
              "      <td>149.750000</td>\n",
              "      <td>16.000000</td>\n",
              "    </tr>\n",
              "    <tr>\n",
              "      <th>75%</th>\n",
              "      <td>218.825000</td>\n",
              "      <td>19.050000</td>\n",
              "    </tr>\n",
              "    <tr>\n",
              "      <th>max</th>\n",
              "      <td>296.400000</td>\n",
              "      <td>27.000000</td>\n",
              "    </tr>\n",
              "  </tbody>\n",
              "</table>\n",
              "</div>\n",
              "      <button class=\"colab-df-convert\" onclick=\"convertToInteractive('df-f35ec889-2e0f-42bd-a38b-c9f23f3ded2b')\"\n",
              "              title=\"Convert this dataframe to an interactive table.\"\n",
              "              style=\"display:none;\">\n",
              "        \n",
              "  <svg xmlns=\"http://www.w3.org/2000/svg\" height=\"24px\"viewBox=\"0 0 24 24\"\n",
              "       width=\"24px\">\n",
              "    <path d=\"M0 0h24v24H0V0z\" fill=\"none\"/>\n",
              "    <path d=\"M18.56 5.44l.94 2.06.94-2.06 2.06-.94-2.06-.94-.94-2.06-.94 2.06-2.06.94zm-11 1L8.5 8.5l.94-2.06 2.06-.94-2.06-.94L8.5 2.5l-.94 2.06-2.06.94zm10 10l.94 2.06.94-2.06 2.06-.94-2.06-.94-.94-2.06-.94 2.06-2.06.94z\"/><path d=\"M17.41 7.96l-1.37-1.37c-.4-.4-.92-.59-1.43-.59-.52 0-1.04.2-1.43.59L10.3 9.45l-7.72 7.72c-.78.78-.78 2.05 0 2.83L4 21.41c.39.39.9.59 1.41.59.51 0 1.02-.2 1.41-.59l7.78-7.78 2.81-2.81c.8-.78.8-2.07 0-2.86zM5.41 20L4 18.59l7.72-7.72 1.47 1.35L5.41 20z\"/>\n",
              "  </svg>\n",
              "      </button>\n",
              "      \n",
              "  <style>\n",
              "    .colab-df-container {\n",
              "      display:flex;\n",
              "      flex-wrap:wrap;\n",
              "      gap: 12px;\n",
              "    }\n",
              "\n",
              "    .colab-df-convert {\n",
              "      background-color: #E8F0FE;\n",
              "      border: none;\n",
              "      border-radius: 50%;\n",
              "      cursor: pointer;\n",
              "      display: none;\n",
              "      fill: #1967D2;\n",
              "      height: 32px;\n",
              "      padding: 0 0 0 0;\n",
              "      width: 32px;\n",
              "    }\n",
              "\n",
              "    .colab-df-convert:hover {\n",
              "      background-color: #E2EBFA;\n",
              "      box-shadow: 0px 1px 2px rgba(60, 64, 67, 0.3), 0px 1px 3px 1px rgba(60, 64, 67, 0.15);\n",
              "      fill: #174EA6;\n",
              "    }\n",
              "\n",
              "    [theme=dark] .colab-df-convert {\n",
              "      background-color: #3B4455;\n",
              "      fill: #D2E3FC;\n",
              "    }\n",
              "\n",
              "    [theme=dark] .colab-df-convert:hover {\n",
              "      background-color: #434B5C;\n",
              "      box-shadow: 0px 1px 3px 1px rgba(0, 0, 0, 0.15);\n",
              "      filter: drop-shadow(0px 1px 2px rgba(0, 0, 0, 0.3));\n",
              "      fill: #FFFFFF;\n",
              "    }\n",
              "  </style>\n",
              "\n",
              "      <script>\n",
              "        const buttonEl =\n",
              "          document.querySelector('#df-f35ec889-2e0f-42bd-a38b-c9f23f3ded2b button.colab-df-convert');\n",
              "        buttonEl.style.display =\n",
              "          google.colab.kernel.accessAllowed ? 'block' : 'none';\n",
              "\n",
              "        async function convertToInteractive(key) {\n",
              "          const element = document.querySelector('#df-f35ec889-2e0f-42bd-a38b-c9f23f3ded2b');\n",
              "          const dataTable =\n",
              "            await google.colab.kernel.invokeFunction('convertToInteractive',\n",
              "                                                     [key], {});\n",
              "          if (!dataTable) return;\n",
              "\n",
              "          const docLinkHtml = 'Like what you see? Visit the ' +\n",
              "            '<a target=\"_blank\" href=https://colab.research.google.com/notebooks/data_table.ipynb>data table notebook</a>'\n",
              "            + ' to learn more about interactive tables.';\n",
              "          element.innerHTML = '';\n",
              "          dataTable['output_type'] = 'display_data';\n",
              "          await google.colab.output.renderOutput(dataTable, element);\n",
              "          const docLink = document.createElement('div');\n",
              "          docLink.innerHTML = docLinkHtml;\n",
              "          element.appendChild(docLink);\n",
              "        }\n",
              "      </script>\n",
              "    </div>\n",
              "  </div>\n",
              "  "
            ]
          },
          "metadata": {},
          "execution_count": 24
        }
      ]
    },
    {
      "cell_type": "markdown",
      "source": [
        "عشان نوضح عدد الصفوف والأعمدة نكتب التالي:"
      ],
      "metadata": {
        "id": "SeZND3X30lpT"
      }
    },
    {
      "cell_type": "code",
      "source": [
        "df_simple.shape"
      ],
      "metadata": {
        "colab": {
          "base_uri": "https://localhost:8080/"
        },
        "id": "W0aLVPvZzfCT",
        "outputId": "135378ea-ab34-4357-968b-35c08aafbe1f"
      },
      "execution_count": null,
      "outputs": [
        {
          "output_type": "execute_result",
          "data": {
            "text/plain": [
              "(200, 2)"
            ]
          },
          "metadata": {},
          "execution_count": 25
        }
      ]
    },
    {
      "cell_type": "markdown",
      "source": [
        "> عدد الصفوف 200 وعدد الأعمدة 2"
      ],
      "metadata": {
        "id": "1463DbfK0zOO"
      }
    },
    {
      "cell_type": "markdown",
      "source": [
        "إذا نبغى نشيك هل في بيانات مفقودة أو لا نكتب:"
      ],
      "metadata": {
        "id": "SGBPPdua05da"
      }
    },
    {
      "cell_type": "code",
      "source": [
        "df_simple.isnull().sum()"
      ],
      "metadata": {
        "colab": {
          "base_uri": "https://localhost:8080/"
        },
        "id": "JXEWrDN-0wvl",
        "outputId": "19dba7b3-8536-4de0-e316-f6373f13f3e4"
      },
      "execution_count": null,
      "outputs": [
        {
          "output_type": "execute_result",
          "data": {
            "text/plain": [
              "TV       0\n",
              "Sales    0\n",
              "dtype: int64"
            ]
          },
          "metadata": {},
          "execution_count": 27
        }
      ]
    },
    {
      "cell_type": "markdown",
      "source": [
        "##### Building Simple Linear Regression Model"
      ],
      "metadata": {
        "id": "E9NpRLp32NtB"
      }
    },
    {
      "cell_type": "code",
      "source": [
        "# Building simple linear regression model:\n",
        "lr = LinearRegression()"
      ],
      "metadata": {
        "id": "J_zlHKuN1EAg"
      },
      "execution_count": null,
      "outputs": []
    },
    {
      "cell_type": "code",
      "source": [
        "X = df_simple[['TV']] # independent variable (feature)\n",
        "y = df_simple[\"Sales\"] # dependent variable (target)"
      ],
      "metadata": {
        "id": "ajIOZ_xj1gMl"
      },
      "execution_count": null,
      "outputs": []
    },
    {
      "cell_type": "markdown",
      "source": [
        "> Note: We used two parentheses for TV to avoid the reshaping problem."
      ],
      "metadata": {
        "id": "CGeUKrIT2D0W"
      }
    },
    {
      "cell_type": "code",
      "source": [
        "X"
      ],
      "metadata": {
        "colab": {
          "base_uri": "https://localhost:8080/",
          "height": 424
        },
        "id": "OGJWr-N710z3",
        "outputId": "2182adf0-af91-460c-e9bb-573941d32740"
      },
      "execution_count": null,
      "outputs": [
        {
          "output_type": "execute_result",
          "data": {
            "text/plain": [
              "        TV\n",
              "0    230.1\n",
              "1     44.5\n",
              "2     17.2\n",
              "3    151.5\n",
              "4    180.8\n",
              "..     ...\n",
              "195   38.2\n",
              "196   94.2\n",
              "197  177.0\n",
              "198  283.6\n",
              "199  232.1\n",
              "\n",
              "[200 rows x 1 columns]"
            ],
            "text/html": [
              "\n",
              "  <div id=\"df-bc04a8e0-ff60-4f40-ad2b-b8d5d07f716f\">\n",
              "    <div class=\"colab-df-container\">\n",
              "      <div>\n",
              "<style scoped>\n",
              "    .dataframe tbody tr th:only-of-type {\n",
              "        vertical-align: middle;\n",
              "    }\n",
              "\n",
              "    .dataframe tbody tr th {\n",
              "        vertical-align: top;\n",
              "    }\n",
              "\n",
              "    .dataframe thead th {\n",
              "        text-align: right;\n",
              "    }\n",
              "</style>\n",
              "<table border=\"1\" class=\"dataframe\">\n",
              "  <thead>\n",
              "    <tr style=\"text-align: right;\">\n",
              "      <th></th>\n",
              "      <th>TV</th>\n",
              "    </tr>\n",
              "  </thead>\n",
              "  <tbody>\n",
              "    <tr>\n",
              "      <th>0</th>\n",
              "      <td>230.1</td>\n",
              "    </tr>\n",
              "    <tr>\n",
              "      <th>1</th>\n",
              "      <td>44.5</td>\n",
              "    </tr>\n",
              "    <tr>\n",
              "      <th>2</th>\n",
              "      <td>17.2</td>\n",
              "    </tr>\n",
              "    <tr>\n",
              "      <th>3</th>\n",
              "      <td>151.5</td>\n",
              "    </tr>\n",
              "    <tr>\n",
              "      <th>4</th>\n",
              "      <td>180.8</td>\n",
              "    </tr>\n",
              "    <tr>\n",
              "      <th>...</th>\n",
              "      <td>...</td>\n",
              "    </tr>\n",
              "    <tr>\n",
              "      <th>195</th>\n",
              "      <td>38.2</td>\n",
              "    </tr>\n",
              "    <tr>\n",
              "      <th>196</th>\n",
              "      <td>94.2</td>\n",
              "    </tr>\n",
              "    <tr>\n",
              "      <th>197</th>\n",
              "      <td>177.0</td>\n",
              "    </tr>\n",
              "    <tr>\n",
              "      <th>198</th>\n",
              "      <td>283.6</td>\n",
              "    </tr>\n",
              "    <tr>\n",
              "      <th>199</th>\n",
              "      <td>232.1</td>\n",
              "    </tr>\n",
              "  </tbody>\n",
              "</table>\n",
              "<p>200 rows × 1 columns</p>\n",
              "</div>\n",
              "      <button class=\"colab-df-convert\" onclick=\"convertToInteractive('df-bc04a8e0-ff60-4f40-ad2b-b8d5d07f716f')\"\n",
              "              title=\"Convert this dataframe to an interactive table.\"\n",
              "              style=\"display:none;\">\n",
              "        \n",
              "  <svg xmlns=\"http://www.w3.org/2000/svg\" height=\"24px\"viewBox=\"0 0 24 24\"\n",
              "       width=\"24px\">\n",
              "    <path d=\"M0 0h24v24H0V0z\" fill=\"none\"/>\n",
              "    <path d=\"M18.56 5.44l.94 2.06.94-2.06 2.06-.94-2.06-.94-.94-2.06-.94 2.06-2.06.94zm-11 1L8.5 8.5l.94-2.06 2.06-.94-2.06-.94L8.5 2.5l-.94 2.06-2.06.94zm10 10l.94 2.06.94-2.06 2.06-.94-2.06-.94-.94-2.06-.94 2.06-2.06.94z\"/><path d=\"M17.41 7.96l-1.37-1.37c-.4-.4-.92-.59-1.43-.59-.52 0-1.04.2-1.43.59L10.3 9.45l-7.72 7.72c-.78.78-.78 2.05 0 2.83L4 21.41c.39.39.9.59 1.41.59.51 0 1.02-.2 1.41-.59l7.78-7.78 2.81-2.81c.8-.78.8-2.07 0-2.86zM5.41 20L4 18.59l7.72-7.72 1.47 1.35L5.41 20z\"/>\n",
              "  </svg>\n",
              "      </button>\n",
              "      \n",
              "  <style>\n",
              "    .colab-df-container {\n",
              "      display:flex;\n",
              "      flex-wrap:wrap;\n",
              "      gap: 12px;\n",
              "    }\n",
              "\n",
              "    .colab-df-convert {\n",
              "      background-color: #E8F0FE;\n",
              "      border: none;\n",
              "      border-radius: 50%;\n",
              "      cursor: pointer;\n",
              "      display: none;\n",
              "      fill: #1967D2;\n",
              "      height: 32px;\n",
              "      padding: 0 0 0 0;\n",
              "      width: 32px;\n",
              "    }\n",
              "\n",
              "    .colab-df-convert:hover {\n",
              "      background-color: #E2EBFA;\n",
              "      box-shadow: 0px 1px 2px rgba(60, 64, 67, 0.3), 0px 1px 3px 1px rgba(60, 64, 67, 0.15);\n",
              "      fill: #174EA6;\n",
              "    }\n",
              "\n",
              "    [theme=dark] .colab-df-convert {\n",
              "      background-color: #3B4455;\n",
              "      fill: #D2E3FC;\n",
              "    }\n",
              "\n",
              "    [theme=dark] .colab-df-convert:hover {\n",
              "      background-color: #434B5C;\n",
              "      box-shadow: 0px 1px 3px 1px rgba(0, 0, 0, 0.15);\n",
              "      filter: drop-shadow(0px 1px 2px rgba(0, 0, 0, 0.3));\n",
              "      fill: #FFFFFF;\n",
              "    }\n",
              "  </style>\n",
              "\n",
              "      <script>\n",
              "        const buttonEl =\n",
              "          document.querySelector('#df-bc04a8e0-ff60-4f40-ad2b-b8d5d07f716f button.colab-df-convert');\n",
              "        buttonEl.style.display =\n",
              "          google.colab.kernel.accessAllowed ? 'block' : 'none';\n",
              "\n",
              "        async function convertToInteractive(key) {\n",
              "          const element = document.querySelector('#df-bc04a8e0-ff60-4f40-ad2b-b8d5d07f716f');\n",
              "          const dataTable =\n",
              "            await google.colab.kernel.invokeFunction('convertToInteractive',\n",
              "                                                     [key], {});\n",
              "          if (!dataTable) return;\n",
              "\n",
              "          const docLinkHtml = 'Like what you see? Visit the ' +\n",
              "            '<a target=\"_blank\" href=https://colab.research.google.com/notebooks/data_table.ipynb>data table notebook</a>'\n",
              "            + ' to learn more about interactive tables.';\n",
              "          element.innerHTML = '';\n",
              "          dataTable['output_type'] = 'display_data';\n",
              "          await google.colab.output.renderOutput(dataTable, element);\n",
              "          const docLink = document.createElement('div');\n",
              "          docLink.innerHTML = docLinkHtml;\n",
              "          element.appendChild(docLink);\n",
              "        }\n",
              "      </script>\n",
              "    </div>\n",
              "  </div>\n",
              "  "
            ]
          },
          "metadata": {},
          "execution_count": 30
        }
      ]
    },
    {
      "cell_type": "code",
      "source": [
        "y"
      ],
      "metadata": {
        "colab": {
          "base_uri": "https://localhost:8080/"
        },
        "id": "OYj99w8B11nZ",
        "outputId": "a511ef18-2cf8-4e68-ac90-5dd0b7d56c94"
      },
      "execution_count": null,
      "outputs": [
        {
          "output_type": "execute_result",
          "data": {
            "text/plain": [
              "0      22.1\n",
              "1      10.4\n",
              "2      12.0\n",
              "3      16.5\n",
              "4      17.9\n",
              "       ... \n",
              "195     7.6\n",
              "196    14.0\n",
              "197    14.8\n",
              "198    25.5\n",
              "199    18.4\n",
              "Name: Sales, Length: 200, dtype: float64"
            ]
          },
          "metadata": {},
          "execution_count": 31
        }
      ]
    },
    {
      "cell_type": "markdown",
      "source": [
        "##### Train-Test Split"
      ],
      "metadata": {
        "id": "ZcTbC7Tr2UrC"
      }
    },
    {
      "cell_type": "markdown",
      "source": [
        "في تعلم الآلة دائمًا نقسم مجموعة البيانات إلى قسمين:\n",
        "- بيانات تدريب (لتدريب النموذج عشان يفهم البيانات)\n",
        "- بيانات الاختبار (لاختبار دقة النموذج اللي سويناه)\n",
        "\n",
        "هذا المفهوم بشكل مبسط لكن توجد تفاصيل حول هذه العملية مثل:\n",
        "- cross-validation (train, validation, test)"
      ],
      "metadata": {
        "id": "2xdrZrr82i2T"
      }
    },
    {
      "cell_type": "code",
      "source": [
        "X_train, X_test, y_train, y_test = train_test_split(X,y,test_size=0.25, random_state=42) # Using 25% of the dataset for testing"
      ],
      "metadata": {
        "id": "UQvYRzsU1213"
      },
      "execution_count": null,
      "outputs": []
    },
    {
      "cell_type": "markdown",
      "source": [
        "##### Fit Linear Model\n",
        "Starting to fit our linear model to the training set"
      ],
      "metadata": {
        "id": "cqieYt4o4xng"
      }
    },
    {
      "cell_type": "code",
      "source": [
        "lr.fit(X_train, y_train)"
      ],
      "metadata": {
        "colab": {
          "base_uri": "https://localhost:8080/"
        },
        "id": "s6kA8eAn4oMj",
        "outputId": "9b818b5f-dad7-44db-a84f-3dc523f085d0"
      },
      "execution_count": null,
      "outputs": [
        {
          "output_type": "execute_result",
          "data": {
            "text/plain": [
              "LinearRegression()"
            ]
          },
          "metadata": {},
          "execution_count": 33
        }
      ]
    },
    {
      "cell_type": "markdown",
      "source": [
        "> الآن النموذج تعلم من بيانات التدريب"
      ],
      "metadata": {
        "id": "Q3VQgC465O-B"
      }
    },
    {
      "cell_type": "markdown",
      "source": [
        "##### Visualizing the Data and Regression Line\n",
        "Since it’s a **two-dimensional dataset**, we can easily plot it."
      ],
      "metadata": {
        "id": "0fTiL4Fp5bzx"
      }
    },
    {
      "cell_type": "code",
      "source": [
        "plt.scatter(X_test, y_test, color = 'red')\n",
        "plt.plot(X_test, lr.predict(X_test), color = 'green')\n",
        "plt.title('Sales vs TV spending')\n",
        "plt.xlabel('Sales')\n",
        "plt.ylabel('TV')\n",
        "plt.xticks(rotation=90)\n",
        "plt.show()"
      ],
      "metadata": {
        "colab": {
          "base_uri": "https://localhost:8080/",
          "height": 337
        },
        "id": "CXqOMtPl5Gu9",
        "outputId": "f95e4ee2-bb66-4569-e0b5-f71bbd63f4cf"
      },
      "execution_count": null,
      "outputs": [
        {
          "output_type": "display_data",
          "data": {
            "text/plain": [
              "<Figure size 432x288 with 1 Axes>"
            ],
            "image/png": "[encoded data removed]"
          },
          "metadata": {}
        }
      ]
    },
    {
      "cell_type": "markdown",
      "source": [
        "> This graph allows us to clearly see how the regression line learns from the training set."
      ],
      "metadata": {
        "id": "IcAZUGzq5vXb"
      }
    },
    {
      "cell_type": "markdown",
      "source": [
        "##### Model Evaluation\n",
        "\n",
        "Measure the Performance of the Model\n",
        "\n",
        "**How to measure if the regression line is a good fit for prediction or not?**\\\n",
        "In order to **measure the performance** of the model, we use metrics such as :\n",
        "\n",
        "- R squared\n",
        "- Mean Absolute Error (**MAE**)\n",
        "- Mean Squared Error (**MSE**)\n",
        "- Root Mean Squared Error (**RMSE**)"
      ],
      "metadata": {
        "id": "jXeX619cC6YM"
      }
    },
    {
      "cell_type": "markdown",
      "source": [
        "###### R-squared\n",
        "This statistic indicates the percentage of the variance in the dependent variable that the independent variables explain collectively"
      ],
      "metadata": {
        "id": "lMao0WXGD8-Z"
      }
    },
    {
      "cell_type": "markdown",
      "source": [
        "$R^2=1-\\frac{RSS}{TSS}$ (دائمًا بين الصفر و 100%)\\\n",
        "$R^2:$ coefficient of determination\\\n",
        "$RSS:$ sum of squared of residuals\\\n",
        "$TSS:$ total sum of squares\n"
      ],
      "metadata": {
        "id": "or1YccOTEF-5"
      }
    },
    {
      "cell_type": "code",
      "source": [
        "lr.predict(X_test)"
      ],
      "metadata": {
        "colab": {
          "base_uri": "https://localhost:8080/"
        },
        "id": "EoydSTeOGcEB",
        "outputId": "17a0e72a-2190-422d-fa2f-5622c425418b"
      },
      "execution_count": null,
      "outputs": [
        {
          "output_type": "execute_result",
          "data": {
            "text/plain": [
              "array([16.14347417, 17.92138181, 23.32156857,  7.74687609, 19.30050643,\n",
              "       11.25838215, 19.10665357,  9.86818022, 19.41681814, 16.79703523,\n",
              "        8.8435294 , 10.21157671, 20.08699517,  7.39794095, 14.82527473,\n",
              "       16.52564123,  7.50317536, 18.04323218, 11.26945945, 20.24761611,\n",
              "       19.81006251, 10.85406047,  9.20354185, 20.99533427, 10.92052431,\n",
              "       10.06203308, 18.92387802, 14.81419743, 11.92855917,  7.56410054,\n",
              "       18.16508254, 10.93160162, 18.11523467,  8.03488605, 22.64585289,\n",
              "       20.29192533,  9.77402312, 22.25814718, 13.5901551 ,  8.62198328,\n",
              "       13.52369126, 16.90226964,  9.48601316, 10.54943455, 19.50543659,\n",
              "        9.21461916, 11.00914276, 15.25728968, 12.89228481, 11.32484598])"
            ]
          },
          "metadata": {},
          "execution_count": 39
        }
      ]
    },
    {
      "cell_type": "code",
      "source": [
        "y_pred = lr.predict(X_test)"
      ],
      "metadata": {
        "id": "tqy5fjWrGj83"
      },
      "execution_count": null,
      "outputs": []
    },
    {
      "cell_type": "markdown",
      "source": [
        "sklearn.metrics.r2_score\\\n",
        "https://scikit-learn.org/stable/modules/generated/sklearn.metrics.r2_score.html"
      ],
      "metadata": {
        "id": "VomtHZszHST1"
      }
    },
    {
      "cell_type": "code",
      "source": [
        "from sklearn.metrics import r2_score\n",
        "print('R2 Score is :',round(r2_score(y_test,y_pred),3)*100,\"%\")"
      ],
      "metadata": {
        "colab": {
          "base_uri": "https://localhost:8080/"
        },
        "id": "e0tuxt3A5wbI",
        "outputId": "506a7b1d-668c-434a-88d4-086c8c9258a0"
      },
      "execution_count": null,
      "outputs": [
        {
          "output_type": "stream",
          "name": "stdout",
          "text": [
            "R2 Score is : 79.7 %\n"
          ]
        }
      ]
    },
    {
      "cell_type": "markdown",
      "source": [
        "> We can interpret that our model explains 79.7 % variance in the test set."
      ],
      "metadata": {
        "id": "U-2-m2pWG9qh"
      }
    },
    {
      "cell_type": "markdown",
      "source": [
        "##### Intercept and Coefficient for the Model"
      ],
      "metadata": {
        "id": "mil_5lUPH2hW"
      }
    },
    {
      "cell_type": "markdown",
      "source": [
        "$y = b_0 + b_1*x_1$"
      ],
      "metadata": {
        "id": "g2AvU2Lk5VEB"
      }
    },
    {
      "cell_type": "code",
      "source": [
        "lr.intercept_"
      ],
      "metadata": {
        "colab": {
          "base_uri": "https://localhost:8080/"
        },
        "id": "WrXONJanFXZb",
        "outputId": "b21a379d-8da6-4fde-e683-1a98832c6c2d"
      },
      "execution_count": null,
      "outputs": [
        {
          "output_type": "execute_result",
          "data": {
            "text/plain": [
              "7.098853680118275"
            ]
          },
          "metadata": {},
          "execution_count": 44
        }
      ]
    },
    {
      "cell_type": "code",
      "source": [
        "lr.coef_[0]"
      ],
      "metadata": {
        "colab": {
          "base_uri": "https://localhost:8080/"
        },
        "id": "qesdzXpEH-gE",
        "outputId": "507195e2-e62c-43bf-ded8-7a1be9816426"
      },
      "execution_count": null,
      "outputs": [
        {
          "output_type": "execute_result",
          "data": {
            "text/plain": [
              "0.05538653085519158"
            ]
          },
          "metadata": {},
          "execution_count": 45
        }
      ]
    },
    {
      "cell_type": "markdown",
      "source": [
        "كم راح تكون المبيعات لو انفقنا 300 دولار على إعلانات التلفزيون؟"
      ],
      "metadata": {
        "id": "7oZTwPiIIJUE"
      }
    },
    {
      "cell_type": "code",
      "source": [
        "print(\"Predicted Sales : {}\".format(round(lr.predict([[300]])[0],2)));"
      ],
      "metadata": {
        "colab": {
          "base_uri": "https://localhost:8080/"
        },
        "id": "0CSv6ZcpIB7R",
        "outputId": "d328ad79-838f-4cc7-bfd7-cc07cfe31825"
      },
      "execution_count": null,
      "outputs": [
        {
          "output_type": "stream",
          "name": "stdout",
          "text": [
            "Predicted Sales : 23.71\n"
          ]
        },
        {
          "output_type": "stream",
          "name": "stderr",
          "text": [
            "/usr/local/lib/python3.7/dist-packages/sklearn/base.py:451: UserWarning: X does not have valid feature names, but LinearRegression was fitted with feature names\n",
            "  \"X does not have valid feature names, but\"\n"
          ]
        }
      ]
    },
    {
      "cell_type": "markdown",
      "source": [
        "نقدر نجيب التوقع بهذه الطريقة كذلك"
      ],
      "metadata": {
        "id": "A_X9QgjxJNIv"
      }
    },
    {
      "cell_type": "code",
      "source": [
        "y = lr.intercept_ + lr.coef_*300\n",
        "print(\"Predicted Sales : {}\".format(y))"
      ],
      "metadata": {
        "colab": {
          "base_uri": "https://localhost:8080/"
        },
        "id": "zmv16BV-IfmN",
        "outputId": "0ded8cdd-114e-4185-9ba5-9eacaecc9808"
      },
      "execution_count": null,
      "outputs": [
        {
          "output_type": "stream",
          "name": "stdout",
          "text": [
            "Predicted Sales : [23.71481294]\n"
          ]
        }
      ]
    },
    {
      "cell_type": "markdown",
      "source": [
        "#### 2-1-2 Multiple Linear Regression"
      ],
      "metadata": {
        "id": "FRQGBjbwJWQp"
      }
    },
    {
      "cell_type": "markdown",
      "source": [
        "الآن راح نتوقع المبيعات بناء على عدة عوامل (وليس عامل واحد كما سبق) وهي ما تم إنفاقه في كل من:\n",
        "- إعلانات التلفزيون\n",
        "- إعلانات الإذاعة\n",
        "- إعلانات الصحف\n",
        "\n",
        "لتوقع المبيعات بناء على العوامل السابقة"
      ],
      "metadata": {
        "id": "FLQeuo8I0hM2"
      }
    },
    {
      "cell_type": "code",
      "source": [
        "import pandas as pd # data analysis,manipulation and cleaning \n",
        "import numpy as np # math operations\n",
        "import matplotlib.pyplot as plt # data visualization\n",
        "plt.style.use ('fivethirtyeight') # visualization style\n",
        "from sklearn.linear_model import LinearRegression # linear regression\n",
        "from sklearn.model_selection import train_test_split"
      ],
      "metadata": {
        "id": "BYdRTBlpJA3P"
      },
      "execution_count": null,
      "outputs": []
    },
    {
      "cell_type": "markdown",
      "source": [
        "##### Read the Data from CSV File"
      ],
      "metadata": {
        "id": "yjv_DZpm1y5N"
      }
    },
    {
      "cell_type": "code",
      "source": [
        "df_multiple = pd.read_csv('/content/drive/MyDrive/iMLND/Regression Model/advertising.csv')"
      ],
      "metadata": {
        "id": "X0E3jaPNzl66"
      },
      "execution_count": null,
      "outputs": []
    },
    {
      "cell_type": "code",
      "source": [
        "df_multiple"
      ],
      "metadata": {
        "colab": {
          "base_uri": "https://localhost:8080/",
          "height": 424
        },
        "id": "SHFwnIgm1e5l",
        "outputId": "d20dea68-bd98-4d18-d2db-1d79e053422f"
      },
      "execution_count": null,
      "outputs": [
        {
          "output_type": "execute_result",
          "data": {
            "text/plain": [
              "        TV  Radio  Newspaper  Sales\n",
              "0    230.1   37.8       69.2   22.1\n",
              "1     44.5   39.3       45.1   10.4\n",
              "2     17.2   45.9       69.3   12.0\n",
              "3    151.5   41.3       58.5   16.5\n",
              "4    180.8   10.8       58.4   17.9\n",
              "..     ...    ...        ...    ...\n",
              "195   38.2    3.7       13.8    7.6\n",
              "196   94.2    4.9        8.1   14.0\n",
              "197  177.0    9.3        6.4   14.8\n",
              "198  283.6   42.0       66.2   25.5\n",
              "199  232.1    8.6        8.7   18.4\n",
              "\n",
              "[200 rows x 4 columns]"
            ],
            "text/html": [
              "\n",
              "  <div id=\"df-1206f2bc-044d-49b2-8e91-eac4437a98e1\">\n",
              "    <div class=\"colab-df-container\">\n",
              "      <div>\n",
              "<style scoped>\n",
              "    .dataframe tbody tr th:only-of-type {\n",
              "        vertical-align: middle;\n",
              "    }\n",
              "\n",
              "    .dataframe tbody tr th {\n",
              "        vertical-align: top;\n",
              "    }\n",
              "\n",
              "    .dataframe thead th {\n",
              "        text-align: right;\n",
              "    }\n",
              "</style>\n",
              "<table border=\"1\" class=\"dataframe\">\n",
              "  <thead>\n",
              "    <tr style=\"text-align: right;\">\n",
              "      <th></th>\n",
              "      <th>TV</th>\n",
              "      <th>Radio</th>\n",
              "      <th>Newspaper</th>\n",
              "      <th>Sales</th>\n",
              "    </tr>\n",
              "  </thead>\n",
              "  <tbody>\n",
              "    <tr>\n",
              "      <th>0</th>\n",
              "      <td>230.1</td>\n",
              "      <td>37.8</td>\n",
              "      <td>69.2</td>\n",
              "      <td>22.1</td>\n",
              "    </tr>\n",
              "    <tr>\n",
              "      <th>1</th>\n",
              "      <td>44.5</td>\n",
              "      <td>39.3</td>\n",
              "      <td>45.1</td>\n",
              "      <td>10.4</td>\n",
              "    </tr>\n",
              "    <tr>\n",
              "      <th>2</th>\n",
              "      <td>17.2</td>\n",
              "      <td>45.9</td>\n",
              "      <td>69.3</td>\n",
              "      <td>12.0</td>\n",
              "    </tr>\n",
              "    <tr>\n",
              "      <th>3</th>\n",
              "      <td>151.5</td>\n",
              "      <td>41.3</td>\n",
              "      <td>58.5</td>\n",
              "      <td>16.5</td>\n",
              "    </tr>\n",
              "    <tr>\n",
              "      <th>4</th>\n",
              "      <td>180.8</td>\n",
              "      <td>10.8</td>\n",
              "      <td>58.4</td>\n",
              "      <td>17.9</td>\n",
              "    </tr>\n",
              "    <tr>\n",
              "      <th>...</th>\n",
              "      <td>...</td>\n",
              "      <td>...</td>\n",
              "      <td>...</td>\n",
              "      <td>...</td>\n",
              "    </tr>\n",
              "    <tr>\n",
              "      <th>195</th>\n",
              "      <td>38.2</td>\n",
              "      <td>3.7</td>\n",
              "      <td>13.8</td>\n",
              "      <td>7.6</td>\n",
              "    </tr>\n",
              "    <tr>\n",
              "      <th>196</th>\n",
              "      <td>94.2</td>\n",
              "      <td>4.9</td>\n",
              "      <td>8.1</td>\n",
              "      <td>14.0</td>\n",
              "    </tr>\n",
              "    <tr>\n",
              "      <th>197</th>\n",
              "      <td>177.0</td>\n",
              "      <td>9.3</td>\n",
              "      <td>6.4</td>\n",
              "      <td>14.8</td>\n",
              "    </tr>\n",
              "    <tr>\n",
              "      <th>198</th>\n",
              "      <td>283.6</td>\n",
              "      <td>42.0</td>\n",
              "      <td>66.2</td>\n",
              "      <td>25.5</td>\n",
              "    </tr>\n",
              "    <tr>\n",
              "      <th>199</th>\n",
              "      <td>232.1</td>\n",
              "      <td>8.6</td>\n",
              "      <td>8.7</td>\n",
              "      <td>18.4</td>\n",
              "    </tr>\n",
              "  </tbody>\n",
              "</table>\n",
              "<p>200 rows × 4 columns</p>\n",
              "</div>\n",
              "      <button class=\"colab-df-convert\" onclick=\"convertToInteractive('df-1206f2bc-044d-49b2-8e91-eac4437a98e1')\"\n",
              "              title=\"Convert this dataframe to an interactive table.\"\n",
              "              style=\"display:none;\">\n",
              "        \n",
              "  <svg xmlns=\"http://www.w3.org/2000/svg\" height=\"24px\"viewBox=\"0 0 24 24\"\n",
              "       width=\"24px\">\n",
              "    <path d=\"M0 0h24v24H0V0z\" fill=\"none\"/>\n",
              "    <path d=\"M18.56 5.44l.94 2.06.94-2.06 2.06-.94-2.06-.94-.94-2.06-.94 2.06-2.06.94zm-11 1L8.5 8.5l.94-2.06 2.06-.94-2.06-.94L8.5 2.5l-.94 2.06-2.06.94zm10 10l.94 2.06.94-2.06 2.06-.94-2.06-.94-.94-2.06-.94 2.06-2.06.94z\"/><path d=\"M17.41 7.96l-1.37-1.37c-.4-.4-.92-.59-1.43-.59-.52 0-1.04.2-1.43.59L10.3 9.45l-7.72 7.72c-.78.78-.78 2.05 0 2.83L4 21.41c.39.39.9.59 1.41.59.51 0 1.02-.2 1.41-.59l7.78-7.78 2.81-2.81c.8-.78.8-2.07 0-2.86zM5.41 20L4 18.59l7.72-7.72 1.47 1.35L5.41 20z\"/>\n",
              "  </svg>\n",
              "      </button>\n",
              "      \n",
              "  <style>\n",
              "    .colab-df-container {\n",
              "      display:flex;\n",
              "      flex-wrap:wrap;\n",
              "      gap: 12px;\n",
              "    }\n",
              "\n",
              "    .colab-df-convert {\n",
              "      background-color: #E8F0FE;\n",
              "      border: none;\n",
              "      border-radius: 50%;\n",
              "      cursor: pointer;\n",
              "      display: none;\n",
              "      fill: #1967D2;\n",
              "      height: 32px;\n",
              "      padding: 0 0 0 0;\n",
              "      width: 32px;\n",
              "    }\n",
              "\n",
              "    .colab-df-convert:hover {\n",
              "      background-color: #E2EBFA;\n",
              "      box-shadow: 0px 1px 2px rgba(60, 64, 67, 0.3), 0px 1px 3px 1px rgba(60, 64, 67, 0.15);\n",
              "      fill: #174EA6;\n",
              "    }\n",
              "\n",
              "    [theme=dark] .colab-df-convert {\n",
              "      background-color: #3B4455;\n",
              "      fill: #D2E3FC;\n",
              "    }\n",
              "\n",
              "    [theme=dark] .colab-df-convert:hover {\n",
              "      background-color: #434B5C;\n",
              "      box-shadow: 0px 1px 3px 1px rgba(0, 0, 0, 0.15);\n",
              "      filter: drop-shadow(0px 1px 2px rgba(0, 0, 0, 0.3));\n",
              "      fill: #FFFFFF;\n",
              "    }\n",
              "  </style>\n",
              "\n",
              "      <script>\n",
              "        const buttonEl =\n",
              "          document.querySelector('#df-1206f2bc-044d-49b2-8e91-eac4437a98e1 button.colab-df-convert');\n",
              "        buttonEl.style.display =\n",
              "          google.colab.kernel.accessAllowed ? 'block' : 'none';\n",
              "\n",
              "        async function convertToInteractive(key) {\n",
              "          const element = document.querySelector('#df-1206f2bc-044d-49b2-8e91-eac4437a98e1');\n",
              "          const dataTable =\n",
              "            await google.colab.kernel.invokeFunction('convertToInteractive',\n",
              "                                                     [key], {});\n",
              "          if (!dataTable) return;\n",
              "\n",
              "          const docLinkHtml = 'Like what you see? Visit the ' +\n",
              "            '<a target=\"_blank\" href=https://colab.research.google.com/notebooks/data_table.ipynb>data table notebook</a>'\n",
              "            + ' to learn more about interactive tables.';\n",
              "          element.innerHTML = '';\n",
              "          dataTable['output_type'] = 'display_data';\n",
              "          await google.colab.output.renderOutput(dataTable, element);\n",
              "          const docLink = document.createElement('div');\n",
              "          docLink.innerHTML = docLinkHtml;\n",
              "          element.appendChild(docLink);\n",
              "        }\n",
              "      </script>\n",
              "    </div>\n",
              "  </div>\n",
              "  "
            ]
          },
          "metadata": {},
          "execution_count": 4
        }
      ]
    },
    {
      "cell_type": "code",
      "source": [
        "df_multiple.describe()"
      ],
      "metadata": {
        "colab": {
          "base_uri": "https://localhost:8080/",
          "height": 300
        },
        "id": "sBwKWClh1YHN",
        "outputId": "0939900e-9690-4da3-950f-59662abe7c2f"
      },
      "execution_count": null,
      "outputs": [
        {
          "output_type": "execute_result",
          "data": {
            "text/plain": [
              "               TV       Radio   Newspaper       Sales\n",
              "count  200.000000  200.000000  200.000000  200.000000\n",
              "mean   147.042500   23.264000   30.554000   15.130500\n",
              "std     85.854236   14.846809   21.778621    5.283892\n",
              "min      0.700000    0.000000    0.300000    1.600000\n",
              "25%     74.375000    9.975000   12.750000   11.000000\n",
              "50%    149.750000   22.900000   25.750000   16.000000\n",
              "75%    218.825000   36.525000   45.100000   19.050000\n",
              "max    296.400000   49.600000  114.000000   27.000000"
            ],
            "text/html": [
              "\n",
              "  <div id=\"df-1c9ace68-2b10-4162-8a89-b95279e6cff8\">\n",
              "    <div class=\"colab-df-container\">\n",
              "      <div>\n",
              "<style scoped>\n",
              "    .dataframe tbody tr th:only-of-type {\n",
              "        vertical-align: middle;\n",
              "    }\n",
              "\n",
              "    .dataframe tbody tr th {\n",
              "        vertical-align: top;\n",
              "    }\n",
              "\n",
              "    .dataframe thead th {\n",
              "        text-align: right;\n",
              "    }\n",
              "</style>\n",
              "<table border=\"1\" class=\"dataframe\">\n",
              "  <thead>\n",
              "    <tr style=\"text-align: right;\">\n",
              "      <th></th>\n",
              "      <th>TV</th>\n",
              "      <th>Radio</th>\n",
              "      <th>Newspaper</th>\n",
              "      <th>Sales</th>\n",
              "    </tr>\n",
              "  </thead>\n",
              "  <tbody>\n",
              "    <tr>\n",
              "      <th>count</th>\n",
              "      <td>200.000000</td>\n",
              "      <td>200.000000</td>\n",
              "      <td>200.000000</td>\n",
              "      <td>200.000000</td>\n",
              "    </tr>\n",
              "    <tr>\n",
              "      <th>mean</th>\n",
              "      <td>147.042500</td>\n",
              "      <td>23.264000</td>\n",
              "      <td>30.554000</td>\n",
              "      <td>15.130500</td>\n",
              "    </tr>\n",
              "    <tr>\n",
              "      <th>std</th>\n",
              "      <td>85.854236</td>\n",
              "      <td>14.846809</td>\n",
              "      <td>21.778621</td>\n",
              "      <td>5.283892</td>\n",
              "    </tr>\n",
              "    <tr>\n",
              "      <th>min</th>\n",
              "      <td>0.700000</td>\n",
              "      <td>0.000000</td>\n",
              "      <td>0.300000</td>\n",
              "      <td>1.600000</td>\n",
              "    </tr>\n",
              "    <tr>\n",
              "      <th>25%</th>\n",
              "      <td>74.375000</td>\n",
              "      <td>9.975000</td>\n",
              "      <td>12.750000</td>\n",
              "      <td>11.000000</td>\n",
              "    </tr>\n",
              "    <tr>\n",
              "      <th>50%</th>\n",
              "      <td>149.750000</td>\n",
              "      <td>22.900000</td>\n",
              "      <td>25.750000</td>\n",
              "      <td>16.000000</td>\n",
              "    </tr>\n",
              "    <tr>\n",
              "      <th>75%</th>\n",
              "      <td>218.825000</td>\n",
              "      <td>36.525000</td>\n",
              "      <td>45.100000</td>\n",
              "      <td>19.050000</td>\n",
              "    </tr>\n",
              "    <tr>\n",
              "      <th>max</th>\n",
              "      <td>296.400000</td>\n",
              "      <td>49.600000</td>\n",
              "      <td>114.000000</td>\n",
              "      <td>27.000000</td>\n",
              "    </tr>\n",
              "  </tbody>\n",
              "</table>\n",
              "</div>\n",
              "      <button class=\"colab-df-convert\" onclick=\"convertToInteractive('df-1c9ace68-2b10-4162-8a89-b95279e6cff8')\"\n",
              "              title=\"Convert this dataframe to an interactive table.\"\n",
              "              style=\"display:none;\">\n",
              "        \n",
              "  <svg xmlns=\"http://www.w3.org/2000/svg\" height=\"24px\"viewBox=\"0 0 24 24\"\n",
              "       width=\"24px\">\n",
              "    <path d=\"M0 0h24v24H0V0z\" fill=\"none\"/>\n",
              "    <path d=\"M18.56 5.44l.94 2.06.94-2.06 2.06-.94-2.06-.94-.94-2.06-.94 2.06-2.06.94zm-11 1L8.5 8.5l.94-2.06 2.06-.94-2.06-.94L8.5 2.5l-.94 2.06-2.06.94zm10 10l.94 2.06.94-2.06 2.06-.94-2.06-.94-.94-2.06-.94 2.06-2.06.94z\"/><path d=\"M17.41 7.96l-1.37-1.37c-.4-.4-.92-.59-1.43-.59-.52 0-1.04.2-1.43.59L10.3 9.45l-7.72 7.72c-.78.78-.78 2.05 0 2.83L4 21.41c.39.39.9.59 1.41.59.51 0 1.02-.2 1.41-.59l7.78-7.78 2.81-2.81c.8-.78.8-2.07 0-2.86zM5.41 20L4 18.59l7.72-7.72 1.47 1.35L5.41 20z\"/>\n",
              "  </svg>\n",
              "      </button>\n",
              "      \n",
              "  <style>\n",
              "    .colab-df-container {\n",
              "      display:flex;\n",
              "      flex-wrap:wrap;\n",
              "      gap: 12px;\n",
              "    }\n",
              "\n",
              "    .colab-df-convert {\n",
              "      background-color: #E8F0FE;\n",
              "      border: none;\n",
              "      border-radius: 50%;\n",
              "      cursor: pointer;\n",
              "      display: none;\n",
              "      fill: #1967D2;\n",
              "      height: 32px;\n",
              "      padding: 0 0 0 0;\n",
              "      width: 32px;\n",
              "    }\n",
              "\n",
              "    .colab-df-convert:hover {\n",
              "      background-color: #E2EBFA;\n",
              "      box-shadow: 0px 1px 2px rgba(60, 64, 67, 0.3), 0px 1px 3px 1px rgba(60, 64, 67, 0.15);\n",
              "      fill: #174EA6;\n",
              "    }\n",
              "\n",
              "    [theme=dark] .colab-df-convert {\n",
              "      background-color: #3B4455;\n",
              "      fill: #D2E3FC;\n",
              "    }\n",
              "\n",
              "    [theme=dark] .colab-df-convert:hover {\n",
              "      background-color: #434B5C;\n",
              "      box-shadow: 0px 1px 3px 1px rgba(0, 0, 0, 0.15);\n",
              "      filter: drop-shadow(0px 1px 2px rgba(0, 0, 0, 0.3));\n",
              "      fill: #FFFFFF;\n",
              "    }\n",
              "  </style>\n",
              "\n",
              "      <script>\n",
              "        const buttonEl =\n",
              "          document.querySelector('#df-1c9ace68-2b10-4162-8a89-b95279e6cff8 button.colab-df-convert');\n",
              "        buttonEl.style.display =\n",
              "          google.colab.kernel.accessAllowed ? 'block' : 'none';\n",
              "\n",
              "        async function convertToInteractive(key) {\n",
              "          const element = document.querySelector('#df-1c9ace68-2b10-4162-8a89-b95279e6cff8');\n",
              "          const dataTable =\n",
              "            await google.colab.kernel.invokeFunction('convertToInteractive',\n",
              "                                                     [key], {});\n",
              "          if (!dataTable) return;\n",
              "\n",
              "          const docLinkHtml = 'Like what you see? Visit the ' +\n",
              "            '<a target=\"_blank\" href=https://colab.research.google.com/notebooks/data_table.ipynb>data table notebook</a>'\n",
              "            + ' to learn more about interactive tables.';\n",
              "          element.innerHTML = '';\n",
              "          dataTable['output_type'] = 'display_data';\n",
              "          await google.colab.output.renderOutput(dataTable, element);\n",
              "          const docLink = document.createElement('div');\n",
              "          docLink.innerHTML = docLinkHtml;\n",
              "          element.appendChild(docLink);\n",
              "        }\n",
              "      </script>\n",
              "    </div>\n",
              "  </div>\n",
              "  "
            ]
          },
          "metadata": {},
          "execution_count": 5
        }
      ]
    },
    {
      "cell_type": "markdown",
      "source": [
        "##### Checking Missing Values"
      ],
      "metadata": {
        "id": "98mKzglv1tVV"
      }
    },
    {
      "cell_type": "code",
      "source": [
        "df_multiple.isnull().sum()"
      ],
      "metadata": {
        "colab": {
          "base_uri": "https://localhost:8080/"
        },
        "id": "M9Og0kEB1hiN",
        "outputId": "089f203c-f8be-42d4-a53a-fdb811da03f6"
      },
      "execution_count": null,
      "outputs": [
        {
          "output_type": "execute_result",
          "data": {
            "text/plain": [
              "TV           0\n",
              "Radio        0\n",
              "Newspaper    0\n",
              "Sales        0\n",
              "dtype: int64"
            ]
          },
          "metadata": {},
          "execution_count": 6
        }
      ]
    },
    {
      "cell_type": "markdown",
      "source": [
        "##### Define the Independent & Dependent Variables\n",
        "\n",
        "$X$ = **Independent Variables**: (Feature) also called: \"*predictor variables*\"\\\n",
        "$y$ = **Dependent Variables**: (Target) also called\" \"*predicted variable*\" or \"*response variable*\""
      ],
      "metadata": {
        "id": "NA6dtAlq2DoN"
      }
    },
    {
      "cell_type": "code",
      "source": [
        "X = df_multiple[[\"TV\", \"Radio\", \"Newspaper\"]] # Independent Variables (Feature)\n",
        "y = df_multiple[\"Sales\"] # Dependent Variables (Target)"
      ],
      "metadata": {
        "id": "gppQ5mze1_eR"
      },
      "execution_count": null,
      "outputs": []
    },
    {
      "cell_type": "markdown",
      "source": [
        "##### Train-Test Split"
      ],
      "metadata": {
        "id": "s91uCRzE2-Fw"
      }
    },
    {
      "cell_type": "markdown",
      "source": [
        "تقسيم البيانات إلى: \n",
        "- بيانات تدريب ==> لتدريب نموذج تعلم الآلة (نموذج الإنحدار الخطي)\n",
        "- بيانات اختبار ==> لاختبار أداء النموذج بعد التدريب وتعلمها من البيانات المعطى لها"
      ],
      "metadata": {
        "id": "hyP9EolM3VTp"
      }
    },
    {
      "cell_type": "code",
      "source": [
        "train_test_split(X, y, test_size=0.25, random_state=42)"
      ],
      "metadata": {
        "colab": {
          "base_uri": "https://localhost:8080/"
        },
        "id": "0DMjomBv3Fih",
        "outputId": "03f46afa-058c-4328-9884-14dcff9a123c"
      },
      "execution_count": null,
      "outputs": [
        {
          "output_type": "execute_result",
          "data": {
            "text/plain": [
              "[        TV  Radio  Newspaper\n",
              " 114   78.2   46.8       34.5\n",
              " 173  168.4    7.1       12.8\n",
              " 5      8.7   48.9       75.0\n",
              " 126    7.8   38.9       50.6\n",
              " 117   76.4    0.8       14.8\n",
              " ..     ...    ...        ...\n",
              " 106   25.0   11.0       29.7\n",
              " 14   204.1   32.9       46.0\n",
              " 92   217.7   33.5       59.0\n",
              " 179  165.6   10.0       17.6\n",
              " 102  280.2   10.1       21.4\n",
              " \n",
              " [150 rows x 3 columns],         TV  Radio  Newspaper\n",
              " 95   163.3   31.6       52.9\n",
              " 15   195.4   47.7       52.9\n",
              " 30   292.9   28.3       43.2\n",
              " 158   11.7   36.9       45.2\n",
              " 128  220.3   49.0        3.2\n",
              " 115   75.1   35.0       52.7\n",
              " 69   216.8   43.9       27.2\n",
              " 170   50.0   11.6       18.4\n",
              " 174  222.4    3.4       13.1\n",
              " 45   175.1   22.5       31.5\n",
              " 66    31.5   24.6        2.2\n",
              " 182   56.2    5.7       29.7\n",
              " 165  234.5    3.4       84.8\n",
              " 78     5.4   29.9        9.4\n",
              " 186  139.5    2.1       26.6\n",
              " 177  170.2    7.8       35.2\n",
              " 56     7.3   28.1       41.4\n",
              " 152  197.6   23.3       14.2\n",
              " 82    75.3   20.3       32.5\n",
              " 68   237.4   27.5       11.0\n",
              " 124  229.5   32.3       74.2\n",
              " 16    67.8   36.6      114.0\n",
              " 148   38.0   40.3       11.9\n",
              " 93   250.9   36.5       72.3\n",
              " 65    69.0    9.3        0.9\n",
              " 60    53.5    2.0       21.4\n",
              " 84   213.5   43.0       33.8\n",
              " 67   139.3   14.5       10.2\n",
              " 125   87.2   11.8       25.9\n",
              " 132    8.4   27.2        2.1\n",
              " 9    199.8    2.6       21.2\n",
              " 18    69.2   20.5       18.3\n",
              " 55   198.9   49.4       60.0\n",
              " 75    16.9   43.7       89.4\n",
              " 150  280.7   13.9       37.0\n",
              " 104  238.2   34.3        5.3\n",
              " 135   48.3   47.0        8.5\n",
              " 137  273.7   28.9       59.7\n",
              " 164  117.2   14.7        5.4\n",
              " 76    27.5    1.6       20.7\n",
              " 79   116.0    7.7       23.1\n",
              " 197  177.0    9.3        6.4\n",
              " 38    43.1   26.7       35.1\n",
              " 24    62.3   12.6       18.3\n",
              " 122  224.0    2.4       15.6\n",
              " 195   38.2    3.7       13.8\n",
              " 29    70.6   16.0       40.8\n",
              " 19   147.3   23.9       19.1\n",
              " 143  104.6    5.7       34.4\n",
              " 86    76.3   27.5       16.0, 114    14.6\n",
              " 173    16.7\n",
              " 5       7.2\n",
              " 126     6.6\n",
              " 117     9.4\n",
              "        ... \n",
              " 106     7.2\n",
              " 14     19.0\n",
              " 92     19.4\n",
              " 179    17.6\n",
              " 102    19.8\n",
              " Name: Sales, Length: 150, dtype: float64, 95     16.9\n",
              " 15     22.4\n",
              " 30     21.4\n",
              " 158     7.3\n",
              " 128    24.7\n",
              " 115    12.6\n",
              " 69     22.3\n",
              " 170     8.4\n",
              " 174    16.5\n",
              " 45     16.1\n",
              " 66     11.0\n",
              " 182     8.7\n",
              " 165    16.9\n",
              " 78      5.3\n",
              " 186    10.3\n",
              " 177    16.7\n",
              " 56      5.5\n",
              " 152    16.6\n",
              " 82     11.3\n",
              " 68     18.9\n",
              " 124    19.7\n",
              " 16     12.5\n",
              " 148    10.9\n",
              " 93     22.2\n",
              " 65     11.3\n",
              " 60      8.1\n",
              " 84     21.7\n",
              " 67     13.4\n",
              " 125    10.6\n",
              " 132     5.7\n",
              " 9      15.6\n",
              " 18     11.3\n",
              " 55     23.7\n",
              " 75      8.7\n",
              " 150    16.1\n",
              " 104    20.7\n",
              " 135    11.6\n",
              " 137    20.8\n",
              " 164    11.9\n",
              " 76      6.9\n",
              " 79     11.0\n",
              " 197    14.8\n",
              " 38     10.1\n",
              " 24      9.7\n",
              " 122    16.6\n",
              " 195     7.6\n",
              " 29     10.5\n",
              " 19     14.6\n",
              " 143    10.4\n",
              " 86     12.0\n",
              " Name: Sales, dtype: float64]"
            ]
          },
          "metadata": {},
          "execution_count": 8
        }
      ]
    },
    {
      "cell_type": "markdown",
      "source": [
        "راح نستخدم 25% من البيانات لتكون بيانات اختبار"
      ],
      "metadata": {
        "id": "eKTCmeyR4eQV"
      }
    },
    {
      "cell_type": "code",
      "source": [
        "X_train, X_test, y_train, y_test = train_test_split(X, y, test_size = 0.25 , random_state = 42)"
      ],
      "metadata": {
        "id": "DrZwRC4s21nh"
      },
      "execution_count": null,
      "outputs": []
    },
    {
      "cell_type": "markdown",
      "source": [
        "##### Building & Fitting the Model"
      ],
      "metadata": {
        "id": "Mi9_7LxA4qka"
      }
    },
    {
      "cell_type": "markdown",
      "source": [
        "الآن ندرب النموذج بهذه الطريقة "
      ],
      "metadata": {
        "id": "CF0D-Wxj0hd_"
      }
    },
    {
      "cell_type": "code",
      "source": [
        "lr = LinearRegression()"
      ],
      "metadata": {
        "id": "01lGtUQN4dJ7"
      },
      "execution_count": null,
      "outputs": []
    },
    {
      "cell_type": "code",
      "source": [
        "lr.fit(X_train, y_train)"
      ],
      "metadata": {
        "colab": {
          "base_uri": "https://localhost:8080/"
        },
        "id": "6voXCLzZ4yIp",
        "outputId": "bb55e3a3-9ade-4b48-a631-fdcb0f3ad619"
      },
      "execution_count": null,
      "outputs": [
        {
          "output_type": "execute_result",
          "data": {
            "text/plain": [
              "LinearRegression()"
            ]
          },
          "metadata": {},
          "execution_count": 11
        }
      ]
    },
    {
      "cell_type": "markdown",
      "source": [
        "##### Intercept and Coefficients for the Model"
      ],
      "metadata": {
        "id": "Wned2E5j5AcH"
      }
    },
    {
      "cell_type": "markdown",
      "source": [
        "بعدها نوجد قيم المعاملات اللي حصلنا عليه من عملية التدريب للنموذج (يعني نكتب المعادلة حق الانحدار الخطي)"
      ],
      "metadata": {
        "id": "9zznQnnt0x0G"
      }
    },
    {
      "cell_type": "markdown",
      "source": [
        "$y = b_0 + b_1*x_1 + b_2*x_2 + b_3*x_3$\\\n",
        "$Where:$\\\n",
        "$y:$ Dependent variable\\\n",
        "$x_1,x_2,x_3:$ Independent variables\\\n",
        "$b_0:$ Intercept\\\n",
        "$b_1,b_2,b_3:$ coefficients"
      ],
      "metadata": {
        "id": "8kUuuJL15Qgj"
      }
    },
    {
      "cell_type": "code",
      "source": [
        "print(\"Interpect = {}\\nCoefficients = {}\".format(lr.intercept_, lr.coef_))"
      ],
      "metadata": {
        "colab": {
          "base_uri": "https://localhost:8080/"
        },
        "id": "8egABJPw48fY",
        "outputId": "a5016074-01c6-4862-84a9-5cb746283b2c"
      },
      "execution_count": null,
      "outputs": [
        {
          "output_type": "stream",
          "name": "stdout",
          "text": [
            "Interpect = 4.741842244124568\n",
            "Coefficients = [0.05461383 0.09975946 0.00430495]\n"
          ]
        }
      ]
    },
    {
      "cell_type": "markdown",
      "source": [
        "> Intercept : $b_0=4.7418$\\\n",
        "Coefficients : \\\n",
        "$b_1=0.05461383$ (Coefficient for TV)\\\n",
        "$b_2=0.09975946$ (Coefficient for Radio)\\\n",
        "$b_3=0.00430495$ (Coefficient for Newspaper)"
      ],
      "metadata": {
        "id": "E6FpDGMY7yug"
      }
    },
    {
      "cell_type": "code",
      "source": [
        "b0 = lr.intercept_\n",
        "b1 = lr.coef_[0] # Coefficient for TV\n",
        "b2 = lr.coef_[1] # Coefficient for Radio\n",
        "b3 = lr.coef_[2] # Coefficient for Newspaper"
      ],
      "metadata": {
        "id": "MV33gX9e9tE9"
      },
      "execution_count": null,
      "outputs": []
    },
    {
      "cell_type": "markdown",
      "source": [
        "هذه هي المعادلة بعد ما عملنا training for model\\\n",
        "أو تسمى كذلك\\\n",
        "Fitting Model\\\n",
        "$y = 4.7418 + 0.0546*x_1 + 0.0998*x_2 + 0.0043*x_3$"
      ],
      "metadata": {
        "id": "R-iDWLm31JJY"
      }
    },
    {
      "cell_type": "markdown",
      "source": [
        "##### Model Evaluation\n",
        "عشان نقيم النموذج حقنا نحتاج نختبرها قبل ذلك.\n",
        "\n",
        "راح نشوف ايش هو الفرق بين:\n",
        "- r-squared\n",
        "- adjusted r-squared\n",
        "\n",
        "ومتى المفترض نتسخدم كل واحد فيهم في عملية نقييم النموذج\n",
        "\n",
        "Interpreting Results with Adjusted R Squared\n",
        "\n",
        "$ Adjusted\\ R^2=1-\\frac{(1-R^2)(N-1)}{N-p-1}$\\\n",
        "where:\\\n",
        "$R^2:$ Sample R-Squared\\\n",
        "$N:$ Total Sample Size\\\n",
        "$p:$ Number of independent variable"
      ],
      "metadata": {
        "id": "_Sq3oboiARsb"
      }
    },
    {
      "cell_type": "markdown",
      "source": [
        "###### Finding $R^2$\n",
        "When using **more than one predictor** R squared is **not convenient** to see our model performance."
      ],
      "metadata": {
        "id": "7_3PPe1DCxT3"
      }
    },
    {
      "cell_type": "markdown",
      "source": [
        "هنا راح نستخدم البيانات اللي فصلناها عشان نستخدمها في الاختبار\n",
        "\n",
        "using the testing data"
      ],
      "metadata": {
        "id": "_wXclwx32Zbo"
      }
    },
    {
      "cell_type": "code",
      "source": [
        "lr.predict(X_test)"
      ],
      "metadata": {
        "colab": {
          "base_uri": "https://localhost:8080/"
        },
        "outputId": "be45b1aa-1792-43c9-8c4a-ce52ca1a2d3c",
        "id": "YSxfRyfuCqhw"
      },
      "execution_count": null,
      "outputs": [
        {
          "output_type": "execute_result",
          "data": {
            "text/plain": [
              "array([17.04041233, 20.39964377, 23.74740099,  9.25653209, 21.67525948,\n",
              "       12.56179334, 21.07865662,  8.70895483, 17.28353601, 16.68491851,\n",
              "        8.92573172,  8.50762572, 18.2530284 ,  8.06003145, 12.68447869,\n",
              "       14.96677492,  8.12198913, 17.91906169, 11.01929198, 20.4979062 ,\n",
              "       20.81737524, 12.58662099, 10.88870324, 22.39692163,  9.44183427,\n",
              "        7.95532725, 20.83706013, 13.83997207, 10.79282849,  7.92309626,\n",
              "       16.00432589, 10.64496918, 20.79094843, 10.40916722, 21.61788525,\n",
              "       21.1954234 , 12.10497731, 22.82970275, 12.63229447,  6.49245031,\n",
              "       11.94463925, 15.3638056 ,  9.91037996,  9.48003396, 17.28192106,\n",
              "        7.25660905, 10.36937236, 15.25293577, 11.17116856, 11.72114226])"
            ]
          },
          "metadata": {},
          "execution_count": 14
        }
      ]
    },
    {
      "cell_type": "code",
      "source": [
        "y_pred = lr.predict(X_test) # predict test data"
      ],
      "metadata": {
        "id": "5_jM6bQcCqiI"
      },
      "execution_count": null,
      "outputs": []
    },
    {
      "cell_type": "markdown",
      "source": [
        "sklearn.metrics.r2_score\\\n",
        "https://scikit-learn.org/stable/modules/generated/sklearn.metrics.r2_score.html"
      ],
      "metadata": {
        "id": "5XKnrjHKCqiL"
      }
    },
    {
      "cell_type": "code",
      "source": [
        "from sklearn.metrics import r2_score"
      ],
      "metadata": {
        "id": "l5NgAaxlCqiL"
      },
      "execution_count": null,
      "outputs": []
    },
    {
      "cell_type": "code",
      "source": [
        "r2_score(y_test,y_pred)"
      ],
      "metadata": {
        "colab": {
          "base_uri": "https://localhost:8080/"
        },
        "id": "HRcyooRQDEMm",
        "outputId": "7e8abcf3-f9a3-4677-9532-b161f27727fd"
      },
      "execution_count": null,
      "outputs": [
        {
          "output_type": "execute_result",
          "data": {
            "text/plain": [
              "0.9115647723992757"
            ]
          },
          "metadata": {},
          "execution_count": 17
        }
      ]
    },
    {
      "cell_type": "code",
      "source": [
        "r_squared = r2_score(y_test,y_pred) # calculate r2 score"
      ],
      "metadata": {
        "id": "aEhcYOMsDLij"
      },
      "execution_count": null,
      "outputs": []
    },
    {
      "cell_type": "code",
      "source": [
        "print('R2 Score is :',round(r_squared,4)*100,\"%\")"
      ],
      "metadata": {
        "colab": {
          "base_uri": "https://localhost:8080/"
        },
        "id": "hVumBwu9DD_g",
        "outputId": "4da3e6ad-e119-4de8-ae0d-e52aec3c881b"
      },
      "execution_count": null,
      "outputs": [
        {
          "output_type": "stream",
          "name": "stdout",
          "text": [
            "R2 Score is : 91.16 %\n"
          ]
        }
      ]
    },
    {
      "cell_type": "markdown",
      "source": [
        "> ملاحظة: لمن يكون لدينا أكثر من متغير مستقل استخدام r-squared في هذه الحالة لايكون مناسبًا لتقييم أداء النموذج\n",
        "\n",
        "مشكلتها أن الرقم اللي يطلع من الـ r-squared راح يزيد كل ما أضفنا متغير مستقل مما يعطي انطباع أن النموذج قاعد يتحسن"
      ],
      "metadata": {
        "id": "s48phaHb3q0B"
      }
    },
    {
      "cell_type": "markdown",
      "source": [
        "###### Finding Adjusted $R^2$\n",
        "Adjusted R Squared has the capability to decrease with the addition of less significant variables, thus resulting in a more reliable and accurate evaluation."
      ],
      "metadata": {
        "id": "sDjV2xzXDz0L"
      }
    },
    {
      "cell_type": "markdown",
      "source": [
        "راح نستخدم قيمة r-squared بداخل الـ adjusted r-squared"
      ],
      "metadata": {
        "id": "9ttoeXNj9ik9"
      }
    },
    {
      "cell_type": "markdown",
      "source": [
        "Adjusted R Squared\n",
        "\n",
        "$ Adjusted\\ R^2=1-\\frac{(1-R^2)(N-1)}{N-p-1}$"
      ],
      "metadata": {
        "id": "JhFZhCTP-bZ1"
      }
    },
    {
      "cell_type": "markdown",
      "source": [
        "$R^2:$ Sample R-Squared"
      ],
      "metadata": {
        "id": "_CFlBiXj-sNb"
      }
    },
    {
      "cell_type": "code",
      "source": [
        "from sklearn.metrics import r2_score\n",
        "y_pred = lr.predict(X_test) # predict test data\n",
        "r_squared = r2_score(y_test,y_pred) # calculate r2 score\n",
        "print(\"Sample R-Squared = {}\".format(r_squared))"
      ],
      "metadata": {
        "colab": {
          "base_uri": "https://localhost:8080/"
        },
        "id": "p3iL-hq5-bCY",
        "outputId": "2d8266f9-3fb0-473c-eadb-770b714720a2"
      },
      "execution_count": null,
      "outputs": [
        {
          "output_type": "stream",
          "name": "stdout",
          "text": [
            "Sample R-Squared = 0.9115647723992757\n"
          ]
        }
      ]
    },
    {
      "cell_type": "markdown",
      "source": [
        "$N:$ Total Sample Size"
      ],
      "metadata": {
        "id": "rEypS6qJ-eI5"
      }
    },
    {
      "cell_type": "code",
      "source": [
        "N = len(y)\n",
        "print(\"Total Sample Size = {}\".format(N))"
      ],
      "metadata": {
        "colab": {
          "base_uri": "https://localhost:8080/"
        },
        "id": "5kgceHfI-a-8",
        "outputId": "af4fb751-cad4-4636-8e71-ddc37abe4d0e"
      },
      "execution_count": null,
      "outputs": [
        {
          "output_type": "stream",
          "name": "stdout",
          "text": [
            "Total Sample Size = 200\n"
          ]
        }
      ]
    },
    {
      "cell_type": "markdown",
      "source": [
        "$p:$ Number of independent variable"
      ],
      "metadata": {
        "id": "35hYuTmd-end"
      }
    },
    {
      "cell_type": "code",
      "source": [
        "X.shape"
      ],
      "metadata": {
        "colab": {
          "base_uri": "https://localhost:8080/"
        },
        "id": "EU8_ILcY-a58",
        "outputId": "b1ad7278-210f-40de-bcd3-080c32cb6327"
      },
      "execution_count": null,
      "outputs": [
        {
          "output_type": "execute_result",
          "data": {
            "text/plain": [
              "(200, 3)"
            ]
          },
          "metadata": {},
          "execution_count": 23
        }
      ]
    },
    {
      "cell_type": "code",
      "source": [
        "p = X.shape[1]\n",
        "print(\"Number of independent variable = {}\".format(p))"
      ],
      "metadata": {
        "colab": {
          "base_uri": "https://localhost:8080/"
        },
        "id": "HINEkIwx_xbu",
        "outputId": "3618ce1b-1b01-4b22-c341-3c1b273f97d4"
      },
      "execution_count": null,
      "outputs": [
        {
          "output_type": "stream",
          "name": "stdout",
          "text": [
            "Number of independent variable = 3\n"
          ]
        }
      ]
    },
    {
      "cell_type": "code",
      "source": [
        "adjusted_r_squared = 1 - (1 - r_squared)*(N-1)/(N-p-1)\n",
        "print(\"Adjusted r-squared = {:.2%}\".format(adjusted_r_squared))"
      ],
      "metadata": {
        "colab": {
          "base_uri": "https://localhost:8080/"
        },
        "id": "nz1qYYi1D7Tf",
        "outputId": "3edc5486-82f8-497f-bdd7-a5ae5f43ed53"
      },
      "execution_count": null,
      "outputs": [
        {
          "output_type": "stream",
          "name": "stdout",
          "text": [
            "Adjusted r-squared = 91.02%\n"
          ]
        }
      ]
    },
    {
      "cell_type": "markdown",
      "source": [
        "##### Predict New Sales"
      ],
      "metadata": {
        "id": "vv7j5dKP_uRE"
      }
    },
    {
      "cell_type": "markdown",
      "source": [
        "كم المبيعات المتوقعة لو انفقنا في إعلانات التلفزيون 200 دولار و إعلانات الإذاعة 50 دولار و أخيرًا إعلانات الصحف 20 دولار؟"
      ],
      "metadata": {
        "id": "WNJ0vtOx9JUv"
      }
    },
    {
      "cell_type": "code",
      "source": [
        "y = b0 + b1 * 200 + b2 * 50 + b3 * 20\n",
        "print(\"The predicted new sales is {:.4}\".format(y))"
      ],
      "metadata": {
        "colab": {
          "base_uri": "https://localhost:8080/"
        },
        "id": "43vd0gv169GC",
        "outputId": "3a66ac99-5aff-4a7d-a6ab-cfaed67ac78f"
      },
      "execution_count": null,
      "outputs": [
        {
          "output_type": "stream",
          "name": "stdout",
          "text": [
            "The predicted new sales is 20.74\n"
          ]
        }
      ]
    },
    {
      "cell_type": "markdown",
      "source": [
        "أو يمكن استخدام الطريقة التالية لإيجاد نفس الناتج"
      ],
      "metadata": {
        "id": "8oH-nZOP_EuZ"
      }
    },
    {
      "cell_type": "code",
      "source": [
        "round(lr.predict([[200,50,20]])[0],2)"
      ],
      "metadata": {
        "colab": {
          "base_uri": "https://localhost:8080/"
        },
        "id": "cQniztOL-SAy",
        "outputId": "a41e1d32-b3ac-476e-9df5-3c18dfcf8c88"
      },
      "execution_count": null,
      "outputs": [
        {
          "output_type": "stream",
          "name": "stderr",
          "text": [
            "/usr/local/lib/python3.7/dist-packages/sklearn/base.py:451: UserWarning: X does not have valid feature names, but LinearRegression was fitted with feature names\n",
            "  \"X does not have valid feature names, but\"\n"
          ]
        },
        {
          "output_type": "execute_result",
          "data": {
            "text/plain": [
              "20.74"
            ]
          },
          "metadata": {},
          "execution_count": 30
        }
      ]
    },
    {
      "cell_type": "code",
      "source": [
        "lr.predict([[200,50,20]])"
      ],
      "metadata": {
        "colab": {
          "base_uri": "https://localhost:8080/"
        },
        "id": "ILEMIwHE_Zyn",
        "outputId": "b0087d8f-d0ed-4590-d5f5-539233a31fbb"
      },
      "execution_count": null,
      "outputs": [
        {
          "output_type": "stream",
          "name": "stderr",
          "text": [
            "/usr/local/lib/python3.7/dist-packages/sklearn/base.py:451: UserWarning: X does not have valid feature names, but LinearRegression was fitted with feature names\n",
            "  \"X does not have valid feature names, but\"\n"
          ]
        },
        {
          "output_type": "execute_result",
          "data": {
            "text/plain": [
              "array([20.73868129])"
            ]
          },
          "metadata": {},
          "execution_count": 31
        }
      ]
    },
    {
      "cell_type": "markdown",
      "source": [
        "## **3- Guiding to Linear Regression Models**\n",
        "https://www.kdnuggets.com/2020/10/guide-linear-regression-models.html\n",
        "\n",
        "In the universe of **machine learning algorithms**, some models are more transparent than others. *Decision Trees* are definitely one of them, and **Linear Regression models** are another one. Their simplicity and straightforward approach turns them into an ideal tool to approach different problems. Let’s see how."
      ],
      "metadata": {
        "id": "gSTFsoHs-qMp"
      }
    },
    {
      "cell_type": "markdown",
      "source": [
        "نقدر عن طريق نماذج الانحدار الخطي نحلل الرواتب في المكان المعطى بناء على features زي:\n",
        "- experience, \n",
        "- level of education, \n",
        "- role, \n",
        "- city they work in"
      ],
      "metadata": {
        "id": "-pXgkfCuOk1h"
      }
    },
    {
      "cell_type": "markdown",
      "source": [
        "كذلك نقدر نحلل أسعار العقارات بناء على عدة factors زي:\n",
        "- مساحة العقار\n",
        "- عدد غرف النوم\n",
        "- البعد عن وسط المدينة"
      ],
      "metadata": {
        "id": "uvLSyUFrPO0w"
      }
    },
    {
      "cell_type": "markdown",
      "source": [
        "### 3-0 Ordinary Least Square (OLS)\n",
        "https://towardsdatascience.com/linear-regression-simplified-ordinary-least-square-vs-gradient-descent-48145de2cf76"
      ],
      "metadata": {
        "id": "XcsGcMD-cupG"
      }
    },
    {
      "cell_type": "code",
      "source": [
        "x = [2,3,5,13,8,16,11,1,9] # Years of Experience - independent variable\n",
        "y = [15,28,42,64,50,90,58,8,54] # Salary in 1000$ - dependent varible"
      ],
      "metadata": {
        "id": "kwum_ac3c1Zu"
      },
      "execution_count": null,
      "outputs": []
    },
    {
      "cell_type": "code",
      "source": [
        "import matplotlib.pyplot as plt"
      ],
      "metadata": {
        "id": "hXM5cFZxdYO_"
      },
      "execution_count": null,
      "outputs": []
    },
    {
      "cell_type": "code",
      "source": [
        "plt.scatter(x,y)"
      ],
      "metadata": {
        "colab": {
          "base_uri": "https://localhost:8080/",
          "height": 282
        },
        "id": "_awTz1jsdugi",
        "outputId": "1623c2ad-38ab-4976-dbf3-3a49917e4fa6"
      },
      "execution_count": null,
      "outputs": [
        {
          "output_type": "execute_result",
          "data": {
            "text/plain": [
              "<matplotlib.collections.PathCollection at 0x7f18365c0150>"
            ]
          },
          "metadata": {},
          "execution_count": 3
        },
        {
          "output_type": "display_data",
          "data": {
            "text/plain": [
              "<Figure size 432x288 with 1 Axes>"
            ],
            "image/png": "[encoded data removed]"
          },
          "metadata": {
            "needs_background": "light"
          }
        }
      ]
    },
    {
      "cell_type": "markdown",
      "source": [
        "#### Total Sum of Squares (SST)\n",
        "$SST = \\sum_{i=1}^{n}(y_i-\\bar{y})^2$\n",
        "\n",
        "where:\\\n",
        "$y_i:$ Dependent Variables (Salary)\\\n",
        "$\\bar{y}:$ Average of Dependent Variables"
      ],
      "metadata": {
        "id": "iO1f0y1teJrK"
      }
    },
    {
      "cell_type": "code",
      "source": [
        "y_avg = sum(y)/len(y)\n",
        "print('Average of y: {:0.4}'.format(y_avg))"
      ],
      "metadata": {
        "colab": {
          "base_uri": "https://localhost:8080/"
        },
        "id": "2QMSLscWe7y4",
        "outputId": "5ade4543-f18f-45f5-8fdc-e1c3cf4e9129"
      },
      "execution_count": null,
      "outputs": [
        {
          "output_type": "stream",
          "name": "stdout",
          "text": [
            "Average of y: 45.44\n"
          ]
        }
      ]
    },
    {
      "cell_type": "code",
      "source": [
        "# Caculate Error y - y_avg\n",
        "Error = []\n",
        "for i in y:\n",
        "    E = i - y_avg\n",
        "    Error.append(E)\n",
        "print(Error)"
      ],
      "metadata": {
        "colab": {
          "base_uri": "https://localhost:8080/"
        },
        "id": "HmPHi3iRf0nE",
        "outputId": "7d618b4f-9e12-4b1b-c3a2-c7ee0893ba5d"
      },
      "execution_count": null,
      "outputs": [
        {
          "output_type": "stream",
          "name": "stdout",
          "text": [
            "[-30.444444444444443, -17.444444444444443, -3.444444444444443, 18.555555555555557, 4.555555555555557, 44.55555555555556, 12.555555555555557, -37.44444444444444, 8.555555555555557]\n"
          ]
        }
      ]
    },
    {
      "cell_type": "code",
      "source": [
        "# Calulate SST\n",
        "Error_squared = []\n",
        "for e in Error:\n",
        "    e_squared = e**2\n",
        "    Error_squared.append(e_squared)\n",
        "\n",
        "SST = sum(Error_squared)\n",
        "print(\"Error_squared = {}\\nSST = {:.6}\".format(Error_squared,SST))"
      ],
      "metadata": {
        "colab": {
          "base_uri": "https://localhost:8080/"
        },
        "id": "S8POsv6Egl67",
        "outputId": "08b20856-ab78-438b-a1ca-bced4f9ae05a"
      },
      "execution_count": null,
      "outputs": [
        {
          "output_type": "stream",
          "name": "stdout",
          "text": [
            "Error_squared = [926.8641975308641, 304.3086419753086, 11.864197530864187, 344.3086419753087, 20.7530864197531, 1985.1975308641977, 157.641975308642, 1402.0864197530864, 73.19753086419756]\n",
            "SST = 5226.22\n"
          ]
        }
      ]
    },
    {
      "cell_type": "markdown",
      "source": [
        "#### Ordinary Least Squares (OLS) Method"
      ],
      "metadata": {
        "id": "AGP-16voisNT"
      }
    },
    {
      "cell_type": "markdown",
      "source": [
        "How to fit the Model (**Model Training**)?\n",
        "\n",
        "نقدر نجيبها بالمعادلات يدويًا\n",
        "\n",
        "$m = \\frac{\\sum_ix_iy_i - \\sum_ix_i\\sum_iy_i}{\\sum_ix_i^2-(\\sum_ix_i)^2}$\n",
        "\n",
        "$b = \\frac{1}{n}\\sum_iy_i-m \\frac{1}{n}\\sum_ix_i$\n",
        "\n",
        "or by **Ordinary Least Squares (OLS) Method**:\n",
        "\n",
        "$m = \\frac{\\sum(x_i-\\bar{x})(y_i-\\bar{y})}{\\sum(x_i-\\bar{x})^2}$\n",
        "\n",
        "$b = \\bar{y}-m*\\bar{x}$\n",
        "\n",
        "the model (equation) is:\n",
        "\n",
        "$y = mx+b$"
      ],
      "metadata": {
        "id": "2OCLv1-XkJJD"
      }
    },
    {
      "cell_type": "code",
      "source": [
        "# x average\n",
        "x_avg = sum(x)/len(x)\n",
        "x_avg"
      ],
      "metadata": {
        "colab": {
          "base_uri": "https://localhost:8080/"
        },
        "id": "9aQvkRVdgZ12",
        "outputId": "45d0e389-7c9e-4567-e95b-b1a79c36bee6"
      },
      "execution_count": null,
      "outputs": [
        {
          "output_type": "execute_result",
          "data": {
            "text/plain": [
              "7.555555555555555"
            ]
          },
          "metadata": {},
          "execution_count": 25
        }
      ]
    },
    {
      "cell_type": "code",
      "source": [
        "# Calulate x - x_avg\n",
        "x_xbar = []\n",
        "for i in x:\n",
        "    x_xbar_diff = i - x_avg\n",
        "    x_xbar.append(x_xbar_diff)\n",
        "print(x_xbar)"
      ],
      "metadata": {
        "colab": {
          "base_uri": "https://localhost:8080/"
        },
        "id": "Y-oAPe2wlTSk",
        "outputId": "e5e4234c-adec-48ef-a698-335a8d28bfcb"
      },
      "execution_count": null,
      "outputs": [
        {
          "output_type": "stream",
          "name": "stdout",
          "text": [
            "[-5.555555555555555, -4.555555555555555, -2.5555555555555554, 5.444444444444445, 0.44444444444444464, 8.444444444444445, 3.4444444444444446, -6.555555555555555, 1.4444444444444446]\n"
          ]
        }
      ]
    },
    {
      "cell_type": "code",
      "source": [
        "import numpy as np\n",
        "x_xbar * np.transpose(Error)"
      ],
      "metadata": {
        "colab": {
          "base_uri": "https://localhost:8080/"
        },
        "id": "IDWsgDLXmRRT",
        "outputId": "0fbc9740-c52f-49be-9734-74f756126a1d"
      },
      "execution_count": null,
      "outputs": [
        {
          "output_type": "execute_result",
          "data": {
            "text/plain": [
              "array([169.13580247,  79.4691358 ,   8.80246914, 101.02469136,\n",
              "         2.02469136, 376.24691358,  43.24691358, 245.4691358 ,\n",
              "        12.35802469])"
            ]
          },
          "metadata": {},
          "execution_count": 31
        }
      ]
    },
    {
      "cell_type": "code",
      "source": [
        "xbar_multi_Error = x_xbar * np.transpose(Error)\n",
        "sum(xbar_multi_Error)"
      ],
      "metadata": {
        "colab": {
          "base_uri": "https://localhost:8080/"
        },
        "id": "42XOAFgUm35C",
        "outputId": "19f3cd5a-4df8-4ab0-9500-83755fa985b0"
      },
      "execution_count": null,
      "outputs": [
        {
          "output_type": "execute_result",
          "data": {
            "text/plain": [
              "1037.7777777777776"
            ]
          },
          "metadata": {},
          "execution_count": 32
        }
      ]
    },
    {
      "cell_type": "code",
      "source": [
        "# Calulate x_xbar_squared\n",
        "x_xbar_squared = []\n",
        "for i in x_xbar:\n",
        "    x_squared = i**2\n",
        "    x_xbar_squared.append(x_squared)\n",
        "\n",
        "print(x_xbar_squared)"
      ],
      "metadata": {
        "colab": {
          "base_uri": "https://localhost:8080/"
        },
        "id": "EWTNax47nIYz",
        "outputId": "c8c01a2e-169a-4798-f1ae-2b015de99928"
      },
      "execution_count": null,
      "outputs": [
        {
          "output_type": "stream",
          "name": "stdout",
          "text": [
            "[30.864197530864196, 20.753086419753085, 6.530864197530863, 29.641975308641978, 0.19753086419753105, 71.30864197530865, 11.8641975308642, 42.9753086419753, 2.08641975308642]\n"
          ]
        }
      ]
    },
    {
      "cell_type": "code",
      "source": [
        "sum(x_xbar_squared)"
      ],
      "metadata": {
        "colab": {
          "base_uri": "https://localhost:8080/"
        },
        "id": "2DCuEqsGnzjT",
        "outputId": "d3e17f08-201c-41c1-9309-c02ed8882b75"
      },
      "execution_count": null,
      "outputs": [
        {
          "output_type": "execute_result",
          "data": {
            "text/plain": [
              "216.22222222222223"
            ]
          },
          "metadata": {},
          "execution_count": 34
        }
      ]
    },
    {
      "cell_type": "code",
      "source": [
        "# slope m is:\n",
        "m = (sum(xbar_multi_Error))/sum(x_xbar_squared)\n",
        "print('the slope m = {:0.4}'.format(m))"
      ],
      "metadata": {
        "colab": {
          "base_uri": "https://localhost:8080/"
        },
        "id": "H3GmCL4Tn5Un",
        "outputId": "08526171-7980-47e6-d68c-6aaeb6cd1b12"
      },
      "execution_count": null,
      "outputs": [
        {
          "output_type": "stream",
          "name": "stdout",
          "text": [
            "the slope m = 4.8\n"
          ]
        }
      ]
    },
    {
      "cell_type": "code",
      "source": [
        "# intercept b is:\n",
        "b = y_avg-m*x_avg\n",
        "print(f'the intercept b = {b:0.3}')"
      ],
      "metadata": {
        "colab": {
          "base_uri": "https://localhost:8080/"
        },
        "id": "pgIVVMNQolu_",
        "outputId": "c9c071a8-ec77-49cf-da7a-5a542781e48c"
      },
      "execution_count": null,
      "outputs": [
        {
          "output_type": "stream",
          "name": "stdout",
          "text": [
            "the intercept b = 9.18\n"
          ]
        }
      ]
    },
    {
      "cell_type": "markdown",
      "source": [
        "so, the Linear Regression Model is:\n",
        "\n",
        "$y=4.8x+9.18$"
      ],
      "metadata": {
        "id": "J6X6dmO8pJPa"
      }
    },
    {
      "cell_type": "code",
      "source": [
        "predict = m*np.transpose(x)+b"
      ],
      "metadata": {
        "id": "jVfNKf1kqB9Y"
      },
      "execution_count": null,
      "outputs": []
    },
    {
      "cell_type": "code",
      "source": [
        "predict"
      ],
      "metadata": {
        "colab": {
          "base_uri": "https://localhost:8080/"
        },
        "id": "mwpfR01MqQV8",
        "outputId": "58ae8ae3-a342-4276-99fd-c985520721d0"
      },
      "execution_count": null,
      "outputs": [
        {
          "output_type": "execute_result",
          "data": {
            "text/plain": [
              "array([18.78006166, 23.57965057, 33.17882837, 71.57553957, 47.57759507,\n",
              "       85.97430627, 61.97636177, 13.98047276, 52.37718397])"
            ]
          },
          "metadata": {},
          "execution_count": 47
        }
      ]
    },
    {
      "cell_type": "code",
      "source": [
        "# Plotting after fitting the line\n",
        "plt.scatter(x,y, color = 'red')\n",
        "plt.plot(x, predict, color = 'green');"
      ],
      "metadata": {
        "colab": {
          "base_uri": "https://localhost:8080/",
          "height": 265
        },
        "id": "FvuTit9apIqu",
        "outputId": "fb375106-cf69-408e-af1c-85e4c7d9dc96"
      },
      "execution_count": null,
      "outputs": [
        {
          "output_type": "display_data",
          "data": {
            "text/plain": [
              "<Figure size 432x288 with 1 Axes>"
            ],
            "image/png": "[encoded data removed]"
          },
          "metadata": {
            "needs_background": "light"
          }
        }
      ]
    },
    {
      "cell_type": "markdown",
      "source": [
        "#### Calculate SSE"
      ],
      "metadata": {
        "id": "-C9eJPsqrZ5B"
      }
    },
    {
      "cell_type": "code",
      "source": [
        "y - predict"
      ],
      "metadata": {
        "colab": {
          "base_uri": "https://localhost:8080/"
        },
        "id": "aSm2wmH-soB4",
        "outputId": "b76437b6-5043-4f45-f494-c1b76509cbb3"
      },
      "execution_count": null,
      "outputs": [
        {
          "output_type": "execute_result",
          "data": {
            "text/plain": [
              "array([-3.78006166,  4.42034943,  8.82117163, -7.57553957,  2.42240493,\n",
              "        4.02569373, -3.97636177, -5.98047276,  1.62281603])"
            ]
          },
          "metadata": {},
          "execution_count": 54
        }
      ]
    },
    {
      "cell_type": "code",
      "source": [
        "# Calulate SSE (SST)\n",
        "\n",
        "# Caculate New Error y - predict\n",
        "New_Error = y - predict\n",
        "\n",
        "New_Error_squared = []\n",
        "for e in New_Error:\n",
        "    e_squared = e**2\n",
        "    New_Error_squared.append(e_squared)\n",
        "\n",
        "SSE = sum(New_Error_squared)\n",
        "print(\"New_Error_squared = {}\\nSSE = {:0.6}\".format(New_Error_squared,SSE))"
      ],
      "metadata": {
        "colab": {
          "base_uri": "https://localhost:8080/"
        },
        "id": "GVuibE-brAzb",
        "outputId": "a87f862f-0fcc-44b9-cec7-8ad66987ea68"
      },
      "execution_count": null,
      "outputs": [
        {
          "output_type": "stream",
          "name": "stdout",
          "text": [
            "New_Error_squared = [14.288866190852934, 19.539489125187867, 77.81306899862585, 57.38879975156539, 5.8680456603737925, 16.206210013636518, 15.811452907854264, 35.76605448866574, 2.633531876598289]\n",
            "SSE = 245.316\n"
          ]
        }
      ]
    },
    {
      "cell_type": "code",
      "source": [
        "print(f\"Sum of Squared Error got reduced significantly from {SST:0.6} to {SSE:0.6}\")"
      ],
      "metadata": {
        "colab": {
          "base_uri": "https://localhost:8080/"
        },
        "id": "4TCpMiMVuYs6",
        "outputId": "b9a4be2a-1266-4b97-aeed-6dbd97b43ef2"
      },
      "execution_count": null,
      "outputs": [
        {
          "output_type": "stream",
          "name": "stdout",
          "text": [
            "Sum of Squared Error got reduced significantly from 5226.22 to 245.316\n"
          ]
        }
      ]
    },
    {
      "cell_type": "markdown",
      "source": [
        "> طريقة OLS بسيطة وسهلة في الحسابات لكنها تستخدم لمجموعات البيانات الصغيرة زي ما نستخدمها في:\n",
        "- Simple Linear Regression\n",
        "\n",
        "نقدر نستخدمها كذلك في الـ multiple linear regression بس راح نستخدم شي بديل لها وأسرع منها وهي:\n",
        "- **Gradient Descent** \"Machine Learning Algorithm\""
      ],
      "metadata": {
        "id": "1VJr8upaur7Z"
      }
    },
    {
      "cell_type": "markdown",
      "source": [
        "### 3-1 Gradient Descent Algorithm\n",
        "You should also know that **Ordinary Least Square (OLS) is not the only method to fit your Linear Regression model**, and other **optimization methods** like **Gradient Descent** are more adequate to **fit large datasets**.\\\n",
        "https://towardsdatascience.com/linear-regression-simplified-ordinary-least-square-vs-gradient-descent-48145de2cf76\n",
        "\n",
        "https://towardsdatascience.com/linear-regression-using-gradient-descent-97a6c8700931\n",
        "\n",
        "Applying OLS to complex and non-linear algorithms might not be scalable, and **Gradient Descent can be computationally cheaper (faster)** for finding the solution."
      ],
      "metadata": {
        "id": "1rn7DyB0XG7l"
      }
    },
    {
      "cell_type": "markdown",
      "source": [
        "Gradient descent algorithm’s *main objective is to minimize the cost function*. It is one of the best optimization algorithms to **minimize errors** (*difference of actual value and predicted value*)."
      ],
      "metadata": {
        "id": "yOPzo29NXM04"
      }
    },
    {
      "cell_type": "markdown",
      "source": [
        "**Steps for the gradient descent**\\\n",
        "https://medium.com/intro-to-artificial-intelligence/gradient-descent-algorithm-explained-with-linear-regression-example-ff6b5491fdb9\n",
        "\n",
        "https://towardsdatascience.com/linear-regression-and-gradient-descent-for-absolute-beginners-eef9574eadb0\n",
        "\n",
        "الخطوات كالتالي:\\\n",
        "1- فالبداية راح نعطي قيم عشاوئية للميل m والتقاطع b\\\n",
        "$y=mx+b$\\\n",
        "2- بعدها نحسب الـ gradient\\\n",
        "$cost=\\frac{1}{2m}\\sum_{i=1}^{m}(h(x^{(i)})-y^{(i)})^2$ (sum of squared errors)\n",
        "\n",
        "where:\n",
        "$h(x^{(i)}):$ the predicted value of regression line\\\n",
        "$y^{(i)}:$ the actual value from dataset\\\n",
        "$(h(x^{(i)})-y^{(i)})^2:$ one error squared\\\n",
        "$m:$ number of data points\\\n",
        "$\\frac{1}{2m}:$ it is to “average” the squared error over the number of data points\n",
        "\n",
        "> $SSE=\\frac{1}{2}(Y-\\bar{Y})^2$\\\n",
        "$SSE:$ Sum of Squared Errors (نستخدمها كـ loss function (cost function) to minimize the prediction error)\\\n",
        "$\\bar{Y}=mx+b$ (actual value)\n",
        "- نشتق جزئيًا مرة الـ SSE بالنسبة لـ m\n",
        "- ومرة أخرى نشتق جزئيًأ بالنسبة لـ b\n",
        "\n",
        "3- بعدها نحدث المعاملات باتجاه الـ optimal m and b\\\n",
        "$m_{new}=m_{old}-\\alpha * (\\frac{1}{m})\\sum(h(x^{(i)})-y^{(i)})*x^{(i)}$\n",
        "\n",
        "$\\alpha:$ is the learning rate (عشان نحدد حجم الخطوة في كل iteration)\n",
        "\n",
        "> $m=m-r*\\frac{\\partial}{\\partial m}SSE$ (New Slope)\n",
        "\n",
        "$b_{new}=b_{old}-\\alpha*(\\frac{1}{m})\\sum(h(x^{(i)})-y^{(i)})$\n",
        "\n",
        "> $b=b-r*\\frac{\\partial}{\\partial b}SSE$ (New Intercept)\n",
        "\n",
        "أو بشكل عام نقدر نكتب\\\n",
        "$Update\\ rule: w=w-r*\\frac{\\partial loss}{\\partial w}$\n",
        "\n",
        "4- نستخدم القيم الجديدة حق m و b للـ prediction\n",
        "\n",
        "$Total\\ SSE=\\frac{1}{2}\\sum_{i=1}^{n}(Y-\\bar{Y} )^2$\n",
        "\n",
        "5- نعيد الخطوات من 2 إلى 4 (يعني نعمل iteration إلى ما نوصل للـ optimal values for m and b) يعني الين ما يحصل تقارب في القيم convergence\n",
        "\n",
        "القيم الـ optimal حق b, m تخلي الـ Model يتنبأ بقيمة Y بدقة عالية"
      ],
      "metadata": {
        "id": "0Pn7Hk75w2aD"
      }
    },
    {
      "cell_type": "markdown",
      "source": [
        "**Linear regression and gradient descent for absolute beginners**\\\n",
        "*A simple explanation and implementation of gradient descent*\\\n",
        "https://towardsdatascience.com/linear-regression-and-gradient-descent-for-absolute-beginners-eef9574eadb0"
      ],
      "metadata": {
        "id": "IMmD516cCO9u"
      }
    },
    {
      "cell_type": "markdown",
      "source": [
        "### 3-2 Linear Regression using Gradient Descent\n",
        "https://towardsdatascience.com/linear-regression-using-gradient-descent-97a6c8700931\n"
      ],
      "metadata": {
        "id": "ZWzR-YxkWUTr"
      }
    },
    {
      "cell_type": "markdown",
      "source": [
        "$Y = mX + c$\n",
        "\n",
        "or \n",
        "\n",
        "$y = \\beta_0+\\beta_1x$\n",
        "\n",
        "$\\beta_0 = c:$ is the y intercept\\\n",
        "$\\beta_1 = m:$ is the slope \n",
        "\n",
        "الهدف أننا نجيب أفضل fitting line\n",
        "\n",
        "لذلك راح نقيس الـ Error في كل مرة نجيب فيها قيم الـ m و الـ c\\\n",
        "وهو ما نسميه الـ Loss\n",
        "حيث راح نحاول نقلل هذا الـ Loss قدر الإمكان"
      ],
      "metadata": {
        "id": "f4HaGFjX8CeS"
      }
    },
    {
      "cell_type": "markdown",
      "source": [
        "#### Mean Squared Error Function (MSE)\n",
        "Error = Loss\\\n",
        "يعني راح نستخدم الـ MSE كـ loss function\n",
        "\n",
        "$\\frac{1}{n}\\sum_{i=0}^{n}(y_i-\\bar{y}_i)^2$\n",
        "\n",
        "> **1)** $(y_i-\\bar{y}_i):$ Difference between actual value of y & predicted value of y\\\n",
        "where:\\\n",
        "$\\bar{y}_i=mx_i+c$ (predicted Value)\\\n",
        "> **2)** $(y_i-\\bar{y}_i)^2:$ Squre the Difference\\\n",
        "> **3)** $\\frac{1}{n}\\sum_{i=0}^{n}(y_i-\\bar{y}_i)^2:$ find the mean of the squares\n",
        "\n",
        "\n",
        "$E=\\frac{1}{n}\\sum_{i=0}^{n}(y_i-(mx_i+c))^2$"
      ],
      "metadata": {
        "id": "PBMYTXkA92mk"
      }
    },
    {
      "cell_type": "code",
      "source": [
        "\"\"\"\n",
        "Y_pred = m*X + c\n",
        "\"\"\""
      ],
      "metadata": {
        "id": "2BfSK3s0C3Jo"
      },
      "execution_count": null,
      "outputs": []
    },
    {
      "cell_type": "markdown",
      "source": [
        "#### Gredient Descent Algorithm"
      ],
      "metadata": {
        "id": "XV6BBIvaBUzR"
      }
    },
    {
      "cell_type": "markdown",
      "source": [
        "في البداية راح نشتق المعادلة السابقة E جزئيًا بالنسبة لـ m لنحصل على المعادلة التالية:\n",
        "\n",
        "$D_m=\\frac{1}{n}\\sum_{i=0}^{n}2(y_i-(mx_i+c))(-x_i)$\n",
        "\n",
        "بعد التبسيط تصبح:\n",
        "\n",
        "**Partial Derivative wrt m,** $D_m=\\frac{-2}{n}\\sum_{i=0}^{n}x_i(y_i-\\bar{y}_i))$"
      ],
      "metadata": {
        "id": "2Dgrm72ZC3qV"
      }
    },
    {
      "cell_type": "code",
      "source": [
        "\"\"\"\n",
        "D_m = (-2/n) * sum(X * (Y - Y_pred))\n",
        "\"\"\""
      ],
      "metadata": {
        "id": "EfkoO5m3XkxC"
      },
      "execution_count": null,
      "outputs": []
    },
    {
      "cell_type": "markdown",
      "source": [
        "المرة الثانية نشتق المعادلة E جزئيًا بالنسبة لـ c لتعطينا:\n",
        "\n",
        "**Partial Derivative wrt c,** $D_c=\\frac{-2}{n}\\sum_{i=0}^{n}(y_i-\\bar{y}_i)$"
      ],
      "metadata": {
        "id": "0vm49nU3DaPY"
      }
    },
    {
      "cell_type": "code",
      "source": [
        "\"\"\"\n",
        "D_c = (-2/n) * sum(Y - Y_pred)\n",
        "\"\"\""
      ],
      "metadata": {
        "id": "fCk0oQGQRyIl"
      },
      "execution_count": null,
      "outputs": []
    },
    {
      "cell_type": "markdown",
      "source": [
        "#### Update value of m & c"
      ],
      "metadata": {
        "id": "y0b_c6ZvFYDH"
      }
    },
    {
      "cell_type": "markdown",
      "source": [
        "$m=m-L\\times D_m$\n",
        "\n",
        "$c=c-L\\times D_c$\n",
        "\n",
        "where:\\\n",
        "$L:$ is learning rate\n",
        "\n",
        "مع كل تحديث يتم لقيم m و c الدقة حق النموذج راح تزيد ويصير قريب جدًا من لهدفنا ( وهو الوصول لـ أقل قيمة خطأ بين قيمة y  و y predicted)\n",
        "\n",
        "راح تتكرر الين ما تصير قيمة الـ Loss function صغيرة جدًا أو في الحل المثالي تصبح صفر"
      ],
      "metadata": {
        "id": "qQD3Mn6GFc7j"
      }
    },
    {
      "cell_type": "code",
      "source": [
        "\"\"\"\n",
        "m = m - L * D_m\n",
        "c = c - L * D_c\n",
        "\"\"\""
      ],
      "metadata": {
        "id": "XzCXWebXYtkp"
      },
      "execution_count": null,
      "outputs": []
    },
    {
      "cell_type": "markdown",
      "source": [
        "#### Implementing the Model"
      ],
      "metadata": {
        "id": "YgV2w_MoHuze"
      }
    },
    {
      "cell_type": "code",
      "source": [
        "import numpy as np\n",
        "import pandas as pd\n",
        "import matplotlib.pyplot as plt"
      ],
      "metadata": {
        "id": "GhKYE2lpFdeF"
      },
      "execution_count": 1,
      "outputs": []
    },
    {
      "cell_type": "code",
      "source": [
        "# Import data from csv file\n",
        "data = pd.read_csv(\"/content/drive/MyDrive/iMLND/Regression Model/GradientDescent.csv\")"
      ],
      "metadata": {
        "id": "EVPvoOatUO0w"
      },
      "execution_count": 2,
      "outputs": []
    },
    {
      "cell_type": "code",
      "source": [
        "data.head()"
      ],
      "metadata": {
        "colab": {
          "base_uri": "https://localhost:8080/",
          "height": 206
        },
        "id": "FV-u13unVxD0",
        "outputId": "acb09b72-cbe6-43c1-f1fb-b4c586a16ae4"
      },
      "execution_count": 3,
      "outputs": [
        {
          "output_type": "execute_result",
          "data": {
            "text/plain": [
              "   32.502345269453031  31.70700584656992\n",
              "0           53.426804          68.777596\n",
              "1           61.530358          62.562382\n",
              "2           47.475640          71.546632\n",
              "3           59.813208          87.230925\n",
              "4           55.142188          78.211518"
            ],
            "text/html": [
              "\n",
              "  <div id=\"df-fb0c518b-3709-46f4-ae3b-51a079fd691d\">\n",
              "    <div class=\"colab-df-container\">\n",
              "      <div>\n",
              "<style scoped>\n",
              "    .dataframe tbody tr th:only-of-type {\n",
              "        vertical-align: middle;\n",
              "    }\n",
              "\n",
              "    .dataframe tbody tr th {\n",
              "        vertical-align: top;\n",
              "    }\n",
              "\n",
              "    .dataframe thead th {\n",
              "        text-align: right;\n",
              "    }\n",
              "</style>\n",
              "<table border=\"1\" class=\"dataframe\">\n",
              "  <thead>\n",
              "    <tr style=\"text-align: right;\">\n",
              "      <th></th>\n",
              "      <th>32.502345269453031</th>\n",
              "      <th>31.70700584656992</th>\n",
              "    </tr>\n",
              "  </thead>\n",
              "  <tbody>\n",
              "    <tr>\n",
              "      <th>0</th>\n",
              "      <td>53.426804</td>\n",
              "      <td>68.777596</td>\n",
              "    </tr>\n",
              "    <tr>\n",
              "      <th>1</th>\n",
              "      <td>61.530358</td>\n",
              "      <td>62.562382</td>\n",
              "    </tr>\n",
              "    <tr>\n",
              "      <th>2</th>\n",
              "      <td>47.475640</td>\n",
              "      <td>71.546632</td>\n",
              "    </tr>\n",
              "    <tr>\n",
              "      <th>3</th>\n",
              "      <td>59.813208</td>\n",
              "      <td>87.230925</td>\n",
              "    </tr>\n",
              "    <tr>\n",
              "      <th>4</th>\n",
              "      <td>55.142188</td>\n",
              "      <td>78.211518</td>\n",
              "    </tr>\n",
              "  </tbody>\n",
              "</table>\n",
              "</div>\n",
              "      <button class=\"colab-df-convert\" onclick=\"convertToInteractive('df-fb0c518b-3709-46f4-ae3b-51a079fd691d')\"\n",
              "              title=\"Convert this dataframe to an interactive table.\"\n",
              "              style=\"display:none;\">\n",
              "        \n",
              "  <svg xmlns=\"http://www.w3.org/2000/svg\" height=\"24px\"viewBox=\"0 0 24 24\"\n",
              "       width=\"24px\">\n",
              "    <path d=\"M0 0h24v24H0V0z\" fill=\"none\"/>\n",
              "    <path d=\"M18.56 5.44l.94 2.06.94-2.06 2.06-.94-2.06-.94-.94-2.06-.94 2.06-2.06.94zm-11 1L8.5 8.5l.94-2.06 2.06-.94-2.06-.94L8.5 2.5l-.94 2.06-2.06.94zm10 10l.94 2.06.94-2.06 2.06-.94-2.06-.94-.94-2.06-.94 2.06-2.06.94z\"/><path d=\"M17.41 7.96l-1.37-1.37c-.4-.4-.92-.59-1.43-.59-.52 0-1.04.2-1.43.59L10.3 9.45l-7.72 7.72c-.78.78-.78 2.05 0 2.83L4 21.41c.39.39.9.59 1.41.59.51 0 1.02-.2 1.41-.59l7.78-7.78 2.81-2.81c.8-.78.8-2.07 0-2.86zM5.41 20L4 18.59l7.72-7.72 1.47 1.35L5.41 20z\"/>\n",
              "  </svg>\n",
              "      </button>\n",
              "      \n",
              "  <style>\n",
              "    .colab-df-container {\n",
              "      display:flex;\n",
              "      flex-wrap:wrap;\n",
              "      gap: 12px;\n",
              "    }\n",
              "\n",
              "    .colab-df-convert {\n",
              "      background-color: #E8F0FE;\n",
              "      border: none;\n",
              "      border-radius: 50%;\n",
              "      cursor: pointer;\n",
              "      display: none;\n",
              "      fill: #1967D2;\n",
              "      height: 32px;\n",
              "      padding: 0 0 0 0;\n",
              "      width: 32px;\n",
              "    }\n",
              "\n",
              "    .colab-df-convert:hover {\n",
              "      background-color: #E2EBFA;\n",
              "      box-shadow: 0px 1px 2px rgba(60, 64, 67, 0.3), 0px 1px 3px 1px rgba(60, 64, 67, 0.15);\n",
              "      fill: #174EA6;\n",
              "    }\n",
              "\n",
              "    [theme=dark] .colab-df-convert {\n",
              "      background-color: #3B4455;\n",
              "      fill: #D2E3FC;\n",
              "    }\n",
              "\n",
              "    [theme=dark] .colab-df-convert:hover {\n",
              "      background-color: #434B5C;\n",
              "      box-shadow: 0px 1px 3px 1px rgba(0, 0, 0, 0.15);\n",
              "      filter: drop-shadow(0px 1px 2px rgba(0, 0, 0, 0.3));\n",
              "      fill: #FFFFFF;\n",
              "    }\n",
              "  </style>\n",
              "\n",
              "      <script>\n",
              "        const buttonEl =\n",
              "          document.querySelector('#df-fb0c518b-3709-46f4-ae3b-51a079fd691d button.colab-df-convert');\n",
              "        buttonEl.style.display =\n",
              "          google.colab.kernel.accessAllowed ? 'block' : 'none';\n",
              "\n",
              "        async function convertToInteractive(key) {\n",
              "          const element = document.querySelector('#df-fb0c518b-3709-46f4-ae3b-51a079fd691d');\n",
              "          const dataTable =\n",
              "            await google.colab.kernel.invokeFunction('convertToInteractive',\n",
              "                                                     [key], {});\n",
              "          if (!dataTable) return;\n",
              "\n",
              "          const docLinkHtml = 'Like what you see? Visit the ' +\n",
              "            '<a target=\"_blank\" href=https://colab.research.google.com/notebooks/data_table.ipynb>data table notebook</a>'\n",
              "            + ' to learn more about interactive tables.';\n",
              "          element.innerHTML = '';\n",
              "          dataTable['output_type'] = 'display_data';\n",
              "          await google.colab.output.renderOutput(dataTable, element);\n",
              "          const docLink = document.createElement('div');\n",
              "          docLink.innerHTML = docLinkHtml;\n",
              "          element.appendChild(docLink);\n",
              "        }\n",
              "      </script>\n",
              "    </div>\n",
              "  </div>\n",
              "  "
            ]
          },
          "metadata": {},
          "execution_count": 3
        }
      ]
    },
    {
      "cell_type": "code",
      "source": [
        "# Define the variables\n",
        "X = data.iloc[:,0]\n",
        "Y = data.iloc[:,1]"
      ],
      "metadata": {
        "id": "ZpgVPqlVVzKA"
      },
      "execution_count": 4,
      "outputs": []
    },
    {
      "cell_type": "code",
      "source": [
        "# Plotting scatter for the two variables\n",
        "plt.scatter(X,Y);"
      ],
      "metadata": {
        "colab": {
          "base_uri": "https://localhost:8080/",
          "height": 265
        },
        "id": "pkx1ZCXCWJH1",
        "outputId": "d62ca3e2-c768-4cbb-ecd8-548a98874398"
      },
      "execution_count": 6,
      "outputs": [
        {
          "output_type": "display_data",
          "data": {
            "text/plain": [
              "<Figure size 432x288 with 1 Axes>"
            ],
            "image/png": "[encoded data removed]"
          },
          "metadata": {
            "needs_background": "light"
          }
        }
      ]
    },
    {
      "cell_type": "code",
      "source": [
        "# Building the Model\n",
        "m = 0 # starting with initial value for Slope\n",
        "c = 0 # starting with initial value for intercept\n",
        "\n",
        "L = 0.0001 # Learning Rate\n",
        "epochs = 1000 # number of iteration\n",
        "\n",
        "n = len(X) # number of element in X"
      ],
      "metadata": {
        "id": "k130yeGFWWtA"
      },
      "execution_count": 8,
      "outputs": []
    },
    {
      "cell_type": "code",
      "source": [
        "for i in range(n):\n",
        "    Y_pred = m*X + c\n",
        "    D_m = (-2/n) * sum(X * (Y - Y_pred)) # Partial Derivative wrt m\n",
        "    D_c = (-2/n) * sum(Y - Y_pred) # Partial Derivative wrt c\n",
        "\n",
        "    # Updating the values of m and c until reach optimum values\n",
        "    m = m - L * D_m\n",
        "    c = c - L * D_c"
      ],
      "metadata": {
        "id": "ZIbP-sZCXQR4"
      },
      "execution_count": 9,
      "outputs": []
    },
    {
      "cell_type": "code",
      "source": [
        "# Print the optimum value of m and c\n",
        "print(f\"the vaule of slope is {m}\\nthe value of intercept is {c}\")"
      ],
      "metadata": {
        "colab": {
          "base_uri": "https://localhost:8080/"
        },
        "id": "mCCbdFBtZNsE",
        "outputId": "4b1a2822-7d89-4972-a8be-7c91d7bda407"
      },
      "execution_count": 10,
      "outputs": [
        {
          "output_type": "stream",
          "name": "stdout",
          "text": [
            "the vaule of slope is 1.4809284677644328\n",
            "the value of intercept is 0.03623535409423161\n"
          ]
        }
      ]
    },
    {
      "cell_type": "code",
      "source": [
        "# Making Predictions\n",
        "Y_pred = m*X + c\n",
        "Y_pred"
      ],
      "metadata": {
        "colab": {
          "base_uri": "https://localhost:8080/"
        },
        "id": "UPwvfEnSZgow",
        "outputId": "09dfeaac-5e1f-4d43-b30e-6cd2a66c7b1a"
      },
      "execution_count": 12,
      "outputs": [
        {
          "output_type": "execute_result",
          "data": {
            "text/plain": [
              "0     79.157510\n",
              "1     91.158294\n",
              "2     70.344262\n",
              "3     88.615318\n",
              "4     81.697872\n",
              "        ...    \n",
              "94    74.127345\n",
              "95    72.956806\n",
              "96    74.141268\n",
              "97    71.342732\n",
              "98    37.249724\n",
              "Name: 32.502345269453031, Length: 99, dtype: float64"
            ]
          },
          "metadata": {},
          "execution_count": 12
        }
      ]
    },
    {
      "cell_type": "code",
      "source": [
        "# Plotting after fitting the linear regression model\n",
        "plt.scatter(X,Y, color = 'blue')\n",
        "plt.plot(X, Y_pred, color = 'red');"
      ],
      "metadata": {
        "colab": {
          "base_uri": "https://localhost:8080/",
          "height": 265
        },
        "id": "a4vOX8uLZ8mW",
        "outputId": "46e6a302-526b-41a2-9373-9ec1b7991b75"
      },
      "execution_count": 13,
      "outputs": [
        {
          "output_type": "display_data",
          "data": {
            "text/plain": [
              "<Figure size 432x288 with 1 Axes>"
            ],
            "image/png": "[encoded data removed]"
          },
          "metadata": {
            "needs_background": "light"
          }
        }
      ]
    },
    {
      "cell_type": "markdown",
      "source": [
        "#### Compare the fitting model from OLS method & Gradient Descent algorithm"
      ],
      "metadata": {
        "id": "9qrbQV7VbHf2"
      }
    },
    {
      "cell_type": "markdown",
      "source": [
        "From OLS we got the Linear Regression Model as:\n",
        "\n",
        "$y=4.8x+9.18$\n",
        "\n",
        "for this dataset 👇"
      ],
      "metadata": {
        "id": "B1NxkIHddTeY"
      }
    },
    {
      "cell_type": "code",
      "source": [
        "x = [2,3,5,13,8,16,11,1,9] # Years of Experience - independent variable\n",
        "y = [15,28,42,64,50,90,58,8,54] # Salary in 1000$ - dependent varible"
      ],
      "metadata": {
        "id": "gERUl960ajft"
      },
      "execution_count": 14,
      "outputs": []
    },
    {
      "cell_type": "code",
      "source": [
        "# Plotting scatter for the two variables\n",
        "plt.scatter(x,y);"
      ],
      "metadata": {
        "colab": {
          "base_uri": "https://localhost:8080/",
          "height": 265
        },
        "id": "_5fX35WqbeWf",
        "outputId": "bd0404b7-52eb-4350-a342-b26d13f5e427"
      },
      "execution_count": 15,
      "outputs": [
        {
          "output_type": "display_data",
          "data": {
            "text/plain": [
              "<Figure size 432x288 with 1 Axes>"
            ],
            "image/png": "[encoded data removed]"
          },
          "metadata": {
            "needs_background": "light"
          }
        }
      ]
    },
    {
      "cell_type": "code",
      "source": [
        "# Building the Model\n",
        "m = 0 # starting with initial value for Slope\n",
        "c = 0 # starting with initial value for intercept\n",
        "\n",
        "L = 0.0001 # Learning Rate\n",
        "epochs = 1000 # number of iteration\n",
        "\n",
        "n = len(x) # number of element in X\n",
        "\n",
        "for i in range(n):\n",
        "    y_pred = m*np.transpose(x) + c\n",
        "    D_m = (-2/n) * sum(x * (y - y_pred)) # Partial Derivative wrt m\n",
        "    D_c = (-2/n) * sum(y - y_pred) # Partial Derivative wrt c\n",
        "\n",
        "    # Updating the values of m and c until reach optimum values\n",
        "    m = m - L * D_m\n",
        "    c = c - L * D_c\n",
        "\n",
        "# Print the optimum value of m and c\n",
        "print(f\"the vaule of slope is {m}\\nthe value of intercept is {c}\")\n",
        "\n",
        "# Making Predictions\n",
        "y_pred = m*np.transpose(x) + c\n",
        "\n",
        "# Plotting after fitting the linear regression model\n",
        "plt.scatter(x,y, color = 'blue')\n",
        "plt.plot(x, y_pred, color = 'red')\n",
        "plt.show();"
      ],
      "metadata": {
        "colab": {
          "base_uri": "https://localhost:8080/",
          "height": 300
        },
        "id": "TNwxmGO8bmYD",
        "outputId": "43e8f393-6028-4798-9e96-9afe69b85002"
      },
      "execution_count": 18,
      "outputs": [
        {
          "output_type": "stream",
          "name": "stdout",
          "text": [
            "the vaule of slope is 0.7735477988840296\n",
            "the value of intercept is 0.07693260077785222\n"
          ]
        },
        {
          "output_type": "display_data",
          "data": {
            "text/plain": [
              "<Figure size 432x288 with 1 Axes>"
            ],
            "image/png": "[encoded data removed]"
          },
          "metadata": {
            "needs_background": "light"
          }
        }
      ]
    },
    {
      "cell_type": "markdown",
      "source": [
        "so, the Linear Regression Model is:\n",
        "\n",
        "$y=0.77x+0.077$\n",
        "\n",
        "نلاحظ أنها بعيدة جدًا عن اللي حصلنا عليها من OLS \n",
        "\n",
        "لذلك راح نفترض قيم m,c في البداية بقيم قريبة من الـ OLS زي\n",
        "- m = 4.5\n",
        "- c = 9"
      ],
      "metadata": {
        "id": "v1d0yXjQdQYS"
      }
    },
    {
      "cell_type": "code",
      "source": [
        "# Building the Model\n",
        "m = 4.5 # starting with initial value for Slope\n",
        "c = 9 # starting with initial value for intercept\n",
        "\n",
        "L = 0.0001 # Learning Rate\n",
        "epochs = 1000 # number of iteration\n",
        "\n",
        "n = len(x) # number of element in X\n",
        "\n",
        "for i in range(n):\n",
        "    y_pred = m*np.transpose(x) + c\n",
        "    D_m = (-2/n) * sum(x * (y - y_pred)) # Partial Derivative wrt m\n",
        "    D_c = (-2/n) * sum(y - y_pred) # Partial Derivative wrt c\n",
        "\n",
        "    # Updating the values of m and c until reach optimum values\n",
        "    m = m - L * D_m\n",
        "    c = c - L * D_c\n",
        "\n",
        "# Print the optimum value of m and c\n",
        "print(f\"the vaule of slope is {m}\\nthe value of intercept is {c}\")\n",
        "\n",
        "# Making Predictions\n",
        "y_pred = m*np.transpose(x) + c\n",
        "\n",
        "# Plotting after fitting the linear regression model\n",
        "plt.scatter(x,y, color = 'blue')\n",
        "plt.plot(x, y_pred, color = 'red')\n",
        "plt.show();"
      ],
      "metadata": {
        "colab": {
          "base_uri": "https://localhost:8080/",
          "height": 300
        },
        "id": "A7Ox8JfWcQJj",
        "outputId": "b0f68ca8-5547-4d45-b6e3-4f071449756a"
      },
      "execution_count": 20,
      "outputs": [
        {
          "output_type": "stream",
          "name": "stdout",
          "text": [
            "the vaule of slope is 4.543288227742047\n",
            "the value of intercept is 9.004127761956369\n"
          ]
        },
        {
          "output_type": "display_data",
          "data": {
            "text/plain": [
              "<Figure size 432x288 with 1 Axes>"
            ],
            "image/png": "[encoded data removed]"
          },
          "metadata": {
            "needs_background": "light"
          }
        }
      ]
    },
    {
      "cell_type": "markdown",
      "source": [
        "so, the Linear Regression Model from Gradient Descet is:\n",
        "\n",
        "$y=4.543x+9.004$\n",
        "\n",
        "صحيح أن القيمة مختلفة عن اللي حصلنا عليها من OLS لكنها تظل قريبة منها"
      ],
      "metadata": {
        "id": "IQMHw4M7eFXD"
      }
    },
    {
      "cell_type": "markdown",
      "source": [
        "> طيب كيف ممكن نبدأ بقيم قريبة؟\\\n",
        "هل هناك طريقة أفضل تكون عملية؟\\\n",
        "ولا الموضوع صعب هنا لأن البيانات قليلة جدًا؟"
      ],
      "metadata": {
        "id": "ToVpXRNegPUV"
      }
    },
    {
      "cell_type": "markdown",
      "source": [
        "### 3-3 Gradient Descent with Pytorch & TensorFlow\n",
        "Computing gradients using TensorFlow\\\n",
        "https://youtu.be/OXd2a4iYZTU?t=132\n",
        "\n",
        "Gradient Descent & Linear Regression with PyTorch\\\n",
        "https://youtu.be/vo_fUOk-IKk?t=3252"
      ],
      "metadata": {
        "id": "e8Zu9ggrvurd"
      }
    },
    {
      "cell_type": "markdown",
      "source": [
        "#### Computing gradients using TensorFlow"
      ],
      "metadata": {
        "id": "PQ_WxVVSw0aC"
      }
    },
    {
      "cell_type": "markdown",
      "source": [
        "In loss function we can use:\n",
        "- Mean Absolute Error (MAE)\n",
        "- Mean Squared Error (MSE)\n",
        "\n",
        "$MSE=\\frac{1}{m}\\sum_{i=1}^{m}(\\hat{Y_i}-Y_i)^2$"
      ],
      "metadata": {
        "id": "8yfRmVSr3ORZ"
      }
    },
    {
      "cell_type": "code",
      "source": [
        "import tensorflow as tf"
      ],
      "metadata": {
        "id": "h_Flzk_8v7l-"
      },
      "execution_count": 116,
      "outputs": []
    },
    {
      "cell_type": "code",
      "source": [
        "# Training Dataset\n",
        "X = tf.constant(range(10),dtype='float32')\n",
        "Y = 5*X + 8"
      ],
      "metadata": {
        "id": "JOutiYYv5T_W"
      },
      "execution_count": 117,
      "outputs": []
    },
    {
      "cell_type": "code",
      "source": [
        "print(f\"X: {X}\")\n",
        "print(f\"Y: {Y}\")"
      ],
      "metadata": {
        "colab": {
          "base_uri": "https://localhost:8080/"
        },
        "id": "Nryg0F1I59y6",
        "outputId": "e75f4729-5d4f-4446-9ab1-8ef6c5e4117b"
      },
      "execution_count": 118,
      "outputs": [
        {
          "output_type": "stream",
          "name": "stdout",
          "text": [
            "X: [0. 1. 2. 3. 4. 5. 6. 7. 8. 9.]\n",
            "Y: [ 8. 13. 18. 23. 28. 33. 38. 43. 48. 53.]\n"
          ]
        }
      ]
    },
    {
      "cell_type": "code",
      "source": [
        "# Testing Dataset\n",
        "X_test = tf.constant(range(10,20),dtype='float32')\n",
        "Y_test = 5 * X_test + 8"
      ],
      "metadata": {
        "id": "5dAd7gnt6PQ5"
      },
      "execution_count": 119,
      "outputs": []
    },
    {
      "cell_type": "code",
      "source": [
        "print(f\"X_test: {X_test}\")\n",
        "print(f\"Y_test: {Y_test}\")"
      ],
      "metadata": {
        "colab": {
          "base_uri": "https://localhost:8080/"
        },
        "id": "eiuyq-xy60rX",
        "outputId": "a250bc7a-447d-4967-ab66-ed39336c455e"
      },
      "execution_count": 120,
      "outputs": [
        {
          "output_type": "stream",
          "name": "stdout",
          "text": [
            "X_test: [10. 11. 12. 13. 14. 15. 16. 17. 18. 19.]\n",
            "Y_test: [ 58.  63.  68.  73.  78.  83.  88.  93.  98. 103.]\n"
          ]
        }
      ]
    },
    {
      "cell_type": "code",
      "source": [
        "# Calculatin the mean of Y\n",
        "Y.numpy().mean()"
      ],
      "metadata": {
        "colab": {
          "base_uri": "https://localhost:8080/"
        },
        "id": "d3WcimIv7gcl",
        "outputId": "e400448b-1066-44ff-8e44-555765de609b"
      },
      "execution_count": 121,
      "outputs": [
        {
          "output_type": "execute_result",
          "data": {
            "text/plain": [
              "30.5"
            ]
          },
          "metadata": {},
          "execution_count": 121
        }
      ]
    },
    {
      "cell_type": "code",
      "source": [
        "y_mean = Y.numpy().mean()"
      ],
      "metadata": {
        "id": "7c7nsIzQ7pDh"
      },
      "execution_count": 122,
      "outputs": []
    },
    {
      "cell_type": "code",
      "source": [
        "# Predicting Mean as a solution\n",
        "def predict(X):\n",
        "    y_pred = [y_mean] * len(X)\n",
        "    return y_pred"
      ],
      "metadata": {
        "id": "wb6K_UCA67X5"
      },
      "execution_count": 123,
      "outputs": []
    },
    {
      "cell_type": "code",
      "source": [
        "# Computing the MSE (Loss Function)\n",
        "def compute_mse(y_pred,y):\n",
        "    errors = (y - y_pred)**2\n",
        "    return tf.reduce_mean(errors)"
      ],
      "metadata": {
        "id": "pPmj2-JP8Ij6"
      },
      "execution_count": 124,
      "outputs": []
    },
    {
      "cell_type": "code",
      "source": [
        "y_pred = predict(X_test)\n",
        "y_pred"
      ],
      "metadata": {
        "colab": {
          "base_uri": "https://localhost:8080/"
        },
        "id": "PNP4shLW88_s",
        "outputId": "e3ead4a0-c480-470f-bdc8-9a05cd0b7e25"
      },
      "execution_count": 125,
      "outputs": [
        {
          "output_type": "execute_result",
          "data": {
            "text/plain": [
              "[30.5, 30.5, 30.5, 30.5, 30.5, 30.5, 30.5, 30.5, 30.5, 30.5]"
            ]
          },
          "metadata": {},
          "execution_count": 125
        }
      ]
    },
    {
      "cell_type": "code",
      "source": [
        "loss = compute_mse(y_pred,Y_test)\n",
        "loss"
      ],
      "metadata": {
        "colab": {
          "base_uri": "https://localhost:8080/"
        },
        "id": "z1VKznEb9Rv9",
        "outputId": "f484eca0-3cfe-4dc1-9df7-1eb5180247d4"
      },
      "execution_count": 126,
      "outputs": [
        {
          "output_type": "execute_result",
          "data": {
            "text/plain": [
              "<tf.Tensor: shape=(), dtype=float32, numpy=2706.25>"
            ]
          },
          "metadata": {},
          "execution_count": 126
        }
      ]
    },
    {
      "cell_type": "code",
      "source": [
        "loss.numpy() # عشان تطلع فقط القيمة بدون الكلام اللي جنبه"
      ],
      "metadata": {
        "colab": {
          "base_uri": "https://localhost:8080/"
        },
        "id": "6jwshp249bNG",
        "outputId": "fdd8b85b-d28d-4649-c8ba-de3657e40d34"
      },
      "execution_count": 127,
      "outputs": [
        {
          "output_type": "execute_result",
          "data": {
            "text/plain": [
              "2706.25"
            ]
          },
          "metadata": {},
          "execution_count": 127
        }
      ]
    },
    {
      "cell_type": "markdown",
      "source": [
        "##### Linear Regression Model"
      ],
      "metadata": {
        "id": "ErSPrB5L92dC"
      }
    },
    {
      "cell_type": "code",
      "source": [
        "# Calculate MSE for linear regression model\n",
        "def compute_mse_for_linear_model(X,Y,m,c):\n",
        "    y_pred = m * X + c\n",
        "    errors = (Y - y_pred)**2 # Loss Function\n",
        "    return tf.reduce_mean(errors)"
      ],
      "metadata": {
        "id": "1kNGMvlJ9skw"
      },
      "execution_count": 128,
      "outputs": []
    },
    {
      "cell_type": "markdown",
      "source": [
        "##### Minimize Loss function\n",
        "https://www.tensorflow.org/api_docs/python/tf/GradientTape \\\n",
        "لازم نحسب المشتقة الجزئية بالنسبة لـ m و بالنسبة لـ c"
      ],
      "metadata": {
        "id": "RZsWQdjF_Lhp"
      }
    },
    {
      "cell_type": "code",
      "source": [
        "# Compute Gradient Function\n",
        "def compute_gradient(X,Y,m,c):\n",
        "    with tf.GradientTape() as tape:\n",
        "        loss = compute_mse_for_linear_model(X,Y,m,c)\n",
        "    return tape.gradient(loss, [m,c])"
      ],
      "metadata": {
        "id": "yavMlTM1-1jP"
      },
      "execution_count": 129,
      "outputs": []
    },
    {
      "cell_type": "markdown",
      "source": [
        "##### Using the Loss function"
      ],
      "metadata": {
        "id": "ak1sr_QFBK1-"
      }
    },
    {
      "cell_type": "code",
      "source": [
        "# Randomly define the initial value of m & c\n",
        "m = tf.Variable(0.0)\n",
        "c = tf.Variable(0.0)\n",
        "\n",
        "dl_dm, dl_dc = compute_gradient(X,Y,m,c) # نوجد المشتقة الجزئية حق الـ loss function بالنسبة لـ m و c\n",
        "\n",
        "print(f\"Gradient w.r.t m: {dl_dm}\")\n",
        "print(f\"Gradient w.r.t c: {dl_dc}\")"
      ],
      "metadata": {
        "colab": {
          "base_uri": "https://localhost:8080/"
        },
        "id": "p9ikPNKCBE11",
        "outputId": "d83e9653-644d-4873-c52a-bddcbe11de04"
      },
      "execution_count": 130,
      "outputs": [
        {
          "output_type": "stream",
          "name": "stdout",
          "text": [
            "Gradient w.r.t m: -357.0\n",
            "Gradient w.r.t c: -61.000003814697266\n"
          ]
        }
      ]
    },
    {
      "cell_type": "markdown",
      "source": [
        "> for simple linear regression"
      ],
      "metadata": {
        "id": "ypRAiMHvCbwg"
      }
    },
    {
      "cell_type": "markdown",
      "source": [
        "##### iteration of minimizing m & c (Define Training Loop)"
      ],
      "metadata": {
        "id": "lP9Q9zZHJvrJ"
      }
    },
    {
      "cell_type": "code",
      "source": [
        "# Define Training Loop\n",
        "STEPS = 1000\n",
        "lr = 0.01 # Learning Rate\n",
        "\n",
        "# Randomly define the initial value of m & c\n",
        "m = tf.Variable(0.0)\n",
        "c = tf.Variable(0.0)\n",
        "\n",
        "# Defining the loop\n",
        "for step in range(0, STEPS+1):\n",
        "    dm,dc = compute_gradient(X,Y,m,c)\n",
        "    m.assign_sub(dm*lr) # update the value of m\n",
        "    c.assign_sub(dc*lr) # update the value of c\n",
        "\n",
        "    if step % 100 == 0:\n",
        "        loss = compute_mse_for_linear_model(X,Y,m,c)\n",
        "        msg = f'Epoch {step} - loss: {loss}, m:{m}, c:{c}\\n' # الرسالة اللي راح تطلع لتوضح النتائج في النهاية\n",
        "        print(msg)"
      ],
      "metadata": {
        "colab": {
          "base_uri": "https://localhost:8080/"
        },
        "id": "gyO7d6z9JsYY",
        "outputId": "2f186b9e-8ee8-4705-9ced-5e0447ea38e3"
      },
      "execution_count": 131,
      "outputs": [
        {
          "output_type": "stream",
          "name": "stdout",
          "text": [
            "Epoch 0 - loss: 208.0010528564453, m:<tf.Variable 'Variable:0' shape=() dtype=float32, numpy=3.57>, c:<tf.Variable 'Variable:0' shape=() dtype=float32, numpy=0.61>\n",
            "\n",
            "Epoch 100 - loss: 4.550494194030762, m:<tf.Variable 'Variable:0' shape=() dtype=float32, numpy=5.6322126>, c:<tf.Variable 'Variable:0' shape=() dtype=float32, numpy=4.035656>\n",
            "\n",
            "Epoch 200 - loss: 1.466060996055603, m:<tf.Variable 'Variable:0' shape=() dtype=float32, numpy=5.3588476>, c:<tf.Variable 'Variable:0' shape=() dtype=float32, numpy=5.749816>\n",
            "\n",
            "Epoch 300 - loss: 0.47233086824417114, m:<tf.Variable 'Variable:0' shape=() dtype=float32, numpy=5.203684>, c:<tf.Variable 'Variable:0' shape=() dtype=float32, numpy=6.722781>\n",
            "\n",
            "Epoch 400 - loss: 0.15217366814613342, m:<tf.Variable 'Variable:0' shape=() dtype=float32, numpy=5.115612>, c:<tf.Variable 'Variable:0' shape=() dtype=float32, numpy=7.275044>\n",
            "\n",
            "Epoch 500 - loss: 0.049027346074581146, m:<tf.Variable 'Variable:0' shape=() dtype=float32, numpy=5.065623>, c:<tf.Variable 'Variable:0' shape=() dtype=float32, numpy=7.5885086>\n",
            "\n",
            "Epoch 600 - loss: 0.01579526998102665, m:<tf.Variable 'Variable:0' shape=() dtype=float32, numpy=5.0372477>, c:<tf.Variable 'Variable:0' shape=() dtype=float32, numpy=7.7664356>\n",
            "\n",
            "Epoch 700 - loss: 0.0050887963734567165, m:<tf.Variable 'Variable:0' shape=() dtype=float32, numpy=5.0211415>, c:<tf.Variable 'Variable:0' shape=() dtype=float32, numpy=7.8674283>\n",
            "\n",
            "Epoch 800 - loss: 0.00163958256598562, m:<tf.Variable 'Variable:0' shape=() dtype=float32, numpy=5.012>, c:<tf.Variable 'Variable:0' shape=() dtype=float32, numpy=7.92475>\n",
            "\n",
            "Epoch 900 - loss: 0.0005282387719489634, m:<tf.Variable 'Variable:0' shape=() dtype=float32, numpy=5.0068116>, c:<tf.Variable 'Variable:0' shape=() dtype=float32, numpy=7.9572873>\n",
            "\n",
            "Epoch 1000 - loss: 0.00017019808001350611, m:<tf.Variable 'Variable:0' shape=() dtype=float32, numpy=5.003866>, c:<tf.Variable 'Variable:0' shape=() dtype=float32, numpy=7.975756>\n",
            "\n"
          ]
        }
      ]
    },
    {
      "cell_type": "code",
      "source": [
        "# Define Training Loop\n",
        "STEPS = 1000\n",
        "lr = 0.01 # Learning Rate\n",
        "\n",
        "# Randomly define the initial value of m & c\n",
        "m = tf.Variable(0.0)\n",
        "c = tf.Variable(0.0)\n",
        "\n",
        "# Defining the loop\n",
        "for step in range(0, STEPS+1):\n",
        "    dm,dc = compute_gradient(X,Y,m,c)\n",
        "    m.assign_sub(dm*lr) # update the value of m\n",
        "    c.assign_sub(dc*lr) # update the value of c\n",
        "\n",
        "    if step % 100 == 0:\n",
        "        loss = compute_mse_for_linear_model(X,Y,m,c)\n",
        "        msg = f'Epoch {step} - loss: {loss}, m:{m.numpy()}, c:{c.numpy()}\\n' # الرسالة اللي راح تطلع لتوضح النتائج في النهاية\n",
        "        print(msg)"
      ],
      "metadata": {
        "colab": {
          "base_uri": "https://localhost:8080/"
        },
        "id": "94k3IqVwKF0d",
        "outputId": "a0dfe05c-3f30-4116-c045-7a963021e677"
      },
      "execution_count": 132,
      "outputs": [
        {
          "output_type": "stream",
          "name": "stdout",
          "text": [
            "Epoch 0 - loss: 208.0010528564453, m:3.569999933242798, c:0.6100000143051147\n",
            "\n",
            "Epoch 100 - loss: 4.550494194030762, m:5.6322126388549805, c:4.035655975341797\n",
            "\n",
            "Epoch 200 - loss: 1.466060996055603, m:5.358847618103027, c:5.749815940856934\n",
            "\n",
            "Epoch 300 - loss: 0.47233086824417114, m:5.203683853149414, c:6.722781181335449\n",
            "\n",
            "Epoch 400 - loss: 0.15217366814613342, m:5.115612030029297, c:7.275043964385986\n",
            "\n",
            "Epoch 500 - loss: 0.049027346074581146, m:5.065622806549072, c:7.588508605957031\n",
            "\n",
            "Epoch 600 - loss: 0.01579526998102665, m:5.037247657775879, c:7.766435623168945\n",
            "\n",
            "Epoch 700 - loss: 0.0050887963734567165, m:5.021141529083252, c:7.867428302764893\n",
            "\n",
            "Epoch 800 - loss: 0.00163958256598562, m:5.01200008392334, c:7.924749851226807\n",
            "\n",
            "Epoch 900 - loss: 0.0005282387719489634, m:5.006811618804932, c:7.957287311553955\n",
            "\n",
            "Epoch 1000 - loss: 0.00017019808001350611, m:5.003866195678711, c:7.9757561683654785\n",
            "\n"
          ]
        }
      ]
    },
    {
      "cell_type": "markdown",
      "source": [
        "##### Comparing the fitting model from OLS method & Gradient Descent by TensorFlow"
      ],
      "metadata": {
        "id": "xDvzva-xC5DM"
      }
    },
    {
      "cell_type": "markdown",
      "source": [
        "From OLS we got the Linear Regression Model as:\n",
        "\n",
        "$y=4.8x+9.18$"
      ],
      "metadata": {
        "id": "K-Q-x_y_C5DN"
      }
    },
    {
      "cell_type": "code",
      "source": [
        "import tensorflow as tf\n",
        "import numpy as np"
      ],
      "metadata": {
        "id": "Y8ZCYRrCHxFa"
      },
      "execution_count": 133,
      "outputs": []
    },
    {
      "cell_type": "code",
      "source": [
        "x = [2,3,5,13,8,16,11,1,9] # Years of Experience - independent variable\n",
        "y = [15,28,42,64,50,90,58,8,54] # Salary in 1000$ - dependent varible"
      ],
      "metadata": {
        "id": "AxGcMpvNC5DN"
      },
      "execution_count": 134,
      "outputs": []
    },
    {
      "cell_type": "code",
      "source": [
        "np.transpose(y).mean()"
      ],
      "metadata": {
        "colab": {
          "base_uri": "https://localhost:8080/"
        },
        "id": "7L9hUOlpIB4J",
        "outputId": "dce0944e-174a-4b7f-de71-f71a845e7aa6"
      },
      "execution_count": 135,
      "outputs": [
        {
          "output_type": "execute_result",
          "data": {
            "text/plain": [
              "45.44444444444444"
            ]
          },
          "metadata": {},
          "execution_count": 135
        }
      ]
    },
    {
      "cell_type": "code",
      "source": [
        "y_mean = np.transpose(y).mean()\n",
        "y_mean"
      ],
      "metadata": {
        "colab": {
          "base_uri": "https://localhost:8080/"
        },
        "id": "Xdjl2n2GHXmZ",
        "outputId": "2ffcddf2-f783-4c0d-c16b-9a31b6ff5732"
      },
      "execution_count": 136,
      "outputs": [
        {
          "output_type": "execute_result",
          "data": {
            "text/plain": [
              "45.44444444444444"
            ]
          },
          "metadata": {},
          "execution_count": 136
        }
      ]
    },
    {
      "cell_type": "code",
      "source": [
        "# Predicting Mean as a solution\n",
        "def predict(X):\n",
        "    y_pred = [y_mean] * len(X)\n",
        "    return y_pred"
      ],
      "metadata": {
        "id": "9OCfafJJHXmb"
      },
      "execution_count": 137,
      "outputs": []
    },
    {
      "cell_type": "code",
      "source": [
        "# Computing the MSE (Loss Function)\n",
        "def compute_mse(y_pred,y):\n",
        "    errors = (y - y_pred)**2\n",
        "    return tf.reduce_mean(errors)"
      ],
      "metadata": {
        "id": "ysXEYDDWHXmc"
      },
      "execution_count": 138,
      "outputs": []
    },
    {
      "cell_type": "code",
      "source": [
        "  y_pred = predict(x)\n",
        "  y_pred"
      ],
      "metadata": {
        "colab": {
          "base_uri": "https://localhost:8080/"
        },
        "outputId": "1d04e2a7-2f31-4683-bbe8-fd4760f571d5",
        "id": "Wi57Zl6SHXmc"
      },
      "execution_count": 139,
      "outputs": [
        {
          "output_type": "execute_result",
          "data": {
            "text/plain": [
              "[45.44444444444444,\n",
              " 45.44444444444444,\n",
              " 45.44444444444444,\n",
              " 45.44444444444444,\n",
              " 45.44444444444444,\n",
              " 45.44444444444444,\n",
              " 45.44444444444444,\n",
              " 45.44444444444444,\n",
              " 45.44444444444444]"
            ]
          },
          "metadata": {},
          "execution_count": 139
        }
      ]
    },
    {
      "cell_type": "code",
      "source": [
        "loss = compute_mse(y_pred,np.transpose(y))\n",
        "loss"
      ],
      "metadata": {
        "colab": {
          "base_uri": "https://localhost:8080/"
        },
        "outputId": "a189579c-0231-4ee9-e2a4-ba03249e680c",
        "id": "K6uvd1paHXmd"
      },
      "execution_count": 140,
      "outputs": [
        {
          "output_type": "execute_result",
          "data": {
            "text/plain": [
              "<tf.Tensor: shape=(), dtype=float64, numpy=580.6913580246915>"
            ]
          },
          "metadata": {},
          "execution_count": 140
        }
      ]
    },
    {
      "cell_type": "code",
      "source": [
        "loss.numpy() # عشان تطلع فقط القيمة بدون الكلام اللي جنبه"
      ],
      "metadata": {
        "colab": {
          "base_uri": "https://localhost:8080/"
        },
        "outputId": "c7685a58-664f-4c31-9b1d-e415261d32c9",
        "id": "9OI46MX8HXme"
      },
      "execution_count": 141,
      "outputs": [
        {
          "output_type": "execute_result",
          "data": {
            "text/plain": [
              "580.6913580246915"
            ]
          },
          "metadata": {},
          "execution_count": 141
        }
      ]
    },
    {
      "cell_type": "code",
      "source": [
        "# Calculate MSE for linear regression model\n",
        "def compute_mse_for_linear_model(X,Y,m,c):\n",
        "    y_pred = m * X + c\n",
        "    errors = (Y - y_pred)**2 # Loss Function\n",
        "    return tf.reduce_mean(errors)"
      ],
      "metadata": {
        "id": "dxEHhM1pHXme"
      },
      "execution_count": 142,
      "outputs": []
    },
    {
      "cell_type": "code",
      "source": [
        "# Compute Gradient Function\n",
        "def compute_gradient(X,Y,m,c):\n",
        "    with tf.GradientTape() as tape:\n",
        "        loss = compute_mse_for_linear_model(X,Y,m,c)\n",
        "    return tape.gradient(loss, [m,c])"
      ],
      "metadata": {
        "id": "GS-YluXjHXmf"
      },
      "execution_count": 143,
      "outputs": []
    },
    {
      "cell_type": "code",
      "source": [
        "# Randomly define the initial value of m & c\n",
        "m = tf.Variable(0.0)\n",
        "c = tf.Variable(0.0)\n",
        "\n",
        "dl_dm, dl_dc = compute_gradient(x,y,m,c) # نوجد المشتقة الجزئية حق الـ loss function بالنسبة لـ m و c\n",
        "\n",
        "print(f\"Gradient w.r.t m: {dl_dm}\")\n",
        "print(f\"Gradient w.r.t c: {dl_dc}\")"
      ],
      "metadata": {
        "colab": {
          "base_uri": "https://localhost:8080/"
        },
        "id": "eU7N2NKeC6Ta",
        "outputId": "04a4b940-e9ff-4a01-cf25-529e5c972984"
      },
      "execution_count": 144,
      "outputs": [
        {
          "output_type": "stream",
          "name": "stdout",
          "text": [
            "Gradient w.r.t m: -917.3333129882812\n",
            "Gradient w.r.t c: -90.88888549804688\n"
          ]
        }
      ]
    },
    {
      "cell_type": "code",
      "source": [
        "# Define Training Loop\n",
        "STEPS = 4500\n",
        "lr = 0.001 # Learning Rate\n",
        "\n",
        "# Randomly define the initial value of m & c\n",
        "m = tf.Variable(0.0)\n",
        "c = tf.Variable(0.0)\n",
        "\n",
        "# Defining the loop\n",
        "for step in range(0, STEPS+1):\n",
        "    dm,dc = compute_gradient(X,Y,m,c)\n",
        "    m.assign_sub(dm*lr) # update the value of m\n",
        "    c.assign_sub(dc*lr) # update the value of c\n",
        "\n",
        "    if step % 100 == 0:\n",
        "        loss = compute_mse_for_linear_model(X,Y,m,c)\n",
        "        msg = f'Epoch {step} - loss: {loss}, m:{m}, c:{c}\\n' # الرسالة اللي راح تطلع لتوضح النتائج في النهاية\n",
        "        print(msg)"
      ],
      "metadata": {
        "colab": {
          "base_uri": "https://localhost:8080/"
        },
        "id": "nOEVUHvIDMg4",
        "outputId": "95e0fb6e-c7d0-4e39-be85-16b44472e2f5"
      },
      "execution_count": 145,
      "outputs": [
        {
          "output_type": "stream",
          "name": "stdout",
          "text": [
            "Epoch 0 - loss: 1009.1619262695312, m:<tf.Variable 'Variable:0' shape=() dtype=float32, numpy=0.35700002>, c:<tf.Variable 'Variable:0' shape=() dtype=float32, numpy=0.061000008>\n",
            "\n",
            "Epoch 100 - loss: 12.750495910644531, m:<tf.Variable 'Variable:0' shape=() dtype=float32, numpy=6.0440454>, c:<tf.Variable 'Variable:0' shape=() dtype=float32, numpy=1.3633052>\n",
            "\n",
            "Epoch 200 - loss: 11.383138656616211, m:<tf.Variable 'Variable:0' shape=() dtype=float32, numpy=5.9998856>, c:<tf.Variable 'Variable:0' shape=() dtype=float32, numpy=1.7299137>\n",
            "\n",
            "Epoch 300 - loss: 10.167091369628906, m:<tf.Variable 'Variable:0' shape=() dtype=float32, numpy=5.945001>, c:<tf.Variable 'Variable:0' shape=() dtype=float32, numpy=2.0742886>\n",
            "\n",
            "Epoch 400 - loss: 9.080952644348145, m:<tf.Variable 'Variable:0' shape=() dtype=float32, numpy=5.893099>, c:<tf.Variable 'Variable:0' shape=() dtype=float32, numpy=2.3997452>\n",
            "\n",
            "Epoch 500 - loss: 8.11083984375, m:<tf.Variable 'Variable:0' shape=() dtype=float32, numpy=5.8440475>, c:<tf.Variable 'Variable:0' shape=() dtype=float32, numpy=2.7073278>\n",
            "\n",
            "Epoch 600 - loss: 7.244360446929932, m:<tf.Variable 'Variable:0' shape=() dtype=float32, numpy=5.79769>, c:<tf.Variable 'Variable:0' shape=() dtype=float32, numpy=2.9980175>\n",
            "\n",
            "Epoch 700 - loss: 6.470454216003418, m:<tf.Variable 'Variable:0' shape=() dtype=float32, numpy=5.7538795>, c:<tf.Variable 'Variable:0' shape=() dtype=float32, numpy=3.2727401>\n",
            "\n",
            "Epoch 800 - loss: 5.779224872589111, m:<tf.Variable 'Variable:0' shape=() dtype=float32, numpy=5.712473>, c:<tf.Variable 'Variable:0' shape=() dtype=float32, numpy=3.5323737>\n",
            "\n",
            "Epoch 900 - loss: 5.161834239959717, m:<tf.Variable 'Variable:0' shape=() dtype=float32, numpy=5.673342>, c:<tf.Variable 'Variable:0' shape=() dtype=float32, numpy=3.7777483>\n",
            "\n",
            "Epoch 1000 - loss: 4.610398769378662, m:<tf.Variable 'Variable:0' shape=() dtype=float32, numpy=5.6363606>, c:<tf.Variable 'Variable:0' shape=() dtype=float32, numpy=4.009647>\n",
            "\n",
            "Epoch 1100 - loss: 4.117873191833496, m:<tf.Variable 'Variable:0' shape=() dtype=float32, numpy=5.60141>, c:<tf.Variable 'Variable:0' shape=() dtype=float32, numpy=4.2288084>\n",
            "\n",
            "Epoch 1200 - loss: 3.677962064743042, m:<tf.Variable 'Variable:0' shape=() dtype=float32, numpy=5.5683784>, c:<tf.Variable 'Variable:0' shape=() dtype=float32, numpy=4.435934>\n",
            "\n",
            "Epoch 1300 - loss: 3.285050868988037, m:<tf.Variable 'Variable:0' shape=() dtype=float32, numpy=5.5371614>, c:<tf.Variable 'Variable:0' shape=() dtype=float32, numpy=4.631682>\n",
            "\n",
            "Epoch 1400 - loss: 2.934112310409546, m:<tf.Variable 'Variable:0' shape=() dtype=float32, numpy=5.5076594>, c:<tf.Variable 'Variable:0' shape=() dtype=float32, numpy=4.8166795>\n",
            "\n",
            "Epoch 1500 - loss: 2.620664358139038, m:<tf.Variable 'Variable:0' shape=() dtype=float32, numpy=5.4797773>, c:<tf.Variable 'Variable:0' shape=() dtype=float32, numpy=4.9915156>\n",
            "\n",
            "Epoch 1600 - loss: 2.3407013416290283, m:<tf.Variable 'Variable:0' shape=() dtype=float32, numpy=5.4534264>, c:<tf.Variable 'Variable:0' shape=() dtype=float32, numpy=5.1567497>\n",
            "\n",
            "Epoch 1700 - loss: 2.090646266937256, m:<tf.Variable 'Variable:0' shape=() dtype=float32, numpy=5.428523>, c:<tf.Variable 'Variable:0' shape=() dtype=float32, numpy=5.312909>\n",
            "\n",
            "Epoch 1800 - loss: 1.8673040866851807, m:<tf.Variable 'Variable:0' shape=() dtype=float32, numpy=5.4049873>, c:<tf.Variable 'Variable:0' shape=() dtype=float32, numpy=5.460492>\n",
            "\n",
            "Epoch 1900 - loss: 1.6678231954574585, m:<tf.Variable 'Variable:0' shape=() dtype=float32, numpy=5.3827443>, c:<tf.Variable 'Variable:0' shape=() dtype=float32, numpy=5.599968>\n",
            "\n",
            "Epoch 2000 - loss: 1.489653468132019, m:<tf.Variable 'Variable:0' shape=() dtype=float32, numpy=5.361723>, c:<tf.Variable 'Variable:0' shape=() dtype=float32, numpy=5.7317834>\n",
            "\n",
            "Epoch 2100 - loss: 1.33051335811615, m:<tf.Variable 'Variable:0' shape=() dtype=float32, numpy=5.3418565>, c:<tf.Variable 'Variable:0' shape=() dtype=float32, numpy=5.856361>\n",
            "\n",
            "Epoch 2200 - loss: 1.188376545906067, m:<tf.Variable 'Variable:0' shape=() dtype=float32, numpy=5.3230805>, c:<tf.Variable 'Variable:0' shape=() dtype=float32, numpy=5.974095>\n",
            "\n",
            "Epoch 2300 - loss: 1.0614224672317505, m:<tf.Variable 'Variable:0' shape=() dtype=float32, numpy=5.3053365>, c:<tf.Variable 'Variable:0' shape=() dtype=float32, numpy=6.0853634>\n",
            "\n",
            "Epoch 2400 - loss: 0.9480336308479309, m:<tf.Variable 'Variable:0' shape=() dtype=float32, numpy=5.288566>, c:<tf.Variable 'Variable:0' shape=() dtype=float32, numpy=6.19052>\n",
            "\n",
            "Epoch 2500 - loss: 0.8467547297477722, m:<tf.Variable 'Variable:0' shape=() dtype=float32, numpy=5.2727175>, c:<tf.Variable 'Variable:0' shape=() dtype=float32, numpy=6.289902>\n",
            "\n",
            "Epoch 2600 - loss: 0.7562972903251648, m:<tf.Variable 'Variable:0' shape=() dtype=float32, numpy=5.257739>, c:<tf.Variable 'Variable:0' shape=() dtype=float32, numpy=6.383825>\n",
            "\n",
            "Epoch 2700 - loss: 0.6755029559135437, m:<tf.Variable 'Variable:0' shape=() dtype=float32, numpy=5.2435837>, c:<tf.Variable 'Variable:0' shape=() dtype=float32, numpy=6.472589>\n",
            "\n",
            "Epoch 2800 - loss: 0.6033302545547485, m:<tf.Variable 'Variable:0' shape=() dtype=float32, numpy=5.2302036>, c:<tf.Variable 'Variable:0' shape=() dtype=float32, numpy=6.5564895>\n",
            "\n",
            "Epoch 2900 - loss: 0.5388766527175903, m:<tf.Variable 'Variable:0' shape=() dtype=float32, numpy=5.21756>, c:<tf.Variable 'Variable:0' shape=() dtype=float32, numpy=6.635772>\n",
            "\n",
            "Epoch 3000 - loss: 0.4813094139099121, m:<tf.Variable 'Variable:0' shape=() dtype=float32, numpy=5.2056108>, c:<tf.Variable 'Variable:0' shape=() dtype=float32, numpy=6.7106996>\n",
            "\n",
            "Epoch 3100 - loss: 0.42989134788513184, m:<tf.Variable 'Variable:0' shape=() dtype=float32, numpy=5.1943183>, c:<tf.Variable 'Variable:0' shape=() dtype=float32, numpy=6.781512>\n",
            "\n",
            "Epoch 3200 - loss: 0.38396674394607544, m:<tf.Variable 'Variable:0' shape=() dtype=float32, numpy=5.1836457>, c:<tf.Variable 'Variable:0' shape=() dtype=float32, numpy=6.848434>\n",
            "\n",
            "Epoch 3300 - loss: 0.34294793009757996, m:<tf.Variable 'Variable:0' shape=() dtype=float32, numpy=5.1735597>, c:<tf.Variable 'Variable:0' shape=() dtype=float32, numpy=6.911681>\n",
            "\n",
            "Epoch 3400 - loss: 0.3063109517097473, m:<tf.Variable 'Variable:0' shape=() dtype=float32, numpy=5.1640277>, c:<tf.Variable 'Variable:0' shape=() dtype=float32, numpy=6.9714546>\n",
            "\n",
            "Epoch 3500 - loss: 0.27358704805374146, m:<tf.Variable 'Variable:0' shape=() dtype=float32, numpy=5.1550183>, c:<tf.Variable 'Variable:0' shape=() dtype=float32, numpy=7.027947>\n",
            "\n",
            "Epoch 3600 - loss: 0.24435992538928986, m:<tf.Variable 'Variable:0' shape=() dtype=float32, numpy=5.146504>, c:<tf.Variable 'Variable:0' shape=() dtype=float32, numpy=7.0813346>\n",
            "\n",
            "Epoch 3700 - loss: 0.21825556457042694, m:<tf.Variable 'Variable:0' shape=() dtype=float32, numpy=5.1384583>, c:<tf.Variable 'Variable:0' shape=() dtype=float32, numpy=7.13179>\n",
            "\n",
            "Epoch 3800 - loss: 0.19493965804576874, m:<tf.Variable 'Variable:0' shape=() dtype=float32, numpy=5.1308537>, c:<tf.Variable 'Variable:0' shape=() dtype=float32, numpy=7.1794744>\n",
            "\n",
            "Epoch 3900 - loss: 0.17411479353904724, m:<tf.Variable 'Variable:0' shape=() dtype=float32, numpy=5.1236663>, c:<tf.Variable 'Variable:0' shape=() dtype=float32, numpy=7.2245393>\n",
            "\n",
            "Epoch 4000 - loss: 0.15551520884037018, m:<tf.Variable 'Variable:0' shape=() dtype=float32, numpy=5.1168747>, c:<tf.Variable 'Variable:0' shape=() dtype=float32, numpy=7.267127>\n",
            "\n",
            "Epoch 4100 - loss: 0.13890166580677032, m:<tf.Variable 'Variable:0' shape=() dtype=float32, numpy=5.1104565>, c:<tf.Variable 'Variable:0' shape=() dtype=float32, numpy=7.3073783>\n",
            "\n",
            "Epoch 4200 - loss: 0.12406309694051743, m:<tf.Variable 'Variable:0' shape=() dtype=float32, numpy=5.1043897>, c:<tf.Variable 'Variable:0' shape=() dtype=float32, numpy=7.3454185>\n",
            "\n",
            "Epoch 4300 - loss: 0.11081050336360931, m:<tf.Variable 'Variable:0' shape=() dtype=float32, numpy=5.0986567>, c:<tf.Variable 'Variable:0' shape=() dtype=float32, numpy=7.3813686>\n",
            "\n",
            "Epoch 4400 - loss: 0.09897269308567047, m:<tf.Variable 'Variable:0' shape=() dtype=float32, numpy=5.093238>, c:<tf.Variable 'Variable:0' shape=() dtype=float32, numpy=7.4153447>\n",
            "\n",
            "Epoch 4500 - loss: 0.08839971572160721, m:<tf.Variable 'Variable:0' shape=() dtype=float32, numpy=5.088117>, c:<tf.Variable 'Variable:0' shape=() dtype=float32, numpy=7.4474554>\n",
            "\n"
          ]
        }
      ]
    },
    {
      "cell_type": "markdown",
      "source": [
        "> نلاحظ أن قيمة الـ loss تتناقص لتصل قرب الصفر\\\n",
        "وقيمة m و c هي:\n",
        "- m = 5.088117\n",
        "- c = 7.4474554\n",
        "\n",
        "وكل ما زودنا الـ epoch راح تزيد الدقة وقيمة الـ loss راح توصل قريبة جدًا من الصفر"
      ],
      "metadata": {
        "id": "COYunabnNaC4"
      }
    },
    {
      "cell_type": "code",
      "source": [
        "m.numpy()"
      ],
      "metadata": {
        "colab": {
          "base_uri": "https://localhost:8080/"
        },
        "id": "Y7mQersaMWbP",
        "outputId": "d59b4ba9-a64a-4029-e2ca-37951cc050b1"
      },
      "execution_count": 110,
      "outputs": [
        {
          "output_type": "execute_result",
          "data": {
            "text/plain": [
              "5.088117"
            ]
          },
          "metadata": {},
          "execution_count": 110
        }
      ]
    },
    {
      "cell_type": "code",
      "source": [
        "c.numpy()"
      ],
      "metadata": {
        "colab": {
          "base_uri": "https://localhost:8080/"
        },
        "id": "7VIgIr7FNwCJ",
        "outputId": "63bac0cb-5ecb-4d6a-b088-fab895ca0884"
      },
      "execution_count": 111,
      "outputs": [
        {
          "output_type": "execute_result",
          "data": {
            "text/plain": [
              "7.4474554"
            ]
          },
          "metadata": {},
          "execution_count": 111
        }
      ]
    },
    {
      "cell_type": "markdown",
      "source": [
        "From Gradient Descent algorithm we got the Linear Regression Model as:\\\n",
        "$y=5.088x+7.447$\n",
        "\n",
        "near to the model which we got from OLS\\\n",
        "$y=4.8x+9.18$"
      ],
      "metadata": {
        "id": "A0DiIy9WN_cj"
      }
    },
    {
      "cell_type": "code",
      "source": [
        "# Define Training Loop\n",
        "STEPS = 10000\n",
        "lr = 0.001 # Learning Rate\n",
        "\n",
        "# Randomly define the initial value of m & c\n",
        "m = tf.Variable(0.0)\n",
        "c = tf.Variable(0.0)\n",
        "\n",
        "# Defining the loop\n",
        "for step in range(0, STEPS+1):\n",
        "    dm,dc = compute_gradient(X,Y,m,c)\n",
        "    m.assign_sub(dm*lr) # update the value of m\n",
        "    c.assign_sub(dc*lr) # update the value of c\n",
        "\n",
        "    if step % 100 == 0:\n",
        "        loss = compute_mse_for_linear_model(X,Y,m,c)\n",
        "        msg = f'Epoch {step} - loss: {loss}, m:{m.numpy()}, c:{c.numpy()}\\n' # الرسالة اللي راح تطلع لتوضح النتائج في النهاية\n",
        "        print(msg)"
      ],
      "metadata": {
        "colab": {
          "base_uri": "https://localhost:8080/"
        },
        "id": "QbFvDazhPGip",
        "outputId": "0f6802a0-77de-4bf5-e9e4-63483343475c"
      },
      "execution_count": 115,
      "outputs": [
        {
          "output_type": "stream",
          "name": "stdout",
          "text": [
            "Epoch 0 - loss: 1009.1619262695312, m:0.3570000231266022, c:0.06100000813603401\n",
            "\n",
            "Epoch 100 - loss: 12.750495910644531, m:6.044045448303223, c:1.3633052110671997\n",
            "\n",
            "Epoch 200 - loss: 11.383138656616211, m:5.999885559082031, c:1.7299137115478516\n",
            "\n",
            "Epoch 300 - loss: 10.167091369628906, m:5.945001125335693, c:2.0742886066436768\n",
            "\n",
            "Epoch 400 - loss: 9.080952644348145, m:5.893098831176758, c:2.399745225906372\n",
            "\n",
            "Epoch 500 - loss: 8.11083984375, m:5.844047546386719, c:2.7073278427124023\n",
            "\n",
            "Epoch 600 - loss: 7.244360446929932, m:5.797689914703369, c:2.9980175495147705\n",
            "\n",
            "Epoch 700 - loss: 6.470454216003418, m:5.753879547119141, c:3.272740125656128\n",
            "\n",
            "Epoch 800 - loss: 5.779224872589111, m:5.712472915649414, c:3.5323736667633057\n",
            "\n",
            "Epoch 900 - loss: 5.161834239959717, m:5.673342227935791, c:3.7777483463287354\n",
            "\n",
            "Epoch 1000 - loss: 4.610398769378662, m:5.6363606452941895, c:4.009646892547607\n",
            "\n",
            "Epoch 1100 - loss: 4.117873191833496, m:5.601409912109375, c:4.228808403015137\n",
            "\n",
            "Epoch 1200 - loss: 3.677962064743042, m:5.568378448486328, c:4.435934066772461\n",
            "\n",
            "Epoch 1300 - loss: 3.285050868988037, m:5.537161350250244, c:4.6316819190979\n",
            "\n",
            "Epoch 1400 - loss: 2.934112310409546, m:5.507659435272217, c:4.81667947769165\n",
            "\n",
            "Epoch 1500 - loss: 2.620664358139038, m:5.4797773361206055, c:4.991515636444092\n",
            "\n",
            "Epoch 1600 - loss: 2.3407013416290283, m:5.453426361083984, c:5.156749725341797\n",
            "\n",
            "Epoch 1700 - loss: 2.090646266937256, m:5.428523063659668, c:5.312909126281738\n",
            "\n",
            "Epoch 1800 - loss: 1.8673040866851807, m:5.404987335205078, c:5.460492134094238\n",
            "\n",
            "Epoch 1900 - loss: 1.6678231954574585, m:5.382744312286377, c:5.599967956542969\n",
            "\n",
            "Epoch 2000 - loss: 1.489653468132019, m:5.361722946166992, c:5.731783390045166\n",
            "\n",
            "Epoch 2100 - loss: 1.33051335811615, m:5.341856479644775, c:5.856360912322998\n",
            "\n",
            "Epoch 2200 - loss: 1.188376545906067, m:5.323080539703369, c:5.974094867706299\n",
            "\n",
            "Epoch 2300 - loss: 1.0614224672317505, m:5.3053364753723145, c:6.085363388061523\n",
            "\n",
            "Epoch 2400 - loss: 0.9480336308479309, m:5.2885661125183105, c:6.1905198097229\n",
            "\n",
            "Epoch 2500 - loss: 0.8467547297477722, m:5.272717475891113, c:6.289902210235596\n",
            "\n",
            "Epoch 2600 - loss: 0.7562972903251648, m:5.257739067077637, c:6.383824825286865\n",
            "\n",
            "Epoch 2700 - loss: 0.6755029559135437, m:5.243583679199219, c:6.472589015960693\n",
            "\n",
            "Epoch 2800 - loss: 0.6033302545547485, m:5.230203628540039, c:6.55648946762085\n",
            "\n",
            "Epoch 2900 - loss: 0.5388766527175903, m:5.217559814453125, c:6.635772228240967\n",
            "\n",
            "Epoch 3000 - loss: 0.4813094139099121, m:5.205610752105713, c:6.710699558258057\n",
            "\n",
            "Epoch 3100 - loss: 0.42989134788513184, m:5.1943182945251465, c:6.7815117835998535\n",
            "\n",
            "Epoch 3200 - loss: 0.38396674394607544, m:5.183645725250244, c:6.848433971405029\n",
            "\n",
            "Epoch 3300 - loss: 0.34294793009757996, m:5.173559665679932, c:6.911681175231934\n",
            "\n",
            "Epoch 3400 - loss: 0.3063109517097473, m:5.164027690887451, c:6.971454620361328\n",
            "\n",
            "Epoch 3500 - loss: 0.27358704805374146, m:5.155018329620361, c:7.027946949005127\n",
            "\n",
            "Epoch 3600 - loss: 0.24435992538928986, m:5.146503925323486, c:7.081334590911865\n",
            "\n",
            "Epoch 3700 - loss: 0.21825556457042694, m:5.138458251953125, c:7.1317901611328125\n",
            "\n",
            "Epoch 3800 - loss: 0.19493965804576874, m:5.130853652954102, c:7.179474353790283\n",
            "\n",
            "Epoch 3900 - loss: 0.17411479353904724, m:5.123666286468506, c:7.224539279937744\n",
            "\n",
            "Epoch 4000 - loss: 0.15551520884037018, m:5.116874694824219, c:7.26712703704834\n",
            "\n",
            "Epoch 4100 - loss: 0.13890166580677032, m:5.110456466674805, c:7.30737829208374\n",
            "\n",
            "Epoch 4200 - loss: 0.12406309694051743, m:5.104389667510986, c:7.345418453216553\n",
            "\n",
            "Epoch 4300 - loss: 0.11081050336360931, m:5.09865665435791, c:7.381368637084961\n",
            "\n",
            "Epoch 4400 - loss: 0.09897269308567047, m:5.09323787689209, c:7.415344715118408\n",
            "\n",
            "Epoch 4500 - loss: 0.08839971572160721, m:5.0881171226501465, c:7.447455406188965\n",
            "\n",
            "Epoch 4600 - loss: 0.07895617932081223, m:5.083277702331543, c:7.477802276611328\n",
            "\n",
            "Epoch 4700 - loss: 0.0705217719078064, m:5.078704357147217, c:7.506481170654297\n",
            "\n",
            "Epoch 4800 - loss: 0.06298810988664627, m:5.074382305145264, c:7.5335869789123535\n",
            "\n",
            "Epoch 4900 - loss: 0.0562594048678875, m:5.070296764373779, c:7.559202671051025\n",
            "\n",
            "Epoch 5000 - loss: 0.05024905130267143, m:5.066435813903809, c:7.5834126472473145\n",
            "\n",
            "Epoch 5100 - loss: 0.0448811799287796, m:5.062787055969238, c:7.606292247772217\n",
            "\n",
            "Epoch 5200 - loss: 0.040086932480335236, m:5.0593390464782715, c:7.627913951873779\n",
            "\n",
            "Epoch 5300 - loss: 0.03580464422702789, m:5.056079864501953, c:7.648348808288574\n",
            "\n",
            "Epoch 5400 - loss: 0.031980000436306, m:5.053000450134277, c:7.667661666870117\n",
            "\n",
            "Epoch 5500 - loss: 0.028563836589455605, m:5.0500898361206055, c:7.6859130859375\n",
            "\n",
            "Epoch 5600 - loss: 0.02551223710179329, m:5.04733943939209, c:7.703164100646973\n",
            "\n",
            "Epoch 5700 - loss: 0.022786937654018402, m:5.044739723205566, c:7.719466686248779\n",
            "\n",
            "Epoch 5800 - loss: 0.02035275474190712, m:5.042282581329346, c:7.7348737716674805\n",
            "\n",
            "Epoch 5900 - loss: 0.018178582191467285, m:5.039959907531738, c:7.749434471130371\n",
            "\n",
            "Epoch 6000 - loss: 0.016236688941717148, m:5.0377655029296875, c:7.763195514678955\n",
            "\n",
            "Epoch 6100 - loss: 0.014502299018204212, m:5.035691738128662, c:7.776199817657471\n",
            "\n",
            "Epoch 6200 - loss: 0.012953323312103748, m:5.033732891082764, c:7.788489818572998\n",
            "\n",
            "Epoch 6300 - loss: 0.011569748632609844, m:5.031879901885986, c:7.80010461807251\n",
            "\n",
            "Epoch 6400 - loss: 0.010333796963095665, m:5.0301289558410645, c:7.811081886291504\n",
            "\n",
            "Epoch 6500 - loss: 0.00923004187643528, m:5.028474807739258, c:7.821456432342529\n",
            "\n",
            "Epoch 6600 - loss: 0.008244252763688564, m:5.026911735534668, c:7.831260681152344\n",
            "\n",
            "Epoch 6700 - loss: 0.007363705895841122, m:5.025434494018555, c:7.840526580810547\n",
            "\n",
            "Epoch 6800 - loss: 0.0065771848894655704, m:5.024035930633545, c:7.849283695220947\n",
            "\n",
            "Epoch 6900 - loss: 0.0058747269213199615, m:5.02271842956543, c:7.8575592041015625\n",
            "\n",
            "Epoch 7000 - loss: 0.005247205030173063, m:5.021468639373779, c:7.865381717681885\n",
            "\n",
            "Epoch 7100 - loss: 0.0046867192722857, m:5.020292282104492, c:7.87277364730835\n",
            "\n",
            "Epoch 7200 - loss: 0.004186145029962063, m:5.019176483154297, c:7.879759788513184\n",
            "\n",
            "Epoch 7300 - loss: 0.0037390522193163633, m:5.018122673034668, c:7.886362552642822\n",
            "\n",
            "Epoch 7400 - loss: 0.003339739516377449, m:5.017128944396973, c:7.892601490020752\n",
            "\n",
            "Epoch 7500 - loss: 0.0029830471612513065, m:5.016189098358154, c:7.89849853515625\n",
            "\n",
            "Epoch 7600 - loss: 0.0026644684839993715, m:5.015300750732422, c:7.904072284698486\n",
            "\n",
            "Epoch 7700 - loss: 0.002379931043833494, m:5.014460563659668, c:7.90933895111084\n",
            "\n",
            "Epoch 7800 - loss: 0.002125712111592293, m:5.01366662979126, c:7.914317607879639\n",
            "\n",
            "Epoch 7900 - loss: 0.00189876276999712, m:5.01291561126709, c:7.919020652770996\n",
            "\n",
            "Epoch 8000 - loss: 0.0016959600616246462, m:5.012205600738525, c:7.923466682434082\n",
            "\n",
            "Epoch 8100 - loss: 0.001514863921329379, m:5.011534690856934, c:7.927668571472168\n",
            "\n",
            "Epoch 8200 - loss: 0.0013531356817111373, m:5.010904788970947, c:7.931639194488525\n",
            "\n",
            "Epoch 8300 - loss: 0.0012085477355867624, m:5.010305404663086, c:7.935394287109375\n",
            "\n",
            "Epoch 8400 - loss: 0.0010795174166560173, m:5.009737014770508, c:7.938940525054932\n",
            "\n",
            "Epoch 8500 - loss: 0.0009642624063417315, m:5.0092058181762695, c:7.942291736602783\n",
            "\n",
            "Epoch 8600 - loss: 0.000861263950355351, m:5.0086989402771, c:7.945460796356201\n",
            "\n",
            "Epoch 8700 - loss: 0.0007693729130551219, m:5.008220672607422, c:7.948452472686768\n",
            "\n",
            "Epoch 8800 - loss: 0.0006871664663776755, m:5.0077714920043945, c:7.951283931732178\n",
            "\n",
            "Epoch 8900 - loss: 0.0006137572345323861, m:5.007341384887695, c:7.953958511352539\n",
            "\n",
            "Epoch 9000 - loss: 0.0005482168635353446, m:5.006941318511963, c:7.95648717880249\n",
            "\n",
            "Epoch 9100 - loss: 0.0004897384787909687, m:5.006558895111084, c:7.958873271942139\n",
            "\n",
            "Epoch 9200 - loss: 0.0004374526906758547, m:5.006199836730957, c:7.9611310958862305\n",
            "\n",
            "Epoch 9300 - loss: 0.0003907228820025921, m:5.005861282348633, c:7.963265419006348\n",
            "\n",
            "Epoch 9400 - loss: 0.00034902358311228454, m:5.0055365562438965, c:7.965281009674072\n",
            "\n",
            "Epoch 9500 - loss: 0.0003117576125077903, m:5.005235195159912, c:7.96718692779541\n",
            "\n",
            "Epoch 9600 - loss: 0.0002784998796414584, m:5.004947662353516, c:7.968986511230469\n",
            "\n",
            "Epoch 9700 - loss: 0.0002487517485860735, m:5.004673957824707, c:7.97068977355957\n",
            "\n",
            "Epoch 9800 - loss: 0.00022220032406039536, m:5.004419803619385, c:7.9722981452941895\n",
            "\n",
            "Epoch 9900 - loss: 0.00019851121760439128, m:5.004178524017334, c:7.973816394805908\n",
            "\n",
            "Epoch 10000 - loss: 0.0001772931864252314, m:5.003944396972656, c:7.975255012512207\n",
            "\n"
          ]
        }
      ]
    },
    {
      "cell_type": "code",
      "source": [
        "m.numpy()"
      ],
      "metadata": {
        "colab": {
          "base_uri": "https://localhost:8080/"
        },
        "id": "HNrwA3GbP1jM",
        "outputId": "1fc6e872-b98e-4377-8d30-a51f2029b336"
      },
      "execution_count": 113,
      "outputs": [
        {
          "output_type": "execute_result",
          "data": {
            "text/plain": [
              "5.0039444"
            ]
          },
          "metadata": {},
          "execution_count": 113
        }
      ]
    },
    {
      "cell_type": "code",
      "source": [
        "c.numpy()"
      ],
      "metadata": {
        "colab": {
          "base_uri": "https://localhost:8080/"
        },
        "id": "oJspg7c_P2rW",
        "outputId": "2951b6ca-f2ac-46ae-ffe1-68f801b40a2b"
      },
      "execution_count": 114,
      "outputs": [
        {
          "output_type": "execute_result",
          "data": {
            "text/plain": [
              "7.975255"
            ]
          },
          "metadata": {},
          "execution_count": 114
        }
      ]
    },
    {
      "cell_type": "markdown",
      "source": [
        "> نلاحظ لمن زودنا الـ iteration (Epoch=10000) \n",
        "\n",
        "قيم الـ model تغيرت بشكل بسيط من:\n",
        "\n",
        "$y=5.088x+7.447$\n",
        "\n",
        "إلى أن أصبحت\n",
        "\n",
        "$y=5.004x+7.975$"
      ],
      "metadata": {
        "id": "v7uI_F3uPZS1"
      }
    },
    {
      "cell_type": "code",
      "source": [
        "# Define Training Loop\n",
        "STEPS = 1000\n",
        "lr = 0.01 # Learning Rate\n",
        "\n",
        "# Randomly define the initial value of m & c\n",
        "m = tf.Variable(0.0)\n",
        "c = tf.Variable(0.0)\n",
        "\n",
        "# Defining the loop\n",
        "for step in range(0, STEPS+1):\n",
        "    dm,dc = compute_gradient(X,Y,m,c)\n",
        "    m.assign_sub(dm*lr) # update the value of m\n",
        "    c.assign_sub(dc*lr) # update the value of c\n",
        "\n",
        "    if step % 100 == 0:\n",
        "        loss = compute_mse_for_linear_model(X,Y,m,c)\n",
        "        msg = f'Epoch {step} - loss: {loss}, m:{m.numpy()}, c:{c.numpy()}\\n' # الرسالة اللي راح تطلع لتوضح النتائج في النهاية\n",
        "        print(msg)"
      ],
      "metadata": {
        "colab": {
          "base_uri": "https://localhost:8080/"
        },
        "id": "q8DIJDtORjKl",
        "outputId": "35e4f134-a6ae-4203-bd63-44f25a8904aa"
      },
      "execution_count": 150,
      "outputs": [
        {
          "output_type": "stream",
          "name": "stdout",
          "text": [
            "Epoch 0 - loss: 208.0010528564453, m:3.569999933242798, c:0.6100000143051147\n",
            "\n",
            "Epoch 100 - loss: 4.550494194030762, m:5.6322126388549805, c:4.035655975341797\n",
            "\n",
            "Epoch 200 - loss: 1.466060996055603, m:5.358847618103027, c:5.749815940856934\n",
            "\n",
            "Epoch 300 - loss: 0.47233086824417114, m:5.203683853149414, c:6.722781181335449\n",
            "\n",
            "Epoch 400 - loss: 0.15217366814613342, m:5.115612030029297, c:7.275043964385986\n",
            "\n",
            "Epoch 500 - loss: 0.049027346074581146, m:5.065622806549072, c:7.588508605957031\n",
            "\n",
            "Epoch 600 - loss: 0.01579526998102665, m:5.037247657775879, c:7.766435623168945\n",
            "\n",
            "Epoch 700 - loss: 0.0050887963734567165, m:5.021141529083252, c:7.867428302764893\n",
            "\n",
            "Epoch 800 - loss: 0.00163958256598562, m:5.01200008392334, c:7.924749851226807\n",
            "\n",
            "Epoch 900 - loss: 0.0005282387719489634, m:5.006811618804932, c:7.957287311553955\n",
            "\n",
            "Epoch 1000 - loss: 0.00017019808001350611, m:5.003866195678711, c:7.9757561683654785\n",
            "\n"
          ]
        }
      ]
    },
    {
      "cell_type": "markdown",
      "source": [
        "> وصلنا لحل مقارب للحل السابق بس بشكل أسرع عن طريق تقليل الـ Epoch إلى 1000 وزيادة الـ learning rate 0.01\\\n",
        "ليصبح النموذج هكذا:\\\n",
        "$y=5.004x+7.976$ (By using Gradient Descent Algorithm)\n",
        "\n",
        "> Comparing to:\\\n",
        "$y=4.8x+9.18$ (Which come from OLS Method)"
      ],
      "metadata": {
        "id": "l6jzq_e8SJr7"
      }
    }
  ]
}