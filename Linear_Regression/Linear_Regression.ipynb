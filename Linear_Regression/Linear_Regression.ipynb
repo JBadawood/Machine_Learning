{
  "nbformat": 4,
  "nbformat_minor": 0,
  "metadata": {
    "colab": {
      "provenance": [],
      "collapsed_sections": [
        "T7HFVZ-fvUk_"
      ],
      "authorship_tag": "ABX9TyOeZ57c2BksPCa8tDASVHEk",
      "include_colab_link": true
    },
    "kernelspec": {
      "name": "python3",
      "display_name": "Python 3"
    },
    "language_info": {
      "name": "python"
    }
  },
  "cells": [
    {
      "cell_type": "markdown",
      "metadata": {
        "id": "view-in-github",
        "colab_type": "text"
      },
      "source": [
        "<a href=\"https://colab.research.google.com/github/JBadawood/Machine_Learning/blob/main/Linear_Regression/Linear_Regression.ipynb\" target=\"_parent\"><img src=\"https://colab.research.google.com/assets/colab-badge.svg\" alt=\"Open In Colab\"/></a>"
      ]
    },
    {
      "cell_type": "markdown",
      "source": [
        "# Machine Learning | Linear Regression\n"
      ],
      "metadata": {
        "id": "yBFK3ChkaOPE"
      }
    },
    {
      "cell_type": "markdown",
      "source": [
        "**تحليل الانحدار**\\\n",
        "*أسلوب إحصائي لتحديد العلاقة بين **المتغيرات التابعة** و**المستقلة**. يطلق عليه أيضًا \"**انحدار**\" أو \"**نموذج انحدار**\".*\n",
        "\n",
        "**Regression Analysis**\\\n",
        "*A statistical technique for determining the relationship between **dependent** and **independent variables**. Also called \"**Regression**\" or \"**Regression Model**\".*\n",
        ">المصدر: [معجـــم البيانـــات والـــذكاء االصطناعـــي](https://sdaia.gov.sa/files/Dictionary.pdf) من الهيئة السعودية للبيانات والذكاء الاصطناعي بالتعاون مع مجمع الملك سلمان العالمي للغة العربية (الطبعة الأولى 2022)"
      ],
      "metadata": {
        "id": "jrWf3AE4TgAT"
      }
    },
    {
      "cell_type": "markdown",
      "source": [
        "**Linear Regression**\\\n",
        "Dive into Deep Learning\n",
        ">Interactive deep learning book with code, math, and discussions\\\n",
        "Implemented with PyTorch, NumPy/MXNet, and TensorFlow\\\n",
        "https://d2l.ai/chapter_linear-regression/linear-regression.html"
      ],
      "metadata": {
        "id": "ynhUTtMrbCyp"
      }
    },
    {
      "cell_type": "markdown",
      "source": [
        "واحدة من أهم المهام لتعلم الآلة هي التنبؤ بما سيحدث (توقع المستقبل). وتكون عبر إعطاء بعض المعلومات التي تلخص المتغير المستقل وذلك للتنبؤ بقيمة أخرى (متغير تابع)\n",
        "مثل إعطاء قيم الأطوال للتنبؤ بأوزان الأشخاص\n",
        "\n",
        "$Y = g(X)$\\\n",
        "$Weight = g(Height)$\n",
        "\n",
        "العادة راح يكون لدينا مجموعة بيانات التدريب training dataset \n",
        "عشان نوجد الدالة الصحيحة لـ g راح نسمي هذه الخطوة بـ regression\n",
        "\n",
        "أسهل طريقة كبداية أننا نفترض هذه الدالة على أنها دالة خطية linear function"
      ],
      "metadata": {
        "id": "Hr_eEVLUoSLi"
      }
    },
    {
      "cell_type": "markdown",
      "source": [
        "**LINEAR REGRESSION | MLU EXPLAIN**\\\n",
        "A Visual Introduction To (Almost) Everything You Should Know\\\n",
        "*Jared Wilber, September 2022*\\\n",
        "https://mlu-explain.github.io/linear-regression/\n",
        "\n",
        "> [MLU-EXPLAIN](https://mlu-explain.github.io/)\\\n",
        "*Visual explanations of core machine learning concepts*\\\n",
        "> **Machine Learning University (MLU)** is an education initiative from Amazon designed to teach **machine learning theory** and **practical application**.\\\n",
        "> As part of that goal, MLU-Explain exists to teach important **machine learning concepts** through visual essays in a fun, informative, and accessible manner."
      ],
      "metadata": {
        "id": "SsMJAua6Rdyt"
      }
    },
    {
      "cell_type": "markdown",
      "source": [
        "## **1- What is Linear Regression?**\n",
        "\n",
        "[Linear Regression in 2 minutes](https://www.youtube.com/watch?v=CtsRRUddV2s)\n"
      ],
      "metadata": {
        "id": "tF2iXLZ2aSnI"
      }
    },
    {
      "cell_type": "markdown",
      "source": [
        "**Linear Regression**\\\n",
        "$g(x) = \\alpha x + β$\n",
        "\n",
        "$\\alpha: $ هي الميل للخط السابق\\\n",
        "$\\beta:$ هي التقاطع مع محور y (يعني لمن تكون x بصفر)\n",
        "\n",
        "\n"
      ],
      "metadata": {
        "id": "AKgsXKrHqQ-3"
      }
    },
    {
      "cell_type": "markdown",
      "source": [
        "كيف نحصل على القيمتين السابقتين؟\\\n",
        "How to fit the line?\n",
        "\n",
        "نقدر نجيبها بالمعادلات يدويًا\n",
        "\n",
        "$\\alpha = \\frac{\\sum_ix_iy_i - \\sum_ix_i\\sum_iy_i}{\\sum_ix_i^2-(\\sum_ix_i)^2}$\n",
        "\n",
        "$\\beta = \\frac{1}{n}\\sum_iy_i-\\alpha \\frac{1}{n}\\sum_ix_i$\n",
        "\n",
        "وهكذا يكون حلينا مسألة التنبؤ باستخدام تعلم الآلة بإيجاد معادلة الخط (لمعامل واحد)\\\n",
        "فقط كل ما علينا أننا نعوض في المعادلة التالية للتنبؤ بالقيمة حق y\\\n",
        "$g(x) = \\alpha x + β$"
      ],
      "metadata": {
        "id": "yqggt8f-rnL0"
      }
    },
    {
      "cell_type": "markdown",
      "source": [
        "### **1-1 Simple Linear Regression**\n",
        "بدل ما نستخدم الحل بالتعويض في المسائل السابقة راح نستخدم هنا بايثون عشان نرسم scatter plot و نوضح أفضل خط"
      ],
      "metadata": {
        "id": "T7HFVZ-fvUk_"
      }
    },
    {
      "cell_type": "code",
      "execution_count": null,
      "metadata": {
        "id": "lRv-nvdNaGiY"
      },
      "outputs": [],
      "source": [
        "# import the linear model from scikit-learn:\n",
        "from sklearn.linear_model import LinearRegression"
      ]
    },
    {
      "cell_type": "code",
      "source": [
        "# Regression Model\n",
        "reg = LinearRegression()"
      ],
      "metadata": {
        "id": "eHRH--SZweD-"
      },
      "execution_count": null,
      "outputs": []
    },
    {
      "cell_type": "code",
      "source": [
        "# training data\n",
        "X = [[1],[2],[3],[4],[5],[6]]\n",
        "Y = [2, 2.5, 4.5, 3, 5, 4.7]"
      ],
      "metadata": {
        "id": "BMBcRMw9wqBW"
      },
      "execution_count": null,
      "outputs": []
    },
    {
      "cell_type": "code",
      "source": [
        "# to make data visualization\n",
        "import matplotlib.pyplot as plt"
      ],
      "metadata": {
        "id": "-B_QxjRux67d"
      },
      "execution_count": null,
      "outputs": []
    },
    {
      "cell_type": "code",
      "source": [
        "# Plotting scatter plot for our data\n",
        "plt.scatter(X,Y, color = 'red');"
      ],
      "metadata": {
        "colab": {
          "base_uri": "https://localhost:8080/",
          "height": 265
        },
        "id": "yQhfK8VUyJuH",
        "outputId": "08ff59ec-b270-472d-d953-fd8086c686b2"
      },
      "execution_count": null,
      "outputs": [
        {
          "output_type": "display_data",
          "data": {
            "text/plain": [
              "<Figure size 432x288 with 1 Axes>"
            ],
            "image/png": "[encoded data removed]"
          },
          "metadata": {
            "needs_background": "light"
          }
        }
      ]
    },
    {
      "cell_type": "code",
      "source": [
        "# Call fit function\n",
        "reg.fit(X,Y)"
      ],
      "metadata": {
        "colab": {
          "base_uri": "https://localhost:8080/"
        },
        "id": "fL1JqSM9w_Sa",
        "outputId": "7432554a-fce0-4429-87db-d7b14632e35d"
      },
      "execution_count": null,
      "outputs": [
        {
          "output_type": "execute_result",
          "data": {
            "text/plain": [
              "LinearRegression()"
            ]
          },
          "metadata": {},
          "execution_count": 4
        }
      ]
    },
    {
      "cell_type": "code",
      "source": [
        "# Plotting after fitting the line\n",
        "plt.scatter(X,Y, color = 'red')\n",
        "plt.plot(X, reg.predict(X), color = 'green');"
      ],
      "metadata": {
        "colab": {
          "base_uri": "https://localhost:8080/",
          "height": 265
        },
        "id": "rcIfrqEXy7v2",
        "outputId": "2f0d4885-ae8e-4b14-caf4-88e9f36f3e8c"
      },
      "execution_count": null,
      "outputs": [
        {
          "output_type": "display_data",
          "data": {
            "text/plain": [
              "<Figure size 432x288 with 1 Axes>"
            ],
            "image/png": "[encoded data removed]"
          },
          "metadata": {
            "needs_background": "light"
          }
        }
      ]
    },
    {
      "cell_type": "code",
      "source": [
        "# Get prediction\n",
        "reg.predict([[5.5]]) # if x = 5.5 what is value of y?"
      ],
      "metadata": {
        "colab": {
          "base_uri": "https://localhost:8080/"
        },
        "id": "qctuixVlxH_j",
        "outputId": "19043e41-cc21-4bec-8797-d583a0c36216"
      },
      "execution_count": null,
      "outputs": [
        {
          "output_type": "execute_result",
          "data": {
            "text/plain": [
              "array([4.73095238])"
            ]
          },
          "metadata": {},
          "execution_count": 5
        }
      ]
    },
    {
      "cell_type": "code",
      "source": [
        "# Plotting the prediced value\n",
        "plt.scatter(X,Y, color = 'red')\n",
        "plt.plot(X, reg.predict(X), color = 'green')\n",
        "plt.plot(5.5, reg.predict([[5.5]]), 'ro',color='blue');"
      ],
      "metadata": {
        "colab": {
          "base_uri": "https://localhost:8080/",
          "height": 265
        },
        "id": "509d7hjUyvDc",
        "outputId": "3717b068-e80c-4469-f52a-27547eab23ab"
      },
      "execution_count": null,
      "outputs": [
        {
          "output_type": "display_data",
          "data": {
            "text/plain": [
              "<Figure size 432x288 with 1 Axes>"
            ],
            "image/png": "[encoded data removed]"
          },
          "metadata": {
            "needs_background": "light"
          }
        }
      ]
    },
    {
      "cell_type": "markdown",
      "source": [
        "### **1-2 Machine Learning - Linear Regression**\n",
        "https://www.w3schools.com/python/python_ml_linear_regression.asp\n",
        "\n",
        "**Regression**\\\n",
        "The term regression is used when you try to find the relationship between variables.\n",
        "\n",
        "In **Machine Learning**, and in **statistical modeling**, that relationship is used *to predict the outcome of future events*."
      ],
      "metadata": {
        "id": "U2S1B3wTWTV7"
      }
    },
    {
      "cell_type": "markdown",
      "source": [
        "في المثال التالي:\n",
        "عندنا محور السينات يمثل عمر السيارة ومحور الصادات هو سرعة السيارة"
      ],
      "metadata": {
        "id": "xYyqSpFBdr2S"
      }
    },
    {
      "cell_type": "code",
      "source": [
        "import matplotlib.pyplot as plt\n",
        "x = [5,7,8,7,2,17,2,9,4,11,12,9,6] # أعمار السيارات\n",
        "y = [99,86,87,88,111,86,103,87,94,78,77,85,86] # سرعات السيارات"
      ],
      "metadata": {
        "id": "4KDU5MayXAVh"
      },
      "execution_count": 1,
      "outputs": []
    },
    {
      "cell_type": "code",
      "source": [
        "# Plotting scatter plot of x & y\n",
        "plt.scatter(x,y)\n",
        "plt.show()"
      ],
      "metadata": {
        "colab": {
          "base_uri": "https://localhost:8080/",
          "height": 265
        },
        "id": "fjtulXVmeTmN",
        "outputId": "4140cb03-842d-4196-9fa2-44737582fefb"
      },
      "execution_count": 2,
      "outputs": [
        {
          "output_type": "display_data",
          "data": {
            "text/plain": [
              "<Figure size 432x288 with 1 Axes>"
            ],
            "image/png": "[encoded data removed]"
          },
          "metadata": {
            "needs_background": "light"
          }
        }
      ]
    },
    {
      "cell_type": "markdown",
      "source": [
        "الآن راح نرسم خط الإنحدار الأفضل للانتشار السابق بس قبلها نحتاج نوجد بعض الأرقام اللي نحتاجها في تحديد أفضل خط وهي:\n",
        "- slope\n",
        "- intercept\n",
        "- rvalue\n",
        "- pvalue\n",
        "- stderr"
      ],
      "metadata": {
        "id": "ucgoHjj1ejf9"
      }
    },
    {
      "cell_type": "code",
      "source": [
        "from scipy import stats"
      ],
      "metadata": {
        "id": "B79ppnyXeb1S"
      },
      "execution_count": 3,
      "outputs": []
    },
    {
      "cell_type": "code",
      "source": [
        "stats.linregress(x,y)"
      ],
      "metadata": {
        "colab": {
          "base_uri": "https://localhost:8080/"
        },
        "id": "BegPaNbgfVxt",
        "outputId": "d7b8442d-2c52-47e0-a0d1-28f7bd08aa00"
      },
      "execution_count": 5,
      "outputs": [
        {
          "output_type": "execute_result",
          "data": {
            "text/plain": [
              "LinregressResult(slope=-1.7512877115526118, intercept=103.10596026490066, rvalue=-0.758591524376155, pvalue=0.0026468739224561064, stderr=0.453536157607742, intercept_stderr=3.9034928101545123)"
            ]
          },
          "metadata": {},
          "execution_count": 5
        }
      ]
    },
    {
      "cell_type": "markdown",
      "source": [
        "راح نحفظ الأرقام في متغيرات عشان نقدر نستخدمها في الخطوة التالية\n",
        "\n",
        "to fit the linear model"
      ],
      "metadata": {
        "id": "3exs5JcvffXL"
      }
    },
    {
      "cell_type": "code",
      "source": [
        "slope, intercept, r, p, std_err = stats.linregress(x,y)"
      ],
      "metadata": {
        "id": "nyPeQObwfbx4"
      },
      "execution_count": 6,
      "outputs": []
    },
    {
      "cell_type": "code",
      "source": [
        "print('slope = {}\\nintercept = {}\\nr = {}\\np = {}\\nstd_err = {}'.format(slope, intercept, r, p, std_err))"
      ],
      "metadata": {
        "colab": {
          "base_uri": "https://localhost:8080/"
        },
        "id": "N8p_AgkZf-8Y",
        "outputId": "a3ac2f5f-3917-4486-f46a-a1879c2a6c7d"
      },
      "execution_count": 8,
      "outputs": [
        {
          "output_type": "stream",
          "name": "stdout",
          "text": [
            "slope = -1.7512877115526118\n",
            "intercept = 103.10596026490066\n",
            "r = -0.758591524376155\n",
            "p = 0.0026468739224561064\n",
            "std_err = 0.453536157607742\n"
          ]
        }
      ]
    },
    {
      "cell_type": "markdown",
      "source": [
        "نعمل function عشان يحسب قيمة الـ x  المتوقعة"
      ],
      "metadata": {
        "id": "eTMf_UF6gyFa"
      }
    },
    {
      "cell_type": "code",
      "source": [
        "def myfunc(x):\n",
        "    return slope * x + intercept"
      ],
      "metadata": {
        "id": "n19C7PZWgU2u"
      },
      "execution_count": 9,
      "outputs": []
    },
    {
      "cell_type": "code",
      "source": [
        "myfunc(5)"
      ],
      "metadata": {
        "colab": {
          "base_uri": "https://localhost:8080/"
        },
        "id": "Ucy9toZXhGjj",
        "outputId": "8ad71a21-8524-4100-d71b-f79312283025"
      },
      "execution_count": 10,
      "outputs": [
        {
          "output_type": "execute_result",
          "data": {
            "text/plain": [
              "94.3495217071376"
            ]
          },
          "metadata": {},
          "execution_count": 10
        }
      ]
    },
    {
      "cell_type": "markdown",
      "source": [
        "نوجد قيم النموذج الخطي عبر التعويض بقيم أعمار السيارات"
      ],
      "metadata": {
        "id": "XceZ_SBEhQD0"
      }
    },
    {
      "cell_type": "code",
      "source": [
        "map(myfunc,x)"
      ],
      "metadata": {
        "colab": {
          "base_uri": "https://localhost:8080/"
        },
        "id": "xnQTMIVFhe2f",
        "outputId": "48bf4930-67c4-43b4-8fac-709cb91bd7a2"
      },
      "execution_count": 12,
      "outputs": [
        {
          "output_type": "execute_result",
          "data": {
            "text/plain": [
              "<map at 0x7f2654a95310>"
            ]
          },
          "metadata": {},
          "execution_count": 12
        }
      ]
    },
    {
      "cell_type": "code",
      "source": [
        "list(map(myfunc, x))"
      ],
      "metadata": {
        "colab": {
          "base_uri": "https://localhost:8080/"
        },
        "id": "2N7dBElOhJoY",
        "outputId": "79252e4b-7485-4c73-8a9f-25c4feb12e54"
      },
      "execution_count": 11,
      "outputs": [
        {
          "output_type": "execute_result",
          "data": {
            "text/plain": [
              "[94.3495217071376,\n",
              " 90.84694628403238,\n",
              " 89.09565857247976,\n",
              " 90.84694628403238,\n",
              " 99.60338484179543,\n",
              " 73.33406916850626,\n",
              " 99.60338484179543,\n",
              " 87.34437086092716,\n",
              " 96.10080941869022,\n",
              " 83.84179543782193,\n",
              " 82.09050772626932,\n",
              " 87.34437086092716,\n",
              " 92.59823399558499]"
            ]
          },
          "metadata": {},
          "execution_count": 11
        }
      ]
    },
    {
      "cell_type": "markdown",
      "source": [
        "نرسم أفضل انحدار خط للانتشار السابق"
      ],
      "metadata": {
        "id": "F-mCFDk-hwJn"
      }
    },
    {
      "cell_type": "code",
      "source": [
        "mymodel = list(map(myfunc, x))\n",
        "\n",
        "plt.scatter(x,y)\n",
        "plt.plot(x,mymodel)\n",
        "plt.show()"
      ],
      "metadata": {
        "colab": {
          "base_uri": "https://localhost:8080/",
          "height": 265
        },
        "id": "yFe0y4NQhW_6",
        "outputId": "def0926a-9d6a-4852-9d12-4246c2b696a9"
      },
      "execution_count": 13,
      "outputs": [
        {
          "output_type": "display_data",
          "data": {
            "text/plain": [
              "<Figure size 432x288 with 1 Axes>"
            ],
            "image/png": "[encoded data removed]"
          },
          "metadata": {
            "needs_background": "light"
          }
        }
      ]
    },
    {
      "cell_type": "markdown",
      "source": [
        "لو نبغى نتوقع سرعة سيارة عمرها 10 سنوات نستخدم التالي"
      ],
      "metadata": {
        "id": "Bv2LFPukifHg"
      }
    },
    {
      "cell_type": "code",
      "source": [
        "print(\"The speed of a 10 years old car is {}\".format(myfunc(10)))"
      ],
      "metadata": {
        "colab": {
          "base_uri": "https://localhost:8080/"
        },
        "id": "1S55imeQiHmT",
        "outputId": "91f78dc6-1538-4485-c1f9-06e25188fbf7"
      },
      "execution_count": 20,
      "outputs": [
        {
          "output_type": "stream",
          "name": "stdout",
          "text": [
            "The speed of a 10 years old car is 85.59308314937454\n"
          ]
        }
      ]
    }
  ]
}