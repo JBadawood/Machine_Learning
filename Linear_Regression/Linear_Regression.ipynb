{
  "nbformat": 4,
  "nbformat_minor": 0,
  "metadata": {
    "colab": {
      "provenance": [],
      "collapsed_sections": [
        "tF2iXLZ2aSnI",
        "T7HFVZ-fvUk_",
        "U2S1B3wTWTV7",
        "ekpLDq6ZyKIn",
        "E9NpRLp32NtB",
        "ZcTbC7Tr2UrC",
        "cqieYt4o4xng",
        "0fTiL4Fp5bzx",
        "jXeX619cC6YM",
        "lMao0WXGD8-Z",
        "mil_5lUPH2hW"
      ],
      "toc_visible": true,
      "mount_file_id": "1YuA8EHlJfhSz2D3yVrfabYdcS4Jgi3ch",
      "authorship_tag": "ABX9TyPhz1e5LmhnQT0wYcVqHqML",
      "include_colab_link": true
    },
    "kernelspec": {
      "name": "python3",
      "display_name": "Python 3"
    },
    "language_info": {
      "name": "python"
    }
  },
  "cells": [
    {
      "cell_type": "markdown",
      "metadata": {
        "id": "view-in-github",
        "colab_type": "text"
      },
      "source": [
        "<a href=\"https://colab.research.google.com/github/JBadawood/Machine_Learning/blob/main/Linear_Regression/Linear_Regression.ipynb\" target=\"_parent\"><img src=\"https://colab.research.google.com/assets/colab-badge.svg\" alt=\"Open In Colab\"/></a>"
      ]
    },
    {
      "cell_type": "markdown",
      "source": [
        "# Machine Learning | Linear Regression\n",
        "The most known and famous **Machine Learning algorithm** is: *Linear Regression*.\\\n",
        "It is a **statistical method** that is used for **predictive analysis**.\n"
      ],
      "metadata": {
        "id": "yBFK3ChkaOPE"
      }
    },
    {
      "cell_type": "markdown",
      "source": [
        "**تحليل الانحدار**\\\n",
        "*أسلوب إحصائي لتحديد العلاقة بين **المتغيرات التابعة** و**المستقلة**. يطلق عليه أيضًا \"**انحدار**\" أو \"**نموذج انحدار**\".*\n",
        "\n",
        "**Regression Analysis**\\\n",
        "*A statistical technique for determining the relationship between **dependent** and **independent variables**. Also called \"**Regression**\" or \"**Regression Model**\".*\n",
        ">المصدر: [معجـــم البيانـــات والـــذكاء االصطناعـــي](https://sdaia.gov.sa/files/Dictionary.pdf) من الهيئة السعودية للبيانات والذكاء الاصطناعي بالتعاون مع مجمع الملك سلمان العالمي للغة العربية (الطبعة الأولى 2022)"
      ],
      "metadata": {
        "id": "jrWf3AE4TgAT"
      }
    },
    {
      "cell_type": "markdown",
      "source": [
        "**Linear Regression**\\\n",
        "Dive into Deep Learning\n",
        ">Interactive deep learning book with code, math, and discussions\\\n",
        "Implemented with PyTorch, NumPy/MXNet, and TensorFlow\\\n",
        "https://d2l.ai/chapter_linear-regression/linear-regression.html"
      ],
      "metadata": {
        "id": "ynhUTtMrbCyp"
      }
    },
    {
      "cell_type": "markdown",
      "source": [
        "واحدة من أهم المهام لتعلم الآلة هي التنبؤ بما سيحدث (توقع المستقبل). وتكون عبر إعطاء بعض المعلومات التي تلخص المتغير المستقل وذلك للتنبؤ بقيمة أخرى (متغير تابع)\n",
        "مثل إعطاء قيم الأطوال للتنبؤ بأوزان الأشخاص\n",
        "\n",
        "$Y = g(X)$\\\n",
        "$Weight = g(Height)$\n",
        "\n",
        "العادة راح يكون لدينا مجموعة بيانات التدريب training dataset \n",
        "عشان نوجد الدالة الصحيحة لـ g راح نسمي هذه الخطوة بـ regression\n",
        "\n",
        "أسهل طريقة كبداية أننا نفترض هذه الدالة على أنها دالة خطية linear function"
      ],
      "metadata": {
        "id": "Hr_eEVLUoSLi"
      }
    },
    {
      "cell_type": "markdown",
      "source": [
        "**LINEAR REGRESSION | MLU EXPLAIN**\\\n",
        "A Visual Introduction To (Almost) Everything You Should Know\\\n",
        "*Jared Wilber, September 2022*\\\n",
        "https://mlu-explain.github.io/linear-regression/\n",
        "\n",
        "> [MLU-EXPLAIN](https://mlu-explain.github.io/)\\\n",
        "*Visual explanations of core machine learning concepts*\\\n",
        "> **Machine Learning University (MLU)** is an education initiative from Amazon designed to teach **machine learning theory** and **practical application**.\\\n",
        "> As part of that goal, MLU-Explain exists to teach important **machine learning concepts** through visual essays in a fun, informative, and accessible manner."
      ],
      "metadata": {
        "id": "SsMJAua6Rdyt"
      }
    },
    {
      "cell_type": "markdown",
      "source": [
        "## **1- What is Linear Regression?**\n",
        "\n",
        "[Linear Regression in 2 minutes](https://www.youtube.com/watch?v=CtsRRUddV2s)\n"
      ],
      "metadata": {
        "id": "tF2iXLZ2aSnI"
      }
    },
    {
      "cell_type": "markdown",
      "source": [
        "**Linear Regression**\\\n",
        "$g(x) = \\alpha x + β$\n",
        "\n",
        "$\\alpha: $ هي الميل للخط السابق\\\n",
        "$\\beta:$ هي التقاطع مع محور y (يعني لمن تكون x بصفر)\n",
        "\n",
        "\n"
      ],
      "metadata": {
        "id": "AKgsXKrHqQ-3"
      }
    },
    {
      "cell_type": "markdown",
      "source": [
        "كيف نحصل على القيمتين السابقتين؟\\\n",
        "How to fit the line?\n",
        "\n",
        "نقدر نجيبها بالمعادلات يدويًا\n",
        "\n",
        "$\\alpha = \\frac{\\sum_ix_iy_i - \\sum_ix_i\\sum_iy_i}{\\sum_ix_i^2-(\\sum_ix_i)^2}$\n",
        "\n",
        "$\\beta = \\frac{1}{n}\\sum_iy_i-\\alpha \\frac{1}{n}\\sum_ix_i$\n",
        "\n",
        "وهكذا يكون حلينا مسألة التنبؤ باستخدام تعلم الآلة بإيجاد معادلة الخط (لمعامل واحد)\\\n",
        "فقط كل ما علينا أننا نعوض في المعادلة التالية للتنبؤ بالقيمة حق y\\\n",
        "$g(x) = \\alpha x + β$"
      ],
      "metadata": {
        "id": "yqggt8f-rnL0"
      }
    },
    {
      "cell_type": "markdown",
      "source": [
        "### **1-1 Simple Linear Regression**\n",
        "بدل ما نستخدم الحل بالتعويض في المسائل السابقة راح نستخدم هنا بايثون عشان نرسم scatter plot و نوضح أفضل خط"
      ],
      "metadata": {
        "id": "T7HFVZ-fvUk_"
      }
    },
    {
      "cell_type": "code",
      "execution_count": null,
      "metadata": {
        "id": "lRv-nvdNaGiY"
      },
      "outputs": [],
      "source": [
        "# import the linear model from scikit-learn:\n",
        "from sklearn.linear_model import LinearRegression"
      ]
    },
    {
      "cell_type": "code",
      "source": [
        "# Regression Model\n",
        "reg = LinearRegression()"
      ],
      "metadata": {
        "id": "eHRH--SZweD-"
      },
      "execution_count": null,
      "outputs": []
    },
    {
      "cell_type": "code",
      "source": [
        "# training data\n",
        "X = [[1],[2],[3],[4],[5],[6]]\n",
        "Y = [2, 2.5, 4.5, 3, 5, 4.7]"
      ],
      "metadata": {
        "id": "BMBcRMw9wqBW"
      },
      "execution_count": null,
      "outputs": []
    },
    {
      "cell_type": "code",
      "source": [
        "# to make data visualization\n",
        "import matplotlib.pyplot as plt"
      ],
      "metadata": {
        "id": "-B_QxjRux67d"
      },
      "execution_count": null,
      "outputs": []
    },
    {
      "cell_type": "code",
      "source": [
        "# Plotting scatter plot for our data\n",
        "plt.scatter(X,Y, color = 'red');"
      ],
      "metadata": {
        "colab": {
          "base_uri": "https://localhost:8080/",
          "height": 265
        },
        "id": "yQhfK8VUyJuH",
        "outputId": "08ff59ec-b270-472d-d953-fd8086c686b2"
      },
      "execution_count": null,
      "outputs": [
        {
          "output_type": "display_data",
          "data": {
            "text/plain": [
              "<Figure size 432x288 with 1 Axes>"
            ],
            "image/png": "[encoded data removed]"
          },
          "metadata": {
            "needs_background": "light"
          }
        }
      ]
    },
    {
      "cell_type": "code",
      "source": [
        "# Call fit function\n",
        "reg.fit(X,Y)"
      ],
      "metadata": {
        "colab": {
          "base_uri": "https://localhost:8080/"
        },
        "id": "fL1JqSM9w_Sa",
        "outputId": "7432554a-fce0-4429-87db-d7b14632e35d"
      },
      "execution_count": null,
      "outputs": [
        {
          "output_type": "execute_result",
          "data": {
            "text/plain": [
              "LinearRegression()"
            ]
          },
          "metadata": {},
          "execution_count": 4
        }
      ]
    },
    {
      "cell_type": "code",
      "source": [
        "# Plotting after fitting the line\n",
        "plt.scatter(X,Y, color = 'red')\n",
        "plt.plot(X, reg.predict(X), color = 'green');"
      ],
      "metadata": {
        "colab": {
          "base_uri": "https://localhost:8080/",
          "height": 265
        },
        "id": "rcIfrqEXy7v2",
        "outputId": "2f0d4885-ae8e-4b14-caf4-88e9f36f3e8c"
      },
      "execution_count": null,
      "outputs": [
        {
          "output_type": "display_data",
          "data": {
            "text/plain": [
              "<Figure size 432x288 with 1 Axes>"
            ],
            "image/png": "[encoded data removed]"
          },
          "metadata": {
            "needs_background": "light"
          }
        }
      ]
    },
    {
      "cell_type": "code",
      "source": [
        "# Get prediction\n",
        "reg.predict([[5.5]]) # if x = 5.5 what is value of y?"
      ],
      "metadata": {
        "colab": {
          "base_uri": "https://localhost:8080/"
        },
        "id": "qctuixVlxH_j",
        "outputId": "19043e41-cc21-4bec-8797-d583a0c36216"
      },
      "execution_count": null,
      "outputs": [
        {
          "output_type": "execute_result",
          "data": {
            "text/plain": [
              "array([4.73095238])"
            ]
          },
          "metadata": {},
          "execution_count": 5
        }
      ]
    },
    {
      "cell_type": "code",
      "source": [
        "# Plotting the prediced value\n",
        "plt.scatter(X,Y, color = 'red')\n",
        "plt.plot(X, reg.predict(X), color = 'green')\n",
        "plt.plot(5.5, reg.predict([[5.5]]), 'ro',color='blue');"
      ],
      "metadata": {
        "colab": {
          "base_uri": "https://localhost:8080/",
          "height": 265
        },
        "id": "509d7hjUyvDc",
        "outputId": "3717b068-e80c-4469-f52a-27547eab23ab"
      },
      "execution_count": null,
      "outputs": [
        {
          "output_type": "display_data",
          "data": {
            "text/plain": [
              "<Figure size 432x288 with 1 Axes>"
            ],
            "image/png": "[encoded data removed]"
          },
          "metadata": {
            "needs_background": "light"
          }
        }
      ]
    },
    {
      "cell_type": "markdown",
      "source": [
        "### **1-2 Machine Learning - Simple Linear Regression**\n",
        "https://www.w3schools.com/python/python_ml_linear_regression.asp\n",
        "\n",
        "**Regression**\\\n",
        "The term regression is used when you try to find the relationship between variables.\n",
        "\n",
        "In **Machine Learning**, and in **statistical modeling**, that relationship is used *to predict the outcome of future events*."
      ],
      "metadata": {
        "id": "U2S1B3wTWTV7"
      }
    },
    {
      "cell_type": "markdown",
      "source": [
        "في المثال التالي:\n",
        "عندنا محور السينات يمثل عمر السيارة ومحور الصادات هو سرعة السيارة"
      ],
      "metadata": {
        "id": "xYyqSpFBdr2S"
      }
    },
    {
      "cell_type": "code",
      "source": [
        "import matplotlib.pyplot as plt\n",
        "x = [5,7,8,7,2,17,2,9,4,11,12,9,6] # أعمار السيارات\n",
        "y = [99,86,87,88,111,86,103,87,94,78,77,85,86] # سرعات السيارات"
      ],
      "metadata": {
        "id": "4KDU5MayXAVh"
      },
      "execution_count": null,
      "outputs": []
    },
    {
      "cell_type": "code",
      "source": [
        "# Plotting scatter plot of x & y\n",
        "plt.scatter(x,y)\n",
        "plt.show()"
      ],
      "metadata": {
        "colab": {
          "base_uri": "https://localhost:8080/",
          "height": 265
        },
        "id": "fjtulXVmeTmN",
        "outputId": "4140cb03-842d-4196-9fa2-44737582fefb"
      },
      "execution_count": null,
      "outputs": [
        {
          "output_type": "display_data",
          "data": {
            "text/plain": [
              "<Figure size 432x288 with 1 Axes>"
            ],
            "image/png": "[encoded data removed]"
          },
          "metadata": {
            "needs_background": "light"
          }
        }
      ]
    },
    {
      "cell_type": "markdown",
      "source": [
        "الآن راح نرسم خط الإنحدار الأفضل للانتشار السابق بس قبلها نحتاج نوجد بعض الأرقام اللي نحتاجها في تحديد أفضل خط وهي:\n",
        "- slope\n",
        "- intercept\n",
        "- rvalue\n",
        "- pvalue\n",
        "- stderr"
      ],
      "metadata": {
        "id": "ucgoHjj1ejf9"
      }
    },
    {
      "cell_type": "code",
      "source": [
        "from scipy import stats"
      ],
      "metadata": {
        "id": "B79ppnyXeb1S"
      },
      "execution_count": null,
      "outputs": []
    },
    {
      "cell_type": "code",
      "source": [
        "stats.linregress(x,y)"
      ],
      "metadata": {
        "colab": {
          "base_uri": "https://localhost:8080/"
        },
        "id": "BegPaNbgfVxt",
        "outputId": "d7b8442d-2c52-47e0-a0d1-28f7bd08aa00"
      },
      "execution_count": null,
      "outputs": [
        {
          "output_type": "execute_result",
          "data": {
            "text/plain": [
              "LinregressResult(slope=-1.7512877115526118, intercept=103.10596026490066, rvalue=-0.758591524376155, pvalue=0.0026468739224561064, stderr=0.453536157607742, intercept_stderr=3.9034928101545123)"
            ]
          },
          "metadata": {},
          "execution_count": 5
        }
      ]
    },
    {
      "cell_type": "markdown",
      "source": [
        "راح نحفظ الأرقام في متغيرات عشان نقدر نستخدمها في الخطوة التالية\n",
        "\n",
        "to fit the linear model"
      ],
      "metadata": {
        "id": "3exs5JcvffXL"
      }
    },
    {
      "cell_type": "code",
      "source": [
        "slope, intercept, r, p, std_err = stats.linregress(x,y)"
      ],
      "metadata": {
        "id": "nyPeQObwfbx4"
      },
      "execution_count": null,
      "outputs": []
    },
    {
      "cell_type": "code",
      "source": [
        "print('slope = {}\\nintercept = {}\\nr = {}\\np = {}\\nstd_err = {}'.format(slope, intercept, r, p, std_err))"
      ],
      "metadata": {
        "colab": {
          "base_uri": "https://localhost:8080/"
        },
        "id": "N8p_AgkZf-8Y",
        "outputId": "a3ac2f5f-3917-4486-f46a-a1879c2a6c7d"
      },
      "execution_count": null,
      "outputs": [
        {
          "output_type": "stream",
          "name": "stdout",
          "text": [
            "slope = -1.7512877115526118\n",
            "intercept = 103.10596026490066\n",
            "r = -0.758591524376155\n",
            "p = 0.0026468739224561064\n",
            "std_err = 0.453536157607742\n"
          ]
        }
      ]
    },
    {
      "cell_type": "markdown",
      "source": [
        "نعمل function عشان يحسب قيمة الـ x  المتوقعة"
      ],
      "metadata": {
        "id": "eTMf_UF6gyFa"
      }
    },
    {
      "cell_type": "code",
      "source": [
        "def myfunc(x):\n",
        "    return slope * x + intercept"
      ],
      "metadata": {
        "id": "n19C7PZWgU2u"
      },
      "execution_count": null,
      "outputs": []
    },
    {
      "cell_type": "code",
      "source": [
        "myfunc(5)"
      ],
      "metadata": {
        "colab": {
          "base_uri": "https://localhost:8080/"
        },
        "id": "Ucy9toZXhGjj",
        "outputId": "8ad71a21-8524-4100-d71b-f79312283025"
      },
      "execution_count": null,
      "outputs": [
        {
          "output_type": "execute_result",
          "data": {
            "text/plain": [
              "94.3495217071376"
            ]
          },
          "metadata": {},
          "execution_count": 10
        }
      ]
    },
    {
      "cell_type": "markdown",
      "source": [
        "نوجد قيم النموذج الخطي عبر التعويض بقيم أعمار السيارات"
      ],
      "metadata": {
        "id": "XceZ_SBEhQD0"
      }
    },
    {
      "cell_type": "code",
      "source": [
        "map(myfunc,x)"
      ],
      "metadata": {
        "colab": {
          "base_uri": "https://localhost:8080/"
        },
        "id": "xnQTMIVFhe2f",
        "outputId": "48bf4930-67c4-43b4-8fac-709cb91bd7a2"
      },
      "execution_count": null,
      "outputs": [
        {
          "output_type": "execute_result",
          "data": {
            "text/plain": [
              "<map at 0x7f2654a95310>"
            ]
          },
          "metadata": {},
          "execution_count": 12
        }
      ]
    },
    {
      "cell_type": "code",
      "source": [
        "list(map(myfunc, x))"
      ],
      "metadata": {
        "colab": {
          "base_uri": "https://localhost:8080/"
        },
        "id": "2N7dBElOhJoY",
        "outputId": "79252e4b-7485-4c73-8a9f-25c4feb12e54"
      },
      "execution_count": null,
      "outputs": [
        {
          "output_type": "execute_result",
          "data": {
            "text/plain": [
              "[94.3495217071376,\n",
              " 90.84694628403238,\n",
              " 89.09565857247976,\n",
              " 90.84694628403238,\n",
              " 99.60338484179543,\n",
              " 73.33406916850626,\n",
              " 99.60338484179543,\n",
              " 87.34437086092716,\n",
              " 96.10080941869022,\n",
              " 83.84179543782193,\n",
              " 82.09050772626932,\n",
              " 87.34437086092716,\n",
              " 92.59823399558499]"
            ]
          },
          "metadata": {},
          "execution_count": 11
        }
      ]
    },
    {
      "cell_type": "markdown",
      "source": [
        "نرسم أفضل انحدار خط للانتشار السابق"
      ],
      "metadata": {
        "id": "F-mCFDk-hwJn"
      }
    },
    {
      "cell_type": "code",
      "source": [
        "mymodel = list(map(myfunc, x))\n",
        "\n",
        "plt.scatter(x,y)\n",
        "plt.plot(x,mymodel)\n",
        "plt.show()"
      ],
      "metadata": {
        "colab": {
          "base_uri": "https://localhost:8080/",
          "height": 265
        },
        "id": "yFe0y4NQhW_6",
        "outputId": "def0926a-9d6a-4852-9d12-4246c2b696a9"
      },
      "execution_count": null,
      "outputs": [
        {
          "output_type": "display_data",
          "data": {
            "text/plain": [
              "<Figure size 432x288 with 1 Axes>"
            ],
            "image/png": "[encoded data removed]"
          },
          "metadata": {
            "needs_background": "light"
          }
        }
      ]
    },
    {
      "cell_type": "markdown",
      "source": [
        "لو نبغى نتوقع سرعة سيارة عمرها 10 سنوات نستخدم التالي"
      ],
      "metadata": {
        "id": "Bv2LFPukifHg"
      }
    },
    {
      "cell_type": "code",
      "source": [
        "print(\"The speed of a 10 years old car is {}\".format(myfunc(10)))"
      ],
      "metadata": {
        "colab": {
          "base_uri": "https://localhost:8080/"
        },
        "id": "1S55imeQiHmT",
        "outputId": "91f78dc6-1538-4485-c1f9-06e25188fbf7"
      },
      "execution_count": null,
      "outputs": [
        {
          "output_type": "stream",
          "name": "stdout",
          "text": [
            "The speed of a 10 years old car is 85.59308314937454\n"
          ]
        }
      ]
    },
    {
      "cell_type": "markdown",
      "source": [
        "## **2- Multiple Linear Regression**\n",
        "**Multiple linear regression** is used to estimate the relationship between *two or more independent variables* and *one dependent variable*.\\\n",
        "https://medium.com/@ugursavci/machine-learning-101-linear-regression-949b7faaebe0\n"
      ],
      "metadata": {
        "id": "V16LdncIsXrz"
      }
    },
    {
      "cell_type": "markdown",
      "source": [
        "### **2-1 Predicting Sales by using Linear Regression**"
      ],
      "metadata": {
        "id": "-6vcAtEGvl0K"
      }
    },
    {
      "cell_type": "code",
      "source": [
        "import pandas as pd # لتحليل ومعالجة وتنظيف البيانات\n",
        "import numpy as np # للعمليات الرياضية\n",
        "import matplotlib.pyplot as plt # لعرض وتصوير البيانات كرسوم بيانية\n",
        "plt.style.use ('fivethirtyeight') # visualization style\n",
        "from sklearn.linear_model import LinearRegression # لاستخدام نموذج الانحدار الخطي\n",
        "from sklearn.model_selection import train_test_split"
      ],
      "metadata": {
        "id": "Zvn6hGb0sdLp"
      },
      "execution_count": 1,
      "outputs": []
    },
    {
      "cell_type": "markdown",
      "source": [
        "#### 2-1-2 Simple Linear Regression"
      ],
      "metadata": {
        "id": "ekpLDq6ZyKIn"
      }
    },
    {
      "cell_type": "markdown",
      "source": [
        "عندنا ملف فيه بيانات ما تم إنفاقه في إعلانات:\n",
        "- التلفزيون\n",
        "- الراديو\n",
        "- الصحف\n",
        "\n",
        "وكذلك توضح لنا المبيعات اللي جات بسبب هذه الإعلانات"
      ],
      "metadata": {
        "id": "sAcWPPbmzysB"
      }
    },
    {
      "cell_type": "code",
      "source": [
        "df_simple = pd.read_csv('/content/drive/MyDrive/iMLND/Regression Model/advertising.csv', usecols = ['TV','Sales'])"
      ],
      "metadata": {
        "id": "GrMSBzBOx_MD"
      },
      "execution_count": 22,
      "outputs": []
    },
    {
      "cell_type": "markdown",
      "source": [
        "الآن نشوف أول خمسة صفوف من العمودين اللي استخرجناهم من الملف السابق (المبيعات و إعلانات التلفزيون فقط)"
      ],
      "metadata": {
        "id": "rYP9RWDRy11y"
      }
    },
    {
      "cell_type": "code",
      "source": [
        "df_simple.head()"
      ],
      "metadata": {
        "colab": {
          "base_uri": "https://localhost:8080/",
          "height": 206
        },
        "id": "VpoIThbxywgJ",
        "outputId": "3a590b79-c51a-4c67-f1a3-2be196c18d3e"
      },
      "execution_count": 23,
      "outputs": [
        {
          "output_type": "execute_result",
          "data": {
            "text/plain": [
              "      TV  Sales\n",
              "0  230.1   22.1\n",
              "1   44.5   10.4\n",
              "2   17.2   12.0\n",
              "3  151.5   16.5\n",
              "4  180.8   17.9"
            ],
            "text/html": [
              "\n",
              "  <div id=\"df-bfa3d90f-b999-434a-ac40-1346ab1a4e5c\">\n",
              "    <div class=\"colab-df-container\">\n",
              "      <div>\n",
              "<style scoped>\n",
              "    .dataframe tbody tr th:only-of-type {\n",
              "        vertical-align: middle;\n",
              "    }\n",
              "\n",
              "    .dataframe tbody tr th {\n",
              "        vertical-align: top;\n",
              "    }\n",
              "\n",
              "    .dataframe thead th {\n",
              "        text-align: right;\n",
              "    }\n",
              "</style>\n",
              "<table border=\"1\" class=\"dataframe\">\n",
              "  <thead>\n",
              "    <tr style=\"text-align: right;\">\n",
              "      <th></th>\n",
              "      <th>TV</th>\n",
              "      <th>Sales</th>\n",
              "    </tr>\n",
              "  </thead>\n",
              "  <tbody>\n",
              "    <tr>\n",
              "      <th>0</th>\n",
              "      <td>230.1</td>\n",
              "      <td>22.1</td>\n",
              "    </tr>\n",
              "    <tr>\n",
              "      <th>1</th>\n",
              "      <td>44.5</td>\n",
              "      <td>10.4</td>\n",
              "    </tr>\n",
              "    <tr>\n",
              "      <th>2</th>\n",
              "      <td>17.2</td>\n",
              "      <td>12.0</td>\n",
              "    </tr>\n",
              "    <tr>\n",
              "      <th>3</th>\n",
              "      <td>151.5</td>\n",
              "      <td>16.5</td>\n",
              "    </tr>\n",
              "    <tr>\n",
              "      <th>4</th>\n",
              "      <td>180.8</td>\n",
              "      <td>17.9</td>\n",
              "    </tr>\n",
              "  </tbody>\n",
              "</table>\n",
              "</div>\n",
              "      <button class=\"colab-df-convert\" onclick=\"convertToInteractive('df-bfa3d90f-b999-434a-ac40-1346ab1a4e5c')\"\n",
              "              title=\"Convert this dataframe to an interactive table.\"\n",
              "              style=\"display:none;\">\n",
              "        \n",
              "  <svg xmlns=\"http://www.w3.org/2000/svg\" height=\"24px\"viewBox=\"0 0 24 24\"\n",
              "       width=\"24px\">\n",
              "    <path d=\"M0 0h24v24H0V0z\" fill=\"none\"/>\n",
              "    <path d=\"M18.56 5.44l.94 2.06.94-2.06 2.06-.94-2.06-.94-.94-2.06-.94 2.06-2.06.94zm-11 1L8.5 8.5l.94-2.06 2.06-.94-2.06-.94L8.5 2.5l-.94 2.06-2.06.94zm10 10l.94 2.06.94-2.06 2.06-.94-2.06-.94-.94-2.06-.94 2.06-2.06.94z\"/><path d=\"M17.41 7.96l-1.37-1.37c-.4-.4-.92-.59-1.43-.59-.52 0-1.04.2-1.43.59L10.3 9.45l-7.72 7.72c-.78.78-.78 2.05 0 2.83L4 21.41c.39.39.9.59 1.41.59.51 0 1.02-.2 1.41-.59l7.78-7.78 2.81-2.81c.8-.78.8-2.07 0-2.86zM5.41 20L4 18.59l7.72-7.72 1.47 1.35L5.41 20z\"/>\n",
              "  </svg>\n",
              "      </button>\n",
              "      \n",
              "  <style>\n",
              "    .colab-df-container {\n",
              "      display:flex;\n",
              "      flex-wrap:wrap;\n",
              "      gap: 12px;\n",
              "    }\n",
              "\n",
              "    .colab-df-convert {\n",
              "      background-color: #E8F0FE;\n",
              "      border: none;\n",
              "      border-radius: 50%;\n",
              "      cursor: pointer;\n",
              "      display: none;\n",
              "      fill: #1967D2;\n",
              "      height: 32px;\n",
              "      padding: 0 0 0 0;\n",
              "      width: 32px;\n",
              "    }\n",
              "\n",
              "    .colab-df-convert:hover {\n",
              "      background-color: #E2EBFA;\n",
              "      box-shadow: 0px 1px 2px rgba(60, 64, 67, 0.3), 0px 1px 3px 1px rgba(60, 64, 67, 0.15);\n",
              "      fill: #174EA6;\n",
              "    }\n",
              "\n",
              "    [theme=dark] .colab-df-convert {\n",
              "      background-color: #3B4455;\n",
              "      fill: #D2E3FC;\n",
              "    }\n",
              "\n",
              "    [theme=dark] .colab-df-convert:hover {\n",
              "      background-color: #434B5C;\n",
              "      box-shadow: 0px 1px 3px 1px rgba(0, 0, 0, 0.15);\n",
              "      filter: drop-shadow(0px 1px 2px rgba(0, 0, 0, 0.3));\n",
              "      fill: #FFFFFF;\n",
              "    }\n",
              "  </style>\n",
              "\n",
              "      <script>\n",
              "        const buttonEl =\n",
              "          document.querySelector('#df-bfa3d90f-b999-434a-ac40-1346ab1a4e5c button.colab-df-convert');\n",
              "        buttonEl.style.display =\n",
              "          google.colab.kernel.accessAllowed ? 'block' : 'none';\n",
              "\n",
              "        async function convertToInteractive(key) {\n",
              "          const element = document.querySelector('#df-bfa3d90f-b999-434a-ac40-1346ab1a4e5c');\n",
              "          const dataTable =\n",
              "            await google.colab.kernel.invokeFunction('convertToInteractive',\n",
              "                                                     [key], {});\n",
              "          if (!dataTable) return;\n",
              "\n",
              "          const docLinkHtml = 'Like what you see? Visit the ' +\n",
              "            '<a target=\"_blank\" href=https://colab.research.google.com/notebooks/data_table.ipynb>data table notebook</a>'\n",
              "            + ' to learn more about interactive tables.';\n",
              "          element.innerHTML = '';\n",
              "          dataTable['output_type'] = 'display_data';\n",
              "          await google.colab.output.renderOutput(dataTable, element);\n",
              "          const docLink = document.createElement('div');\n",
              "          docLink.innerHTML = docLinkHtml;\n",
              "          element.appendChild(docLink);\n",
              "        }\n",
              "      </script>\n",
              "    </div>\n",
              "  </div>\n",
              "  "
            ]
          },
          "metadata": {},
          "execution_count": 23
        }
      ]
    },
    {
      "cell_type": "markdown",
      "source": [
        "عشان نعرف معلومات أكثر عن الملف السابق زي:\n",
        "- عدد الصفوف\n",
        "- متوسط كل عمود\n",
        "- الانحراف المعياري\n",
        "- أفل قيمة \n",
        "- أعلى قيمة\\\n",
        "نستخدم الكود التالي:"
      ],
      "metadata": {
        "id": "ijpQV1FLzEFD"
      }
    },
    {
      "cell_type": "code",
      "source": [
        "df_simple.describe()"
      ],
      "metadata": {
        "colab": {
          "base_uri": "https://localhost:8080/",
          "height": 300
        },
        "id": "-34JjAWxyz55",
        "outputId": "df1a0e5b-52be-47f8-f445-258811e94998"
      },
      "execution_count": 24,
      "outputs": [
        {
          "output_type": "execute_result",
          "data": {
            "text/plain": [
              "               TV       Sales\n",
              "count  200.000000  200.000000\n",
              "mean   147.042500   15.130500\n",
              "std     85.854236    5.283892\n",
              "min      0.700000    1.600000\n",
              "25%     74.375000   11.000000\n",
              "50%    149.750000   16.000000\n",
              "75%    218.825000   19.050000\n",
              "max    296.400000   27.000000"
            ],
            "text/html": [
              "\n",
              "  <div id=\"df-f35ec889-2e0f-42bd-a38b-c9f23f3ded2b\">\n",
              "    <div class=\"colab-df-container\">\n",
              "      <div>\n",
              "<style scoped>\n",
              "    .dataframe tbody tr th:only-of-type {\n",
              "        vertical-align: middle;\n",
              "    }\n",
              "\n",
              "    .dataframe tbody tr th {\n",
              "        vertical-align: top;\n",
              "    }\n",
              "\n",
              "    .dataframe thead th {\n",
              "        text-align: right;\n",
              "    }\n",
              "</style>\n",
              "<table border=\"1\" class=\"dataframe\">\n",
              "  <thead>\n",
              "    <tr style=\"text-align: right;\">\n",
              "      <th></th>\n",
              "      <th>TV</th>\n",
              "      <th>Sales</th>\n",
              "    </tr>\n",
              "  </thead>\n",
              "  <tbody>\n",
              "    <tr>\n",
              "      <th>count</th>\n",
              "      <td>200.000000</td>\n",
              "      <td>200.000000</td>\n",
              "    </tr>\n",
              "    <tr>\n",
              "      <th>mean</th>\n",
              "      <td>147.042500</td>\n",
              "      <td>15.130500</td>\n",
              "    </tr>\n",
              "    <tr>\n",
              "      <th>std</th>\n",
              "      <td>85.854236</td>\n",
              "      <td>5.283892</td>\n",
              "    </tr>\n",
              "    <tr>\n",
              "      <th>min</th>\n",
              "      <td>0.700000</td>\n",
              "      <td>1.600000</td>\n",
              "    </tr>\n",
              "    <tr>\n",
              "      <th>25%</th>\n",
              "      <td>74.375000</td>\n",
              "      <td>11.000000</td>\n",
              "    </tr>\n",
              "    <tr>\n",
              "      <th>50%</th>\n",
              "      <td>149.750000</td>\n",
              "      <td>16.000000</td>\n",
              "    </tr>\n",
              "    <tr>\n",
              "      <th>75%</th>\n",
              "      <td>218.825000</td>\n",
              "      <td>19.050000</td>\n",
              "    </tr>\n",
              "    <tr>\n",
              "      <th>max</th>\n",
              "      <td>296.400000</td>\n",
              "      <td>27.000000</td>\n",
              "    </tr>\n",
              "  </tbody>\n",
              "</table>\n",
              "</div>\n",
              "      <button class=\"colab-df-convert\" onclick=\"convertToInteractive('df-f35ec889-2e0f-42bd-a38b-c9f23f3ded2b')\"\n",
              "              title=\"Convert this dataframe to an interactive table.\"\n",
              "              style=\"display:none;\">\n",
              "        \n",
              "  <svg xmlns=\"http://www.w3.org/2000/svg\" height=\"24px\"viewBox=\"0 0 24 24\"\n",
              "       width=\"24px\">\n",
              "    <path d=\"M0 0h24v24H0V0z\" fill=\"none\"/>\n",
              "    <path d=\"M18.56 5.44l.94 2.06.94-2.06 2.06-.94-2.06-.94-.94-2.06-.94 2.06-2.06.94zm-11 1L8.5 8.5l.94-2.06 2.06-.94-2.06-.94L8.5 2.5l-.94 2.06-2.06.94zm10 10l.94 2.06.94-2.06 2.06-.94-2.06-.94-.94-2.06-.94 2.06-2.06.94z\"/><path d=\"M17.41 7.96l-1.37-1.37c-.4-.4-.92-.59-1.43-.59-.52 0-1.04.2-1.43.59L10.3 9.45l-7.72 7.72c-.78.78-.78 2.05 0 2.83L4 21.41c.39.39.9.59 1.41.59.51 0 1.02-.2 1.41-.59l7.78-7.78 2.81-2.81c.8-.78.8-2.07 0-2.86zM5.41 20L4 18.59l7.72-7.72 1.47 1.35L5.41 20z\"/>\n",
              "  </svg>\n",
              "      </button>\n",
              "      \n",
              "  <style>\n",
              "    .colab-df-container {\n",
              "      display:flex;\n",
              "      flex-wrap:wrap;\n",
              "      gap: 12px;\n",
              "    }\n",
              "\n",
              "    .colab-df-convert {\n",
              "      background-color: #E8F0FE;\n",
              "      border: none;\n",
              "      border-radius: 50%;\n",
              "      cursor: pointer;\n",
              "      display: none;\n",
              "      fill: #1967D2;\n",
              "      height: 32px;\n",
              "      padding: 0 0 0 0;\n",
              "      width: 32px;\n",
              "    }\n",
              "\n",
              "    .colab-df-convert:hover {\n",
              "      background-color: #E2EBFA;\n",
              "      box-shadow: 0px 1px 2px rgba(60, 64, 67, 0.3), 0px 1px 3px 1px rgba(60, 64, 67, 0.15);\n",
              "      fill: #174EA6;\n",
              "    }\n",
              "\n",
              "    [theme=dark] .colab-df-convert {\n",
              "      background-color: #3B4455;\n",
              "      fill: #D2E3FC;\n",
              "    }\n",
              "\n",
              "    [theme=dark] .colab-df-convert:hover {\n",
              "      background-color: #434B5C;\n",
              "      box-shadow: 0px 1px 3px 1px rgba(0, 0, 0, 0.15);\n",
              "      filter: drop-shadow(0px 1px 2px rgba(0, 0, 0, 0.3));\n",
              "      fill: #FFFFFF;\n",
              "    }\n",
              "  </style>\n",
              "\n",
              "      <script>\n",
              "        const buttonEl =\n",
              "          document.querySelector('#df-f35ec889-2e0f-42bd-a38b-c9f23f3ded2b button.colab-df-convert');\n",
              "        buttonEl.style.display =\n",
              "          google.colab.kernel.accessAllowed ? 'block' : 'none';\n",
              "\n",
              "        async function convertToInteractive(key) {\n",
              "          const element = document.querySelector('#df-f35ec889-2e0f-42bd-a38b-c9f23f3ded2b');\n",
              "          const dataTable =\n",
              "            await google.colab.kernel.invokeFunction('convertToInteractive',\n",
              "                                                     [key], {});\n",
              "          if (!dataTable) return;\n",
              "\n",
              "          const docLinkHtml = 'Like what you see? Visit the ' +\n",
              "            '<a target=\"_blank\" href=https://colab.research.google.com/notebooks/data_table.ipynb>data table notebook</a>'\n",
              "            + ' to learn more about interactive tables.';\n",
              "          element.innerHTML = '';\n",
              "          dataTable['output_type'] = 'display_data';\n",
              "          await google.colab.output.renderOutput(dataTable, element);\n",
              "          const docLink = document.createElement('div');\n",
              "          docLink.innerHTML = docLinkHtml;\n",
              "          element.appendChild(docLink);\n",
              "        }\n",
              "      </script>\n",
              "    </div>\n",
              "  </div>\n",
              "  "
            ]
          },
          "metadata": {},
          "execution_count": 24
        }
      ]
    },
    {
      "cell_type": "markdown",
      "source": [
        "عشان نوضح عدد الصفوف والأعمدة نكتب التالي:"
      ],
      "metadata": {
        "id": "SeZND3X30lpT"
      }
    },
    {
      "cell_type": "code",
      "source": [
        "df_simple.shape"
      ],
      "metadata": {
        "colab": {
          "base_uri": "https://localhost:8080/"
        },
        "id": "W0aLVPvZzfCT",
        "outputId": "135378ea-ab34-4357-968b-35c08aafbe1f"
      },
      "execution_count": 25,
      "outputs": [
        {
          "output_type": "execute_result",
          "data": {
            "text/plain": [
              "(200, 2)"
            ]
          },
          "metadata": {},
          "execution_count": 25
        }
      ]
    },
    {
      "cell_type": "markdown",
      "source": [
        "> عدد الصفوف 200 وعدد الأعمدة 2"
      ],
      "metadata": {
        "id": "1463DbfK0zOO"
      }
    },
    {
      "cell_type": "markdown",
      "source": [
        "إذا نبغى نشيك هل في بيانات مفقودة أو لا نكتب:"
      ],
      "metadata": {
        "id": "SGBPPdua05da"
      }
    },
    {
      "cell_type": "code",
      "source": [
        "df_simple.isnull().sum()"
      ],
      "metadata": {
        "colab": {
          "base_uri": "https://localhost:8080/"
        },
        "id": "JXEWrDN-0wvl",
        "outputId": "19dba7b3-8536-4de0-e316-f6373f13f3e4"
      },
      "execution_count": 27,
      "outputs": [
        {
          "output_type": "execute_result",
          "data": {
            "text/plain": [
              "TV       0\n",
              "Sales    0\n",
              "dtype: int64"
            ]
          },
          "metadata": {},
          "execution_count": 27
        }
      ]
    },
    {
      "cell_type": "markdown",
      "source": [
        "##### Building Simple Linear Regression Model"
      ],
      "metadata": {
        "id": "E9NpRLp32NtB"
      }
    },
    {
      "cell_type": "code",
      "source": [
        "# Building simple linear regression model:\n",
        "lr = LinearRegression()"
      ],
      "metadata": {
        "id": "J_zlHKuN1EAg"
      },
      "execution_count": 28,
      "outputs": []
    },
    {
      "cell_type": "code",
      "source": [
        "X = df_simple[['TV']] # independent variable (feature)\n",
        "y = df_simple[\"Sales\"] # dependent variable (target)"
      ],
      "metadata": {
        "id": "ajIOZ_xj1gMl"
      },
      "execution_count": 29,
      "outputs": []
    },
    {
      "cell_type": "markdown",
      "source": [
        "> Note: We used two parentheses for TV to avoid the reshaping problem."
      ],
      "metadata": {
        "id": "CGeUKrIT2D0W"
      }
    },
    {
      "cell_type": "code",
      "source": [
        "X"
      ],
      "metadata": {
        "colab": {
          "base_uri": "https://localhost:8080/",
          "height": 424
        },
        "id": "OGJWr-N710z3",
        "outputId": "2182adf0-af91-460c-e9bb-573941d32740"
      },
      "execution_count": 30,
      "outputs": [
        {
          "output_type": "execute_result",
          "data": {
            "text/plain": [
              "        TV\n",
              "0    230.1\n",
              "1     44.5\n",
              "2     17.2\n",
              "3    151.5\n",
              "4    180.8\n",
              "..     ...\n",
              "195   38.2\n",
              "196   94.2\n",
              "197  177.0\n",
              "198  283.6\n",
              "199  232.1\n",
              "\n",
              "[200 rows x 1 columns]"
            ],
            "text/html": [
              "\n",
              "  <div id=\"df-bc04a8e0-ff60-4f40-ad2b-b8d5d07f716f\">\n",
              "    <div class=\"colab-df-container\">\n",
              "      <div>\n",
              "<style scoped>\n",
              "    .dataframe tbody tr th:only-of-type {\n",
              "        vertical-align: middle;\n",
              "    }\n",
              "\n",
              "    .dataframe tbody tr th {\n",
              "        vertical-align: top;\n",
              "    }\n",
              "\n",
              "    .dataframe thead th {\n",
              "        text-align: right;\n",
              "    }\n",
              "</style>\n",
              "<table border=\"1\" class=\"dataframe\">\n",
              "  <thead>\n",
              "    <tr style=\"text-align: right;\">\n",
              "      <th></th>\n",
              "      <th>TV</th>\n",
              "    </tr>\n",
              "  </thead>\n",
              "  <tbody>\n",
              "    <tr>\n",
              "      <th>0</th>\n",
              "      <td>230.1</td>\n",
              "    </tr>\n",
              "    <tr>\n",
              "      <th>1</th>\n",
              "      <td>44.5</td>\n",
              "    </tr>\n",
              "    <tr>\n",
              "      <th>2</th>\n",
              "      <td>17.2</td>\n",
              "    </tr>\n",
              "    <tr>\n",
              "      <th>3</th>\n",
              "      <td>151.5</td>\n",
              "    </tr>\n",
              "    <tr>\n",
              "      <th>4</th>\n",
              "      <td>180.8</td>\n",
              "    </tr>\n",
              "    <tr>\n",
              "      <th>...</th>\n",
              "      <td>...</td>\n",
              "    </tr>\n",
              "    <tr>\n",
              "      <th>195</th>\n",
              "      <td>38.2</td>\n",
              "    </tr>\n",
              "    <tr>\n",
              "      <th>196</th>\n",
              "      <td>94.2</td>\n",
              "    </tr>\n",
              "    <tr>\n",
              "      <th>197</th>\n",
              "      <td>177.0</td>\n",
              "    </tr>\n",
              "    <tr>\n",
              "      <th>198</th>\n",
              "      <td>283.6</td>\n",
              "    </tr>\n",
              "    <tr>\n",
              "      <th>199</th>\n",
              "      <td>232.1</td>\n",
              "    </tr>\n",
              "  </tbody>\n",
              "</table>\n",
              "<p>200 rows × 1 columns</p>\n",
              "</div>\n",
              "      <button class=\"colab-df-convert\" onclick=\"convertToInteractive('df-bc04a8e0-ff60-4f40-ad2b-b8d5d07f716f')\"\n",
              "              title=\"Convert this dataframe to an interactive table.\"\n",
              "              style=\"display:none;\">\n",
              "        \n",
              "  <svg xmlns=\"http://www.w3.org/2000/svg\" height=\"24px\"viewBox=\"0 0 24 24\"\n",
              "       width=\"24px\">\n",
              "    <path d=\"M0 0h24v24H0V0z\" fill=\"none\"/>\n",
              "    <path d=\"M18.56 5.44l.94 2.06.94-2.06 2.06-.94-2.06-.94-.94-2.06-.94 2.06-2.06.94zm-11 1L8.5 8.5l.94-2.06 2.06-.94-2.06-.94L8.5 2.5l-.94 2.06-2.06.94zm10 10l.94 2.06.94-2.06 2.06-.94-2.06-.94-.94-2.06-.94 2.06-2.06.94z\"/><path d=\"M17.41 7.96l-1.37-1.37c-.4-.4-.92-.59-1.43-.59-.52 0-1.04.2-1.43.59L10.3 9.45l-7.72 7.72c-.78.78-.78 2.05 0 2.83L4 21.41c.39.39.9.59 1.41.59.51 0 1.02-.2 1.41-.59l7.78-7.78 2.81-2.81c.8-.78.8-2.07 0-2.86zM5.41 20L4 18.59l7.72-7.72 1.47 1.35L5.41 20z\"/>\n",
              "  </svg>\n",
              "      </button>\n",
              "      \n",
              "  <style>\n",
              "    .colab-df-container {\n",
              "      display:flex;\n",
              "      flex-wrap:wrap;\n",
              "      gap: 12px;\n",
              "    }\n",
              "\n",
              "    .colab-df-convert {\n",
              "      background-color: #E8F0FE;\n",
              "      border: none;\n",
              "      border-radius: 50%;\n",
              "      cursor: pointer;\n",
              "      display: none;\n",
              "      fill: #1967D2;\n",
              "      height: 32px;\n",
              "      padding: 0 0 0 0;\n",
              "      width: 32px;\n",
              "    }\n",
              "\n",
              "    .colab-df-convert:hover {\n",
              "      background-color: #E2EBFA;\n",
              "      box-shadow: 0px 1px 2px rgba(60, 64, 67, 0.3), 0px 1px 3px 1px rgba(60, 64, 67, 0.15);\n",
              "      fill: #174EA6;\n",
              "    }\n",
              "\n",
              "    [theme=dark] .colab-df-convert {\n",
              "      background-color: #3B4455;\n",
              "      fill: #D2E3FC;\n",
              "    }\n",
              "\n",
              "    [theme=dark] .colab-df-convert:hover {\n",
              "      background-color: #434B5C;\n",
              "      box-shadow: 0px 1px 3px 1px rgba(0, 0, 0, 0.15);\n",
              "      filter: drop-shadow(0px 1px 2px rgba(0, 0, 0, 0.3));\n",
              "      fill: #FFFFFF;\n",
              "    }\n",
              "  </style>\n",
              "\n",
              "      <script>\n",
              "        const buttonEl =\n",
              "          document.querySelector('#df-bc04a8e0-ff60-4f40-ad2b-b8d5d07f716f button.colab-df-convert');\n",
              "        buttonEl.style.display =\n",
              "          google.colab.kernel.accessAllowed ? 'block' : 'none';\n",
              "\n",
              "        async function convertToInteractive(key) {\n",
              "          const element = document.querySelector('#df-bc04a8e0-ff60-4f40-ad2b-b8d5d07f716f');\n",
              "          const dataTable =\n",
              "            await google.colab.kernel.invokeFunction('convertToInteractive',\n",
              "                                                     [key], {});\n",
              "          if (!dataTable) return;\n",
              "\n",
              "          const docLinkHtml = 'Like what you see? Visit the ' +\n",
              "            '<a target=\"_blank\" href=https://colab.research.google.com/notebooks/data_table.ipynb>data table notebook</a>'\n",
              "            + ' to learn more about interactive tables.';\n",
              "          element.innerHTML = '';\n",
              "          dataTable['output_type'] = 'display_data';\n",
              "          await google.colab.output.renderOutput(dataTable, element);\n",
              "          const docLink = document.createElement('div');\n",
              "          docLink.innerHTML = docLinkHtml;\n",
              "          element.appendChild(docLink);\n",
              "        }\n",
              "      </script>\n",
              "    </div>\n",
              "  </div>\n",
              "  "
            ]
          },
          "metadata": {},
          "execution_count": 30
        }
      ]
    },
    {
      "cell_type": "code",
      "source": [
        "y"
      ],
      "metadata": {
        "colab": {
          "base_uri": "https://localhost:8080/"
        },
        "id": "OYj99w8B11nZ",
        "outputId": "a511ef18-2cf8-4e68-ac90-5dd0b7d56c94"
      },
      "execution_count": 31,
      "outputs": [
        {
          "output_type": "execute_result",
          "data": {
            "text/plain": [
              "0      22.1\n",
              "1      10.4\n",
              "2      12.0\n",
              "3      16.5\n",
              "4      17.9\n",
              "       ... \n",
              "195     7.6\n",
              "196    14.0\n",
              "197    14.8\n",
              "198    25.5\n",
              "199    18.4\n",
              "Name: Sales, Length: 200, dtype: float64"
            ]
          },
          "metadata": {},
          "execution_count": 31
        }
      ]
    },
    {
      "cell_type": "markdown",
      "source": [
        "##### Train-Test Split"
      ],
      "metadata": {
        "id": "ZcTbC7Tr2UrC"
      }
    },
    {
      "cell_type": "markdown",
      "source": [
        "في تعلم الآلة دائمًا نقسم مجموعة البيانات إلى قسمين:\n",
        "- بيانات تدريب (لتدريب النموذج عشان يفهم البيانات)\n",
        "- بيانات الاختبار (لاختبار دقة النموذج اللي سويناه)\n",
        "\n",
        "هذا المفهوم بشكل مبسط لكن توجد تفاصيل حول هذه العملية مثل:\n",
        "- cross-validation (train, validation, test)"
      ],
      "metadata": {
        "id": "2xdrZrr82i2T"
      }
    },
    {
      "cell_type": "code",
      "source": [
        "X_train, X_test, y_train, y_test = train_test_split(X,y,test_size=0.25, random_state=42) # Using 25% of the dataset for testing"
      ],
      "metadata": {
        "id": "UQvYRzsU1213"
      },
      "execution_count": 32,
      "outputs": []
    },
    {
      "cell_type": "markdown",
      "source": [
        "##### Fit Linear Model\n",
        "Starting to fit our linear model to the training set"
      ],
      "metadata": {
        "id": "cqieYt4o4xng"
      }
    },
    {
      "cell_type": "code",
      "source": [
        "lr.fit(X_train, y_train)"
      ],
      "metadata": {
        "colab": {
          "base_uri": "https://localhost:8080/"
        },
        "id": "s6kA8eAn4oMj",
        "outputId": "9b818b5f-dad7-44db-a84f-3dc523f085d0"
      },
      "execution_count": 33,
      "outputs": [
        {
          "output_type": "execute_result",
          "data": {
            "text/plain": [
              "LinearRegression()"
            ]
          },
          "metadata": {},
          "execution_count": 33
        }
      ]
    },
    {
      "cell_type": "markdown",
      "source": [
        "> الآن النموذج تعلم من بيانات التدريب"
      ],
      "metadata": {
        "id": "Q3VQgC465O-B"
      }
    },
    {
      "cell_type": "markdown",
      "source": [
        "##### Visualizing the Data and Regression Line\n",
        "Since it’s a **two-dimensional dataset**, we can easily plot it."
      ],
      "metadata": {
        "id": "0fTiL4Fp5bzx"
      }
    },
    {
      "cell_type": "code",
      "source": [
        "plt.scatter(X_test, y_test, color = 'red')\n",
        "plt.plot(X_test, lr.predict(X_test), color = 'green')\n",
        "plt.title('Sales vs TV spending')\n",
        "plt.xlabel('Sales')\n",
        "plt.ylabel('TV')\n",
        "plt.xticks(rotation=90)\n",
        "plt.show()"
      ],
      "metadata": {
        "colab": {
          "base_uri": "https://localhost:8080/",
          "height": 337
        },
        "id": "CXqOMtPl5Gu9",
        "outputId": "f95e4ee2-bb66-4569-e0b5-f71bbd63f4cf"
      },
      "execution_count": 36,
      "outputs": [
        {
          "output_type": "display_data",
          "data": {
            "text/plain": [
              "<Figure size 432x288 with 1 Axes>"
            ],
            "image/png": "[encoded data removed]"
          },
          "metadata": {}
        }
      ]
    },
    {
      "cell_type": "markdown",
      "source": [
        "> This graph allows us to clearly see how the regression line learns from the training set."
      ],
      "metadata": {
        "id": "IcAZUGzq5vXb"
      }
    },
    {
      "cell_type": "markdown",
      "source": [
        "##### Model Evaluation\n",
        "\n",
        "Measure the Performance of the Model\n",
        "\n",
        "**How to measure if the regression line is a good fit for prediction or not?**\\\n",
        "In order to **measure the performance** of the model, we use metrics such as :\n",
        "\n",
        "- R squared\n",
        "- Mean Absolute Error (**MAE**)\n",
        "- Mean Squared Error (**MSE**)\n",
        "- Root Mean Squared Error (**RMSE**)"
      ],
      "metadata": {
        "id": "jXeX619cC6YM"
      }
    },
    {
      "cell_type": "markdown",
      "source": [
        "###### R-squared\n",
        "This statistic indicates the percentage of the variance in the dependent variable that the independent variables explain collectively"
      ],
      "metadata": {
        "id": "lMao0WXGD8-Z"
      }
    },
    {
      "cell_type": "markdown",
      "source": [
        "$R^2=1-\\frac{RSS}{TSS}$ (دائمًا بين الصفر و 100%)\\\n",
        "$R^2:$ coefficient of determination\\\n",
        "$RSS:$ sum of squared of residuals\\\n",
        "$TSS:$ total sum of squares\n"
      ],
      "metadata": {
        "id": "or1YccOTEF-5"
      }
    },
    {
      "cell_type": "code",
      "source": [
        "lr.predict(X_test)"
      ],
      "metadata": {
        "colab": {
          "base_uri": "https://localhost:8080/"
        },
        "id": "EoydSTeOGcEB",
        "outputId": "17a0e72a-2190-422d-fa2f-5622c425418b"
      },
      "execution_count": 39,
      "outputs": [
        {
          "output_type": "execute_result",
          "data": {
            "text/plain": [
              "array([16.14347417, 17.92138181, 23.32156857,  7.74687609, 19.30050643,\n",
              "       11.25838215, 19.10665357,  9.86818022, 19.41681814, 16.79703523,\n",
              "        8.8435294 , 10.21157671, 20.08699517,  7.39794095, 14.82527473,\n",
              "       16.52564123,  7.50317536, 18.04323218, 11.26945945, 20.24761611,\n",
              "       19.81006251, 10.85406047,  9.20354185, 20.99533427, 10.92052431,\n",
              "       10.06203308, 18.92387802, 14.81419743, 11.92855917,  7.56410054,\n",
              "       18.16508254, 10.93160162, 18.11523467,  8.03488605, 22.64585289,\n",
              "       20.29192533,  9.77402312, 22.25814718, 13.5901551 ,  8.62198328,\n",
              "       13.52369126, 16.90226964,  9.48601316, 10.54943455, 19.50543659,\n",
              "        9.21461916, 11.00914276, 15.25728968, 12.89228481, 11.32484598])"
            ]
          },
          "metadata": {},
          "execution_count": 39
        }
      ]
    },
    {
      "cell_type": "code",
      "source": [
        "y_pred = lr.predict(X_test)"
      ],
      "metadata": {
        "id": "tqy5fjWrGj83"
      },
      "execution_count": 40,
      "outputs": []
    },
    {
      "cell_type": "markdown",
      "source": [
        "sklearn.metrics.r2_score\\\n",
        "https://scikit-learn.org/stable/modules/generated/sklearn.metrics.r2_score.html"
      ],
      "metadata": {
        "id": "VomtHZszHST1"
      }
    },
    {
      "cell_type": "code",
      "source": [
        "from sklearn.metrics import r2_score\n",
        "print('R2 Score is :',round(r2_score(y_test,y_pred),3)*100,\"%\")"
      ],
      "metadata": {
        "colab": {
          "base_uri": "https://localhost:8080/"
        },
        "id": "e0tuxt3A5wbI",
        "outputId": "506a7b1d-668c-434a-88d4-086c8c9258a0"
      },
      "execution_count": 43,
      "outputs": [
        {
          "output_type": "stream",
          "name": "stdout",
          "text": [
            "R2 Score is : 79.7 %\n"
          ]
        }
      ]
    },
    {
      "cell_type": "markdown",
      "source": [
        "> We can interpret that our model explains 79.7 % variance in the test set."
      ],
      "metadata": {
        "id": "U-2-m2pWG9qh"
      }
    },
    {
      "cell_type": "markdown",
      "source": [
        "##### Intercept and Coefficient for the Model"
      ],
      "metadata": {
        "id": "mil_5lUPH2hW"
      }
    },
    {
      "cell_type": "markdown",
      "source": [
        "$y = b_0 + b_1*x_1$"
      ],
      "metadata": {
        "id": "g2AvU2Lk5VEB"
      }
    },
    {
      "cell_type": "code",
      "source": [
        "lr.intercept_"
      ],
      "metadata": {
        "colab": {
          "base_uri": "https://localhost:8080/"
        },
        "id": "WrXONJanFXZb",
        "outputId": "b21a379d-8da6-4fde-e683-1a98832c6c2d"
      },
      "execution_count": 44,
      "outputs": [
        {
          "output_type": "execute_result",
          "data": {
            "text/plain": [
              "7.098853680118275"
            ]
          },
          "metadata": {},
          "execution_count": 44
        }
      ]
    },
    {
      "cell_type": "code",
      "source": [
        "lr.coef_[0]"
      ],
      "metadata": {
        "colab": {
          "base_uri": "https://localhost:8080/"
        },
        "id": "qesdzXpEH-gE",
        "outputId": "507195e2-e62c-43bf-ded8-7a1be9816426"
      },
      "execution_count": 45,
      "outputs": [
        {
          "output_type": "execute_result",
          "data": {
            "text/plain": [
              "0.05538653085519158"
            ]
          },
          "metadata": {},
          "execution_count": 45
        }
      ]
    },
    {
      "cell_type": "markdown",
      "source": [
        "كم راح تكون المبيعات لو انفقنا 300 دولار على إعلانات التلفزيون؟"
      ],
      "metadata": {
        "id": "7oZTwPiIIJUE"
      }
    },
    {
      "cell_type": "code",
      "source": [
        "print(\"Predicted Sales : {}\".format(round(lr.predict([[300]])[0],2)));"
      ],
      "metadata": {
        "colab": {
          "base_uri": "https://localhost:8080/"
        },
        "id": "0CSv6ZcpIB7R",
        "outputId": "d328ad79-838f-4cc7-bfd7-cc07cfe31825"
      },
      "execution_count": 49,
      "outputs": [
        {
          "output_type": "stream",
          "name": "stdout",
          "text": [
            "Predicted Sales : 23.71\n"
          ]
        },
        {
          "output_type": "stream",
          "name": "stderr",
          "text": [
            "/usr/local/lib/python3.7/dist-packages/sklearn/base.py:451: UserWarning: X does not have valid feature names, but LinearRegression was fitted with feature names\n",
            "  \"X does not have valid feature names, but\"\n"
          ]
        }
      ]
    },
    {
      "cell_type": "markdown",
      "source": [
        "نقدر نجيب التوقع بهذه الطريقة كذلك"
      ],
      "metadata": {
        "id": "A_X9QgjxJNIv"
      }
    },
    {
      "cell_type": "code",
      "source": [
        "y = lr.intercept_ + lr.coef_*300\n",
        "print(\"Predicted Sales : {}\".format(y))"
      ],
      "metadata": {
        "colab": {
          "base_uri": "https://localhost:8080/"
        },
        "id": "zmv16BV-IfmN",
        "outputId": "0ded8cdd-114e-4185-9ba5-9eacaecc9808"
      },
      "execution_count": 52,
      "outputs": [
        {
          "output_type": "stream",
          "name": "stdout",
          "text": [
            "Predicted Sales : [23.71481294]\n"
          ]
        }
      ]
    },
    {
      "cell_type": "markdown",
      "source": [
        "#### 2-1-2 Multiple Linear Regression"
      ],
      "metadata": {
        "id": "FRQGBjbwJWQp"
      }
    },
    {
      "cell_type": "markdown",
      "source": [
        "الآن راح نتوقع المبيعات بناء على عدة عوامل (وليس عامل واحد كما سبق) وهي ما تم إنفاقه في كل من:\n",
        "- إعلانات التلفزيون\n",
        "- إعلانات الإذاعة\n",
        "- إعلانات الصحف\n",
        "\n",
        "لتوقع المبيعات بناء على العوامل السابقة"
      ],
      "metadata": {
        "id": "FLQeuo8I0hM2"
      }
    },
    {
      "cell_type": "code",
      "source": [
        "import pandas as pd # data analysis,manipulation and cleaning \n",
        "import numpy as np # math operations\n",
        "import matplotlib.pyplot as plt # data visualization\n",
        "plt.style.use ('fivethirtyeight') # visualization style\n",
        "from sklearn.linear_model import LinearRegression # linear regression\n",
        "from sklearn.model_selection import train_test_split"
      ],
      "metadata": {
        "id": "BYdRTBlpJA3P"
      },
      "execution_count": 2,
      "outputs": []
    },
    {
      "cell_type": "markdown",
      "source": [
        "##### Read the Data from CSV File"
      ],
      "metadata": {
        "id": "yjv_DZpm1y5N"
      }
    },
    {
      "cell_type": "code",
      "source": [
        "df_multiple = pd.read_csv('/content/drive/MyDrive/iMLND/Regression Model/advertising.csv')"
      ],
      "metadata": {
        "id": "X0E3jaPNzl66"
      },
      "execution_count": 3,
      "outputs": []
    },
    {
      "cell_type": "code",
      "source": [
        "df_multiple"
      ],
      "metadata": {
        "colab": {
          "base_uri": "https://localhost:8080/",
          "height": 424
        },
        "id": "SHFwnIgm1e5l",
        "outputId": "d20dea68-bd98-4d18-d2db-1d79e053422f"
      },
      "execution_count": 4,
      "outputs": [
        {
          "output_type": "execute_result",
          "data": {
            "text/plain": [
              "        TV  Radio  Newspaper  Sales\n",
              "0    230.1   37.8       69.2   22.1\n",
              "1     44.5   39.3       45.1   10.4\n",
              "2     17.2   45.9       69.3   12.0\n",
              "3    151.5   41.3       58.5   16.5\n",
              "4    180.8   10.8       58.4   17.9\n",
              "..     ...    ...        ...    ...\n",
              "195   38.2    3.7       13.8    7.6\n",
              "196   94.2    4.9        8.1   14.0\n",
              "197  177.0    9.3        6.4   14.8\n",
              "198  283.6   42.0       66.2   25.5\n",
              "199  232.1    8.6        8.7   18.4\n",
              "\n",
              "[200 rows x 4 columns]"
            ],
            "text/html": [
              "\n",
              "  <div id=\"df-1206f2bc-044d-49b2-8e91-eac4437a98e1\">\n",
              "    <div class=\"colab-df-container\">\n",
              "      <div>\n",
              "<style scoped>\n",
              "    .dataframe tbody tr th:only-of-type {\n",
              "        vertical-align: middle;\n",
              "    }\n",
              "\n",
              "    .dataframe tbody tr th {\n",
              "        vertical-align: top;\n",
              "    }\n",
              "\n",
              "    .dataframe thead th {\n",
              "        text-align: right;\n",
              "    }\n",
              "</style>\n",
              "<table border=\"1\" class=\"dataframe\">\n",
              "  <thead>\n",
              "    <tr style=\"text-align: right;\">\n",
              "      <th></th>\n",
              "      <th>TV</th>\n",
              "      <th>Radio</th>\n",
              "      <th>Newspaper</th>\n",
              "      <th>Sales</th>\n",
              "    </tr>\n",
              "  </thead>\n",
              "  <tbody>\n",
              "    <tr>\n",
              "      <th>0</th>\n",
              "      <td>230.1</td>\n",
              "      <td>37.8</td>\n",
              "      <td>69.2</td>\n",
              "      <td>22.1</td>\n",
              "    </tr>\n",
              "    <tr>\n",
              "      <th>1</th>\n",
              "      <td>44.5</td>\n",
              "      <td>39.3</td>\n",
              "      <td>45.1</td>\n",
              "      <td>10.4</td>\n",
              "    </tr>\n",
              "    <tr>\n",
              "      <th>2</th>\n",
              "      <td>17.2</td>\n",
              "      <td>45.9</td>\n",
              "      <td>69.3</td>\n",
              "      <td>12.0</td>\n",
              "    </tr>\n",
              "    <tr>\n",
              "      <th>3</th>\n",
              "      <td>151.5</td>\n",
              "      <td>41.3</td>\n",
              "      <td>58.5</td>\n",
              "      <td>16.5</td>\n",
              "    </tr>\n",
              "    <tr>\n",
              "      <th>4</th>\n",
              "      <td>180.8</td>\n",
              "      <td>10.8</td>\n",
              "      <td>58.4</td>\n",
              "      <td>17.9</td>\n",
              "    </tr>\n",
              "    <tr>\n",
              "      <th>...</th>\n",
              "      <td>...</td>\n",
              "      <td>...</td>\n",
              "      <td>...</td>\n",
              "      <td>...</td>\n",
              "    </tr>\n",
              "    <tr>\n",
              "      <th>195</th>\n",
              "      <td>38.2</td>\n",
              "      <td>3.7</td>\n",
              "      <td>13.8</td>\n",
              "      <td>7.6</td>\n",
              "    </tr>\n",
              "    <tr>\n",
              "      <th>196</th>\n",
              "      <td>94.2</td>\n",
              "      <td>4.9</td>\n",
              "      <td>8.1</td>\n",
              "      <td>14.0</td>\n",
              "    </tr>\n",
              "    <tr>\n",
              "      <th>197</th>\n",
              "      <td>177.0</td>\n",
              "      <td>9.3</td>\n",
              "      <td>6.4</td>\n",
              "      <td>14.8</td>\n",
              "    </tr>\n",
              "    <tr>\n",
              "      <th>198</th>\n",
              "      <td>283.6</td>\n",
              "      <td>42.0</td>\n",
              "      <td>66.2</td>\n",
              "      <td>25.5</td>\n",
              "    </tr>\n",
              "    <tr>\n",
              "      <th>199</th>\n",
              "      <td>232.1</td>\n",
              "      <td>8.6</td>\n",
              "      <td>8.7</td>\n",
              "      <td>18.4</td>\n",
              "    </tr>\n",
              "  </tbody>\n",
              "</table>\n",
              "<p>200 rows × 4 columns</p>\n",
              "</div>\n",
              "      <button class=\"colab-df-convert\" onclick=\"convertToInteractive('df-1206f2bc-044d-49b2-8e91-eac4437a98e1')\"\n",
              "              title=\"Convert this dataframe to an interactive table.\"\n",
              "              style=\"display:none;\">\n",
              "        \n",
              "  <svg xmlns=\"http://www.w3.org/2000/svg\" height=\"24px\"viewBox=\"0 0 24 24\"\n",
              "       width=\"24px\">\n",
              "    <path d=\"M0 0h24v24H0V0z\" fill=\"none\"/>\n",
              "    <path d=\"M18.56 5.44l.94 2.06.94-2.06 2.06-.94-2.06-.94-.94-2.06-.94 2.06-2.06.94zm-11 1L8.5 8.5l.94-2.06 2.06-.94-2.06-.94L8.5 2.5l-.94 2.06-2.06.94zm10 10l.94 2.06.94-2.06 2.06-.94-2.06-.94-.94-2.06-.94 2.06-2.06.94z\"/><path d=\"M17.41 7.96l-1.37-1.37c-.4-.4-.92-.59-1.43-.59-.52 0-1.04.2-1.43.59L10.3 9.45l-7.72 7.72c-.78.78-.78 2.05 0 2.83L4 21.41c.39.39.9.59 1.41.59.51 0 1.02-.2 1.41-.59l7.78-7.78 2.81-2.81c.8-.78.8-2.07 0-2.86zM5.41 20L4 18.59l7.72-7.72 1.47 1.35L5.41 20z\"/>\n",
              "  </svg>\n",
              "      </button>\n",
              "      \n",
              "  <style>\n",
              "    .colab-df-container {\n",
              "      display:flex;\n",
              "      flex-wrap:wrap;\n",
              "      gap: 12px;\n",
              "    }\n",
              "\n",
              "    .colab-df-convert {\n",
              "      background-color: #E8F0FE;\n",
              "      border: none;\n",
              "      border-radius: 50%;\n",
              "      cursor: pointer;\n",
              "      display: none;\n",
              "      fill: #1967D2;\n",
              "      height: 32px;\n",
              "      padding: 0 0 0 0;\n",
              "      width: 32px;\n",
              "    }\n",
              "\n",
              "    .colab-df-convert:hover {\n",
              "      background-color: #E2EBFA;\n",
              "      box-shadow: 0px 1px 2px rgba(60, 64, 67, 0.3), 0px 1px 3px 1px rgba(60, 64, 67, 0.15);\n",
              "      fill: #174EA6;\n",
              "    }\n",
              "\n",
              "    [theme=dark] .colab-df-convert {\n",
              "      background-color: #3B4455;\n",
              "      fill: #D2E3FC;\n",
              "    }\n",
              "\n",
              "    [theme=dark] .colab-df-convert:hover {\n",
              "      background-color: #434B5C;\n",
              "      box-shadow: 0px 1px 3px 1px rgba(0, 0, 0, 0.15);\n",
              "      filter: drop-shadow(0px 1px 2px rgba(0, 0, 0, 0.3));\n",
              "      fill: #FFFFFF;\n",
              "    }\n",
              "  </style>\n",
              "\n",
              "      <script>\n",
              "        const buttonEl =\n",
              "          document.querySelector('#df-1206f2bc-044d-49b2-8e91-eac4437a98e1 button.colab-df-convert');\n",
              "        buttonEl.style.display =\n",
              "          google.colab.kernel.accessAllowed ? 'block' : 'none';\n",
              "\n",
              "        async function convertToInteractive(key) {\n",
              "          const element = document.querySelector('#df-1206f2bc-044d-49b2-8e91-eac4437a98e1');\n",
              "          const dataTable =\n",
              "            await google.colab.kernel.invokeFunction('convertToInteractive',\n",
              "                                                     [key], {});\n",
              "          if (!dataTable) return;\n",
              "\n",
              "          const docLinkHtml = 'Like what you see? Visit the ' +\n",
              "            '<a target=\"_blank\" href=https://colab.research.google.com/notebooks/data_table.ipynb>data table notebook</a>'\n",
              "            + ' to learn more about interactive tables.';\n",
              "          element.innerHTML = '';\n",
              "          dataTable['output_type'] = 'display_data';\n",
              "          await google.colab.output.renderOutput(dataTable, element);\n",
              "          const docLink = document.createElement('div');\n",
              "          docLink.innerHTML = docLinkHtml;\n",
              "          element.appendChild(docLink);\n",
              "        }\n",
              "      </script>\n",
              "    </div>\n",
              "  </div>\n",
              "  "
            ]
          },
          "metadata": {},
          "execution_count": 4
        }
      ]
    },
    {
      "cell_type": "code",
      "source": [
        "df_multiple.describe()"
      ],
      "metadata": {
        "colab": {
          "base_uri": "https://localhost:8080/",
          "height": 300
        },
        "id": "sBwKWClh1YHN",
        "outputId": "0939900e-9690-4da3-950f-59662abe7c2f"
      },
      "execution_count": 5,
      "outputs": [
        {
          "output_type": "execute_result",
          "data": {
            "text/plain": [
              "               TV       Radio   Newspaper       Sales\n",
              "count  200.000000  200.000000  200.000000  200.000000\n",
              "mean   147.042500   23.264000   30.554000   15.130500\n",
              "std     85.854236   14.846809   21.778621    5.283892\n",
              "min      0.700000    0.000000    0.300000    1.600000\n",
              "25%     74.375000    9.975000   12.750000   11.000000\n",
              "50%    149.750000   22.900000   25.750000   16.000000\n",
              "75%    218.825000   36.525000   45.100000   19.050000\n",
              "max    296.400000   49.600000  114.000000   27.000000"
            ],
            "text/html": [
              "\n",
              "  <div id=\"df-1c9ace68-2b10-4162-8a89-b95279e6cff8\">\n",
              "    <div class=\"colab-df-container\">\n",
              "      <div>\n",
              "<style scoped>\n",
              "    .dataframe tbody tr th:only-of-type {\n",
              "        vertical-align: middle;\n",
              "    }\n",
              "\n",
              "    .dataframe tbody tr th {\n",
              "        vertical-align: top;\n",
              "    }\n",
              "\n",
              "    .dataframe thead th {\n",
              "        text-align: right;\n",
              "    }\n",
              "</style>\n",
              "<table border=\"1\" class=\"dataframe\">\n",
              "  <thead>\n",
              "    <tr style=\"text-align: right;\">\n",
              "      <th></th>\n",
              "      <th>TV</th>\n",
              "      <th>Radio</th>\n",
              "      <th>Newspaper</th>\n",
              "      <th>Sales</th>\n",
              "    </tr>\n",
              "  </thead>\n",
              "  <tbody>\n",
              "    <tr>\n",
              "      <th>count</th>\n",
              "      <td>200.000000</td>\n",
              "      <td>200.000000</td>\n",
              "      <td>200.000000</td>\n",
              "      <td>200.000000</td>\n",
              "    </tr>\n",
              "    <tr>\n",
              "      <th>mean</th>\n",
              "      <td>147.042500</td>\n",
              "      <td>23.264000</td>\n",
              "      <td>30.554000</td>\n",
              "      <td>15.130500</td>\n",
              "    </tr>\n",
              "    <tr>\n",
              "      <th>std</th>\n",
              "      <td>85.854236</td>\n",
              "      <td>14.846809</td>\n",
              "      <td>21.778621</td>\n",
              "      <td>5.283892</td>\n",
              "    </tr>\n",
              "    <tr>\n",
              "      <th>min</th>\n",
              "      <td>0.700000</td>\n",
              "      <td>0.000000</td>\n",
              "      <td>0.300000</td>\n",
              "      <td>1.600000</td>\n",
              "    </tr>\n",
              "    <tr>\n",
              "      <th>25%</th>\n",
              "      <td>74.375000</td>\n",
              "      <td>9.975000</td>\n",
              "      <td>12.750000</td>\n",
              "      <td>11.000000</td>\n",
              "    </tr>\n",
              "    <tr>\n",
              "      <th>50%</th>\n",
              "      <td>149.750000</td>\n",
              "      <td>22.900000</td>\n",
              "      <td>25.750000</td>\n",
              "      <td>16.000000</td>\n",
              "    </tr>\n",
              "    <tr>\n",
              "      <th>75%</th>\n",
              "      <td>218.825000</td>\n",
              "      <td>36.525000</td>\n",
              "      <td>45.100000</td>\n",
              "      <td>19.050000</td>\n",
              "    </tr>\n",
              "    <tr>\n",
              "      <th>max</th>\n",
              "      <td>296.400000</td>\n",
              "      <td>49.600000</td>\n",
              "      <td>114.000000</td>\n",
              "      <td>27.000000</td>\n",
              "    </tr>\n",
              "  </tbody>\n",
              "</table>\n",
              "</div>\n",
              "      <button class=\"colab-df-convert\" onclick=\"convertToInteractive('df-1c9ace68-2b10-4162-8a89-b95279e6cff8')\"\n",
              "              title=\"Convert this dataframe to an interactive table.\"\n",
              "              style=\"display:none;\">\n",
              "        \n",
              "  <svg xmlns=\"http://www.w3.org/2000/svg\" height=\"24px\"viewBox=\"0 0 24 24\"\n",
              "       width=\"24px\">\n",
              "    <path d=\"M0 0h24v24H0V0z\" fill=\"none\"/>\n",
              "    <path d=\"M18.56 5.44l.94 2.06.94-2.06 2.06-.94-2.06-.94-.94-2.06-.94 2.06-2.06.94zm-11 1L8.5 8.5l.94-2.06 2.06-.94-2.06-.94L8.5 2.5l-.94 2.06-2.06.94zm10 10l.94 2.06.94-2.06 2.06-.94-2.06-.94-.94-2.06-.94 2.06-2.06.94z\"/><path d=\"M17.41 7.96l-1.37-1.37c-.4-.4-.92-.59-1.43-.59-.52 0-1.04.2-1.43.59L10.3 9.45l-7.72 7.72c-.78.78-.78 2.05 0 2.83L4 21.41c.39.39.9.59 1.41.59.51 0 1.02-.2 1.41-.59l7.78-7.78 2.81-2.81c.8-.78.8-2.07 0-2.86zM5.41 20L4 18.59l7.72-7.72 1.47 1.35L5.41 20z\"/>\n",
              "  </svg>\n",
              "      </button>\n",
              "      \n",
              "  <style>\n",
              "    .colab-df-container {\n",
              "      display:flex;\n",
              "      flex-wrap:wrap;\n",
              "      gap: 12px;\n",
              "    }\n",
              "\n",
              "    .colab-df-convert {\n",
              "      background-color: #E8F0FE;\n",
              "      border: none;\n",
              "      border-radius: 50%;\n",
              "      cursor: pointer;\n",
              "      display: none;\n",
              "      fill: #1967D2;\n",
              "      height: 32px;\n",
              "      padding: 0 0 0 0;\n",
              "      width: 32px;\n",
              "    }\n",
              "\n",
              "    .colab-df-convert:hover {\n",
              "      background-color: #E2EBFA;\n",
              "      box-shadow: 0px 1px 2px rgba(60, 64, 67, 0.3), 0px 1px 3px 1px rgba(60, 64, 67, 0.15);\n",
              "      fill: #174EA6;\n",
              "    }\n",
              "\n",
              "    [theme=dark] .colab-df-convert {\n",
              "      background-color: #3B4455;\n",
              "      fill: #D2E3FC;\n",
              "    }\n",
              "\n",
              "    [theme=dark] .colab-df-convert:hover {\n",
              "      background-color: #434B5C;\n",
              "      box-shadow: 0px 1px 3px 1px rgba(0, 0, 0, 0.15);\n",
              "      filter: drop-shadow(0px 1px 2px rgba(0, 0, 0, 0.3));\n",
              "      fill: #FFFFFF;\n",
              "    }\n",
              "  </style>\n",
              "\n",
              "      <script>\n",
              "        const buttonEl =\n",
              "          document.querySelector('#df-1c9ace68-2b10-4162-8a89-b95279e6cff8 button.colab-df-convert');\n",
              "        buttonEl.style.display =\n",
              "          google.colab.kernel.accessAllowed ? 'block' : 'none';\n",
              "\n",
              "        async function convertToInteractive(key) {\n",
              "          const element = document.querySelector('#df-1c9ace68-2b10-4162-8a89-b95279e6cff8');\n",
              "          const dataTable =\n",
              "            await google.colab.kernel.invokeFunction('convertToInteractive',\n",
              "                                                     [key], {});\n",
              "          if (!dataTable) return;\n",
              "\n",
              "          const docLinkHtml = 'Like what you see? Visit the ' +\n",
              "            '<a target=\"_blank\" href=https://colab.research.google.com/notebooks/data_table.ipynb>data table notebook</a>'\n",
              "            + ' to learn more about interactive tables.';\n",
              "          element.innerHTML = '';\n",
              "          dataTable['output_type'] = 'display_data';\n",
              "          await google.colab.output.renderOutput(dataTable, element);\n",
              "          const docLink = document.createElement('div');\n",
              "          docLink.innerHTML = docLinkHtml;\n",
              "          element.appendChild(docLink);\n",
              "        }\n",
              "      </script>\n",
              "    </div>\n",
              "  </div>\n",
              "  "
            ]
          },
          "metadata": {},
          "execution_count": 5
        }
      ]
    },
    {
      "cell_type": "markdown",
      "source": [
        "##### Checking Missing Values"
      ],
      "metadata": {
        "id": "98mKzglv1tVV"
      }
    },
    {
      "cell_type": "code",
      "source": [
        "df_multiple.isnull().sum()"
      ],
      "metadata": {
        "colab": {
          "base_uri": "https://localhost:8080/"
        },
        "id": "M9Og0kEB1hiN",
        "outputId": "089f203c-f8be-42d4-a53a-fdb811da03f6"
      },
      "execution_count": 6,
      "outputs": [
        {
          "output_type": "execute_result",
          "data": {
            "text/plain": [
              "TV           0\n",
              "Radio        0\n",
              "Newspaper    0\n",
              "Sales        0\n",
              "dtype: int64"
            ]
          },
          "metadata": {},
          "execution_count": 6
        }
      ]
    },
    {
      "cell_type": "markdown",
      "source": [
        "##### Define the Independent & Dependent Variables\n",
        "\n",
        "$X$ = **Independent Variables**: (Feature) also called: \"*predictor variables*\"\\\n",
        "$y$ = **Dependent Variables**: (Target) also called\" \"*predicted variable*\" or \"*response variable*\""
      ],
      "metadata": {
        "id": "NA6dtAlq2DoN"
      }
    },
    {
      "cell_type": "code",
      "source": [
        "X = df_multiple[[\"TV\", \"Radio\", \"Newspaper\"]] # Independent Variables (Feature)\n",
        "y = df_multiple[\"Sales\"] # Dependent Variables (Target)"
      ],
      "metadata": {
        "id": "gppQ5mze1_eR"
      },
      "execution_count": 7,
      "outputs": []
    },
    {
      "cell_type": "markdown",
      "source": [
        "##### Train-Test Split"
      ],
      "metadata": {
        "id": "s91uCRzE2-Fw"
      }
    },
    {
      "cell_type": "markdown",
      "source": [
        "تقسيم البيانات إلى: \n",
        "- بيانات تدريب ==> لتدريب نموذج تعلم الآلة (نموذج الإنحدار الخطي)\n",
        "- بيانات اختبار ==> لاختبار أداء النموذج بعد التدريب وتعلمها من البيانات المعطى لها"
      ],
      "metadata": {
        "id": "hyP9EolM3VTp"
      }
    },
    {
      "cell_type": "code",
      "source": [
        "train_test_split(X, y, test_size=0.25, random_state=42)"
      ],
      "metadata": {
        "colab": {
          "base_uri": "https://localhost:8080/"
        },
        "id": "0DMjomBv3Fih",
        "outputId": "03f46afa-058c-4328-9884-14dcff9a123c"
      },
      "execution_count": 8,
      "outputs": [
        {
          "output_type": "execute_result",
          "data": {
            "text/plain": [
              "[        TV  Radio  Newspaper\n",
              " 114   78.2   46.8       34.5\n",
              " 173  168.4    7.1       12.8\n",
              " 5      8.7   48.9       75.0\n",
              " 126    7.8   38.9       50.6\n",
              " 117   76.4    0.8       14.8\n",
              " ..     ...    ...        ...\n",
              " 106   25.0   11.0       29.7\n",
              " 14   204.1   32.9       46.0\n",
              " 92   217.7   33.5       59.0\n",
              " 179  165.6   10.0       17.6\n",
              " 102  280.2   10.1       21.4\n",
              " \n",
              " [150 rows x 3 columns],         TV  Radio  Newspaper\n",
              " 95   163.3   31.6       52.9\n",
              " 15   195.4   47.7       52.9\n",
              " 30   292.9   28.3       43.2\n",
              " 158   11.7   36.9       45.2\n",
              " 128  220.3   49.0        3.2\n",
              " 115   75.1   35.0       52.7\n",
              " 69   216.8   43.9       27.2\n",
              " 170   50.0   11.6       18.4\n",
              " 174  222.4    3.4       13.1\n",
              " 45   175.1   22.5       31.5\n",
              " 66    31.5   24.6        2.2\n",
              " 182   56.2    5.7       29.7\n",
              " 165  234.5    3.4       84.8\n",
              " 78     5.4   29.9        9.4\n",
              " 186  139.5    2.1       26.6\n",
              " 177  170.2    7.8       35.2\n",
              " 56     7.3   28.1       41.4\n",
              " 152  197.6   23.3       14.2\n",
              " 82    75.3   20.3       32.5\n",
              " 68   237.4   27.5       11.0\n",
              " 124  229.5   32.3       74.2\n",
              " 16    67.8   36.6      114.0\n",
              " 148   38.0   40.3       11.9\n",
              " 93   250.9   36.5       72.3\n",
              " 65    69.0    9.3        0.9\n",
              " 60    53.5    2.0       21.4\n",
              " 84   213.5   43.0       33.8\n",
              " 67   139.3   14.5       10.2\n",
              " 125   87.2   11.8       25.9\n",
              " 132    8.4   27.2        2.1\n",
              " 9    199.8    2.6       21.2\n",
              " 18    69.2   20.5       18.3\n",
              " 55   198.9   49.4       60.0\n",
              " 75    16.9   43.7       89.4\n",
              " 150  280.7   13.9       37.0\n",
              " 104  238.2   34.3        5.3\n",
              " 135   48.3   47.0        8.5\n",
              " 137  273.7   28.9       59.7\n",
              " 164  117.2   14.7        5.4\n",
              " 76    27.5    1.6       20.7\n",
              " 79   116.0    7.7       23.1\n",
              " 197  177.0    9.3        6.4\n",
              " 38    43.1   26.7       35.1\n",
              " 24    62.3   12.6       18.3\n",
              " 122  224.0    2.4       15.6\n",
              " 195   38.2    3.7       13.8\n",
              " 29    70.6   16.0       40.8\n",
              " 19   147.3   23.9       19.1\n",
              " 143  104.6    5.7       34.4\n",
              " 86    76.3   27.5       16.0, 114    14.6\n",
              " 173    16.7\n",
              " 5       7.2\n",
              " 126     6.6\n",
              " 117     9.4\n",
              "        ... \n",
              " 106     7.2\n",
              " 14     19.0\n",
              " 92     19.4\n",
              " 179    17.6\n",
              " 102    19.8\n",
              " Name: Sales, Length: 150, dtype: float64, 95     16.9\n",
              " 15     22.4\n",
              " 30     21.4\n",
              " 158     7.3\n",
              " 128    24.7\n",
              " 115    12.6\n",
              " 69     22.3\n",
              " 170     8.4\n",
              " 174    16.5\n",
              " 45     16.1\n",
              " 66     11.0\n",
              " 182     8.7\n",
              " 165    16.9\n",
              " 78      5.3\n",
              " 186    10.3\n",
              " 177    16.7\n",
              " 56      5.5\n",
              " 152    16.6\n",
              " 82     11.3\n",
              " 68     18.9\n",
              " 124    19.7\n",
              " 16     12.5\n",
              " 148    10.9\n",
              " 93     22.2\n",
              " 65     11.3\n",
              " 60      8.1\n",
              " 84     21.7\n",
              " 67     13.4\n",
              " 125    10.6\n",
              " 132     5.7\n",
              " 9      15.6\n",
              " 18     11.3\n",
              " 55     23.7\n",
              " 75      8.7\n",
              " 150    16.1\n",
              " 104    20.7\n",
              " 135    11.6\n",
              " 137    20.8\n",
              " 164    11.9\n",
              " 76      6.9\n",
              " 79     11.0\n",
              " 197    14.8\n",
              " 38     10.1\n",
              " 24      9.7\n",
              " 122    16.6\n",
              " 195     7.6\n",
              " 29     10.5\n",
              " 19     14.6\n",
              " 143    10.4\n",
              " 86     12.0\n",
              " Name: Sales, dtype: float64]"
            ]
          },
          "metadata": {},
          "execution_count": 8
        }
      ]
    },
    {
      "cell_type": "markdown",
      "source": [
        "راح نستخدم 25% من البيانات لتكون بيانات اختبار"
      ],
      "metadata": {
        "id": "eKTCmeyR4eQV"
      }
    },
    {
      "cell_type": "code",
      "source": [
        "X_train, X_test, y_train, y_test = train_test_split(X, y, test_size = 0.25 , random_state = 42)"
      ],
      "metadata": {
        "id": "DrZwRC4s21nh"
      },
      "execution_count": 9,
      "outputs": []
    },
    {
      "cell_type": "markdown",
      "source": [
        "##### Building & Fitting the Model"
      ],
      "metadata": {
        "id": "Mi9_7LxA4qka"
      }
    },
    {
      "cell_type": "markdown",
      "source": [
        "الآن ندرب النموذج بهذه الطريقة "
      ],
      "metadata": {
        "id": "CF0D-Wxj0hd_"
      }
    },
    {
      "cell_type": "code",
      "source": [
        "lr = LinearRegression()"
      ],
      "metadata": {
        "id": "01lGtUQN4dJ7"
      },
      "execution_count": 10,
      "outputs": []
    },
    {
      "cell_type": "code",
      "source": [
        "lr.fit(X_train, y_train)"
      ],
      "metadata": {
        "colab": {
          "base_uri": "https://localhost:8080/"
        },
        "id": "6voXCLzZ4yIp",
        "outputId": "bb55e3a3-9ade-4b48-a631-fdcb0f3ad619"
      },
      "execution_count": 11,
      "outputs": [
        {
          "output_type": "execute_result",
          "data": {
            "text/plain": [
              "LinearRegression()"
            ]
          },
          "metadata": {},
          "execution_count": 11
        }
      ]
    },
    {
      "cell_type": "markdown",
      "source": [
        "##### Intercept and Coefficients for the Model"
      ],
      "metadata": {
        "id": "Wned2E5j5AcH"
      }
    },
    {
      "cell_type": "markdown",
      "source": [
        "بعدها نوجد قيم المعاملات اللي حصلنا عليه من عملية التدريب للنموذج (يعني نكتب المعادلة حق الانحدار الخطي)"
      ],
      "metadata": {
        "id": "9zznQnnt0x0G"
      }
    },
    {
      "cell_type": "markdown",
      "source": [
        "$y = b_0 + b_1*x_1 + b_2*x_2 + b_3*x_3$\\\n",
        "$Where:$\\\n",
        "$y:$ Dependent variable\\\n",
        "$x_1,x_2,x_3:$ Independent variables\\\n",
        "$b_0:$ Intercept\\\n",
        "$b_1,b_2,b_3:$ coefficients"
      ],
      "metadata": {
        "id": "8kUuuJL15Qgj"
      }
    },
    {
      "cell_type": "code",
      "source": [
        "print(\"Interpect = {}\\nCoefficients = {}\".format(lr.intercept_, lr.coef_))"
      ],
      "metadata": {
        "colab": {
          "base_uri": "https://localhost:8080/"
        },
        "id": "8egABJPw48fY",
        "outputId": "a5016074-01c6-4862-84a9-5cb746283b2c"
      },
      "execution_count": 12,
      "outputs": [
        {
          "output_type": "stream",
          "name": "stdout",
          "text": [
            "Interpect = 4.741842244124568\n",
            "Coefficients = [0.05461383 0.09975946 0.00430495]\n"
          ]
        }
      ]
    },
    {
      "cell_type": "markdown",
      "source": [
        "> Intercept : $b_0=4.7418$\\\n",
        "Coefficients : \\\n",
        "$b_1=0.05461383$ (Coefficient for TV)\\\n",
        "$b_2=0.09975946$ (Coefficient for Radio)\\\n",
        "$b_3=0.00430495$ (Coefficient for Newspaper)"
      ],
      "metadata": {
        "id": "E6FpDGMY7yug"
      }
    },
    {
      "cell_type": "code",
      "source": [
        "b0 = lr.intercept_\n",
        "b1 = lr.coef_[0] # Coefficient for TV\n",
        "b2 = lr.coef_[1] # Coefficient for Radio\n",
        "b3 = lr.coef_[2] # Coefficient for Newspaper"
      ],
      "metadata": {
        "id": "MV33gX9e9tE9"
      },
      "execution_count": 13,
      "outputs": []
    },
    {
      "cell_type": "markdown",
      "source": [
        "هذه هي المعادلة بعد ما عملنا training for model\\\n",
        "أو تسمى كذلك\\\n",
        "Fitting Model\\\n",
        "$y = 4.7418 + 0.0546*x_1 + 0.0998*x_2 + 0.0043*x_3$"
      ],
      "metadata": {
        "id": "R-iDWLm31JJY"
      }
    },
    {
      "cell_type": "markdown",
      "source": [
        "##### Model Evaluation\n",
        "عشان نقيم النموذج حقنا نحتاج نختبرها قبل ذلك.\n",
        "\n",
        "راح نشوف ايش هو الفرق بين:\n",
        "- r-squared\n",
        "- adjusted r-squared\n",
        "\n",
        "ومتى المفترض نتسخدم كل واحد فيهم في عملية نقييم النموذج\n",
        "\n",
        "Interpreting Results with Adjusted R Squared\n",
        "\n",
        "$ Adjusted\\ R^2=1-\\frac{(1-R^2)(N-1)}{N-p-1}$\\\n",
        "where:\\\n",
        "$R^2:$ Sample R-Squared\\\n",
        "$N:$ Total Sample Size\\\n",
        "$p:$ Number of independent variable"
      ],
      "metadata": {
        "id": "_Sq3oboiARsb"
      }
    },
    {
      "cell_type": "markdown",
      "source": [
        "###### Finding $R^2$\n",
        "When using **more than one predictor** R squared is **not convenient** to see our model performance."
      ],
      "metadata": {
        "id": "7_3PPe1DCxT3"
      }
    },
    {
      "cell_type": "markdown",
      "source": [
        "هنا راح نستخدم البيانات اللي فصلناها عشان نستخدمها في الاختبار\n",
        "\n",
        "using the testing data"
      ],
      "metadata": {
        "id": "_wXclwx32Zbo"
      }
    },
    {
      "cell_type": "code",
      "source": [
        "lr.predict(X_test)"
      ],
      "metadata": {
        "colab": {
          "base_uri": "https://localhost:8080/"
        },
        "outputId": "be45b1aa-1792-43c9-8c4a-ce52ca1a2d3c",
        "id": "YSxfRyfuCqhw"
      },
      "execution_count": 14,
      "outputs": [
        {
          "output_type": "execute_result",
          "data": {
            "text/plain": [
              "array([17.04041233, 20.39964377, 23.74740099,  9.25653209, 21.67525948,\n",
              "       12.56179334, 21.07865662,  8.70895483, 17.28353601, 16.68491851,\n",
              "        8.92573172,  8.50762572, 18.2530284 ,  8.06003145, 12.68447869,\n",
              "       14.96677492,  8.12198913, 17.91906169, 11.01929198, 20.4979062 ,\n",
              "       20.81737524, 12.58662099, 10.88870324, 22.39692163,  9.44183427,\n",
              "        7.95532725, 20.83706013, 13.83997207, 10.79282849,  7.92309626,\n",
              "       16.00432589, 10.64496918, 20.79094843, 10.40916722, 21.61788525,\n",
              "       21.1954234 , 12.10497731, 22.82970275, 12.63229447,  6.49245031,\n",
              "       11.94463925, 15.3638056 ,  9.91037996,  9.48003396, 17.28192106,\n",
              "        7.25660905, 10.36937236, 15.25293577, 11.17116856, 11.72114226])"
            ]
          },
          "metadata": {},
          "execution_count": 14
        }
      ]
    },
    {
      "cell_type": "code",
      "source": [
        "y_pred = lr.predict(X_test) # predict test data"
      ],
      "metadata": {
        "id": "5_jM6bQcCqiI"
      },
      "execution_count": 15,
      "outputs": []
    },
    {
      "cell_type": "markdown",
      "source": [
        "sklearn.metrics.r2_score\\\n",
        "https://scikit-learn.org/stable/modules/generated/sklearn.metrics.r2_score.html"
      ],
      "metadata": {
        "id": "5XKnrjHKCqiL"
      }
    },
    {
      "cell_type": "code",
      "source": [
        "from sklearn.metrics import r2_score"
      ],
      "metadata": {
        "id": "l5NgAaxlCqiL"
      },
      "execution_count": 16,
      "outputs": []
    },
    {
      "cell_type": "code",
      "source": [
        "r2_score(y_test,y_pred)"
      ],
      "metadata": {
        "colab": {
          "base_uri": "https://localhost:8080/"
        },
        "id": "HRcyooRQDEMm",
        "outputId": "7e8abcf3-f9a3-4677-9532-b161f27727fd"
      },
      "execution_count": 17,
      "outputs": [
        {
          "output_type": "execute_result",
          "data": {
            "text/plain": [
              "0.9115647723992757"
            ]
          },
          "metadata": {},
          "execution_count": 17
        }
      ]
    },
    {
      "cell_type": "code",
      "source": [
        "r_squared = r2_score(y_test,y_pred) # calculate r2 score"
      ],
      "metadata": {
        "id": "aEhcYOMsDLij"
      },
      "execution_count": 18,
      "outputs": []
    },
    {
      "cell_type": "code",
      "source": [
        "print('R2 Score is :',round(r_squared,4)*100,\"%\")"
      ],
      "metadata": {
        "colab": {
          "base_uri": "https://localhost:8080/"
        },
        "id": "hVumBwu9DD_g",
        "outputId": "4da3e6ad-e119-4de8-ae0d-e52aec3c881b"
      },
      "execution_count": 19,
      "outputs": [
        {
          "output_type": "stream",
          "name": "stdout",
          "text": [
            "R2 Score is : 91.16 %\n"
          ]
        }
      ]
    },
    {
      "cell_type": "markdown",
      "source": [
        "> ملاحظة: لمن يكون لدينا أكثر من متغير مستقل استخدام r-squared في هذه الحالة لايكون مناسبًا لتقييم أداء النموذج\n",
        "\n",
        "مشكلتها أن الرقم اللي يطلع من الـ r-squared راح يزيد كل ما أضفنا متغير مستقل مما يعطي انطباع أن النموذج قاعد يتحسن"
      ],
      "metadata": {
        "id": "s48phaHb3q0B"
      }
    },
    {
      "cell_type": "markdown",
      "source": [
        "###### Finding Adjusted $R^2$\n",
        "Adjusted R Squared has the capability to decrease with the addition of less significant variables, thus resulting in a more reliable and accurate evaluation."
      ],
      "metadata": {
        "id": "sDjV2xzXDz0L"
      }
    },
    {
      "cell_type": "markdown",
      "source": [
        "راح نستخدم قيمة r-squared بداخل الـ adjusted r-squared"
      ],
      "metadata": {
        "id": "9ttoeXNj9ik9"
      }
    },
    {
      "cell_type": "markdown",
      "source": [
        "Adjusted R Squared\n",
        "\n",
        "$ Adjusted\\ R^2=1-\\frac{(1-R^2)(N-1)}{N-p-1}$"
      ],
      "metadata": {
        "id": "JhFZhCTP-bZ1"
      }
    },
    {
      "cell_type": "markdown",
      "source": [
        "$R^2:$ Sample R-Squared"
      ],
      "metadata": {
        "id": "_CFlBiXj-sNb"
      }
    },
    {
      "cell_type": "code",
      "source": [
        "from sklearn.metrics import r2_score\n",
        "y_pred = lr.predict(X_test) # predict test data\n",
        "r_squared = r2_score(y_test,y_pred) # calculate r2 score\n",
        "print(\"Sample R-Squared = {}\".format(r_squared))"
      ],
      "metadata": {
        "colab": {
          "base_uri": "https://localhost:8080/"
        },
        "id": "p3iL-hq5-bCY",
        "outputId": "2d8266f9-3fb0-473c-eadb-770b714720a2"
      },
      "execution_count": 20,
      "outputs": [
        {
          "output_type": "stream",
          "name": "stdout",
          "text": [
            "Sample R-Squared = 0.9115647723992757\n"
          ]
        }
      ]
    },
    {
      "cell_type": "markdown",
      "source": [
        "$N:$ Total Sample Size"
      ],
      "metadata": {
        "id": "rEypS6qJ-eI5"
      }
    },
    {
      "cell_type": "code",
      "source": [
        "N = len(y)\n",
        "print(\"Total Sample Size = {}\".format(N))"
      ],
      "metadata": {
        "colab": {
          "base_uri": "https://localhost:8080/"
        },
        "id": "5kgceHfI-a-8",
        "outputId": "af4fb751-cad4-4636-8e71-ddc37abe4d0e"
      },
      "execution_count": 22,
      "outputs": [
        {
          "output_type": "stream",
          "name": "stdout",
          "text": [
            "Total Sample Size = 200\n"
          ]
        }
      ]
    },
    {
      "cell_type": "markdown",
      "source": [
        "$p:$ Number of independent variable"
      ],
      "metadata": {
        "id": "35hYuTmd-end"
      }
    },
    {
      "cell_type": "code",
      "source": [
        "X.shape"
      ],
      "metadata": {
        "colab": {
          "base_uri": "https://localhost:8080/"
        },
        "id": "EU8_ILcY-a58",
        "outputId": "b1ad7278-210f-40de-bcd3-080c32cb6327"
      },
      "execution_count": 23,
      "outputs": [
        {
          "output_type": "execute_result",
          "data": {
            "text/plain": [
              "(200, 3)"
            ]
          },
          "metadata": {},
          "execution_count": 23
        }
      ]
    },
    {
      "cell_type": "code",
      "source": [
        "p = X.shape[1]\n",
        "print(\"Number of independent variable = {}\".format(p))"
      ],
      "metadata": {
        "colab": {
          "base_uri": "https://localhost:8080/"
        },
        "id": "HINEkIwx_xbu",
        "outputId": "3618ce1b-1b01-4b22-c341-3c1b273f97d4"
      },
      "execution_count": 24,
      "outputs": [
        {
          "output_type": "stream",
          "name": "stdout",
          "text": [
            "Number of independent variable = 3\n"
          ]
        }
      ]
    },
    {
      "cell_type": "code",
      "source": [
        "adjusted_r_squared = 1 - (1 - r_squared)*(N-1)/(N-p-1)\n",
        "print(\"Adjusted r-squared = {:.2%}\".format(adjusted_r_squared))"
      ],
      "metadata": {
        "colab": {
          "base_uri": "https://localhost:8080/"
        },
        "id": "nz1qYYi1D7Tf",
        "outputId": "3edc5486-82f8-497f-bdd7-a5ae5f43ed53"
      },
      "execution_count": 28,
      "outputs": [
        {
          "output_type": "stream",
          "name": "stdout",
          "text": [
            "Adjusted r-squared = 91.02%\n"
          ]
        }
      ]
    },
    {
      "cell_type": "markdown",
      "source": [
        "##### Predict New Sales"
      ],
      "metadata": {
        "id": "vv7j5dKP_uRE"
      }
    },
    {
      "cell_type": "markdown",
      "source": [
        "كم المبيعات المتوقعة لو انفقنا في إعلانات التلفزيون 200 دولار و إعلانات الإذاعة 50 دولار و أخيرًا إعلانات الصحف 20 دولار؟"
      ],
      "metadata": {
        "id": "WNJ0vtOx9JUv"
      }
    },
    {
      "cell_type": "code",
      "source": [
        "y = b0 + b1 * 200 + b2 * 50 + b3 * 20\n",
        "print(\"The predicted new sales is {:.4}\".format(y))"
      ],
      "metadata": {
        "colab": {
          "base_uri": "https://localhost:8080/"
        },
        "id": "43vd0gv169GC",
        "outputId": "3a66ac99-5aff-4a7d-a6ab-cfaed67ac78f"
      },
      "execution_count": 29,
      "outputs": [
        {
          "output_type": "stream",
          "name": "stdout",
          "text": [
            "The predicted new sales is 20.74\n"
          ]
        }
      ]
    },
    {
      "cell_type": "markdown",
      "source": [
        "أو يمكن استخدام الطريقة التالية لإيجاد نفس الناتج"
      ],
      "metadata": {
        "id": "8oH-nZOP_EuZ"
      }
    },
    {
      "cell_type": "code",
      "source": [
        "round(lr.predict([[200,50,20]])[0],2)"
      ],
      "metadata": {
        "colab": {
          "base_uri": "https://localhost:8080/"
        },
        "id": "cQniztOL-SAy",
        "outputId": "a41e1d32-b3ac-476e-9df5-3c18dfcf8c88"
      },
      "execution_count": 30,
      "outputs": [
        {
          "output_type": "stream",
          "name": "stderr",
          "text": [
            "/usr/local/lib/python3.7/dist-packages/sklearn/base.py:451: UserWarning: X does not have valid feature names, but LinearRegression was fitted with feature names\n",
            "  \"X does not have valid feature names, but\"\n"
          ]
        },
        {
          "output_type": "execute_result",
          "data": {
            "text/plain": [
              "20.74"
            ]
          },
          "metadata": {},
          "execution_count": 30
        }
      ]
    },
    {
      "cell_type": "code",
      "source": [
        "lr.predict([[200,50,20]])"
      ],
      "metadata": {
        "colab": {
          "base_uri": "https://localhost:8080/"
        },
        "id": "ILEMIwHE_Zyn",
        "outputId": "b0087d8f-d0ed-4590-d5f5-539233a31fbb"
      },
      "execution_count": 31,
      "outputs": [
        {
          "output_type": "stream",
          "name": "stderr",
          "text": [
            "/usr/local/lib/python3.7/dist-packages/sklearn/base.py:451: UserWarning: X does not have valid feature names, but LinearRegression was fitted with feature names\n",
            "  \"X does not have valid feature names, but\"\n"
          ]
        },
        {
          "output_type": "execute_result",
          "data": {
            "text/plain": [
              "array([20.73868129])"
            ]
          },
          "metadata": {},
          "execution_count": 31
        }
      ]
    }
  ]
}